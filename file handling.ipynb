{
 "cells": [
  {
   "cell_type": "code",
   "execution_count": 5,
   "id": "fb4c44c2-47b8-408e-a0c9-d384e2b7d8e2",
   "metadata": {},
   "outputs": [
    {
     "name": "stdout",
     "output_type": "stream",
     "text": [
      "print('''This is Daksh Module in python\n",
      "Info: https://www.google.com/''')\n",
      "\n",
      "\n",
      "def check_palindrome(word:str):\n",
      "  if type(word) == str:\n",
      "    word = word.upper()\n",
      "    if word == word[::-1]:\n",
      "      return 'Palindrome'\n",
      "    else:\n",
      "      return 'Not a Plaindrome'\n",
      "  else:\n",
      "    return 'Invalid Data Type'\n",
      "\n",
      "def give_fibo(n):\n",
      "  fibo = [0,1]\n",
      "  for i in range(n-2):\n",
      "     last_num = fibo[-1]\n",
      "     second_last_num = fibo[-2]\n",
      "     next_num = last_num + second_last_num\n",
      "     fibo.append(next_num)\n",
      "  return fibo\n",
      "\n",
      "def check_prime(number):\n",
      "    for i in range(2,number):\n",
      "        if number % i == 0:\n",
      "            return 'Not a Prime Number'\n",
      "            break\n",
      "            print('Happy Holi')\n",
      "    else:\n",
      "        return 'Prime Number'\n",
      "\n",
      "def print_star(n = 5, typ = 'left',shape = '*'):\n",
      "  if typ  == 'left':\n",
      "    space  = ''\n",
      "\n",
      "  elif typ == 'right':\n",
      "    space = '  '\n",
      "\n",
      "  elif typ == 'mid':\n",
      "    space = ' '\n",
      "\n",
      "  for i in range(1,n+1):\n",
      "    print(space*(n-i) + i*f'{shape} ')\n",
      "\n",
      "\n",
      "def sum_of_n_natural_numbers(n):\n",
      "    result = 0\n",
      "    for i in range(1,n+1):\n",
      "        result += i\n",
      "    return result\n",
      "\n",
      "\n",
      "def factorial(n):\n",
      "    result = 1\n",
      "    for i in range(1,n+1):\n",
      "        result *= i\n",
      "    return result\n",
      "\n",
      "\n",
      "def total_sales(*args):\n",
      "  #unpacking\n",
      "  result = 0\n",
      "  for i in args:\n",
      "    result += i\n",
      "  return result\n",
      "\n",
      "\n",
      "def minn(*data):\n",
      "  min_ele = data[0]\n",
      "  for i in data[1:]:\n",
      "    if i< min_ele:\n",
      "      min_ele = i\n",
      "  return min_ele\n",
      "\n",
      "\n",
      "\n",
      "def store_records(name,age,sec,roll_no,Class):\n",
      "  data = {'Name':name,'Age':age,'Sec':sec,'Roll_NO':roll_no,'Class':Class}\n",
      "  import pandas as pd\n",
      "  result = pd.DataFrame(data,index = [0])\n",
      "  return result\n",
      "\n",
      "\n",
      "def student_records(**kwargs):\n",
      "  import pandas as pd\n",
      "  try:\n",
      "    data = pd.DataFrame(kwargs)\n",
      "    return data\n",
      "  except:\n",
      "    data = pd.DataFrame(kwargs,index = [1])\n",
      "    return data\n",
      "\n",
      "\n",
      "def show_time():\n",
      "  try:\n",
      "    while True:\n",
      "      import time\n",
      "      print(time.asctime())\n",
      "      time.sleep(1)\n",
      "      display(clear = True)\n",
      "  except:\n",
      "    print('Timer has been Stopped!!')\n",
      "\n",
      "\n",
      "def sound_box(paisa,platform = 'Paytm'):\n",
      "    from gtts import gTTS\n",
      "    text  = f'''{platform} par {paisa} rs Prapt hue.'''\n",
      "    audio = gTTS(text)\n",
      "    audio.save('paytm.mp3')\n",
      "\n",
      "    import pygame as p\n",
      "    p.init()\n",
      "\n",
      "    music = p.mixer.Sound('paytm.mp3')\n",
      "    music.play()\n",
      "\n",
      "\n",
      "\n"
     ]
    }
   ],
   "source": [
    "file = open('daksh1.py',mode = 'r')\n",
    "print(file.read())\n",
    "file.close()"
   ]
  },
  {
   "cell_type": "code",
   "execution_count": 8,
   "id": "9b3334b8-9320-4884-bd8f-ea66087b6f40",
   "metadata": {},
   "outputs": [
    {
     "name": "stdout",
     "output_type": "stream",
     "text": [
      "1818160317712\n",
      "1818160317712\n",
      "1818167124368\n"
     ]
    }
   ],
   "source": [
    "a = 'ajay'\n",
    "b = 'ajay'\n",
    "c = 'ajay!!'\n",
    "print(id(a))\n",
    "print(id(b))\n",
    "print(id(c))"
   ]
  },
  {
   "cell_type": "code",
   "execution_count": 10,
   "id": "c1a1cf03-0958-4fb9-8df1-1837dded1126",
   "metadata": {},
   "outputs": [
    {
     "data": {
      "text/plain": [
       "False"
      ]
     },
     "execution_count": 10,
     "metadata": {},
     "output_type": "execute_result"
    }
   ],
   "source": [
    "a is c"
   ]
  },
  {
   "cell_type": "code",
   "execution_count": 9,
   "id": "8cd7caf4-3b47-4c86-bce0-956fa4b88c9a",
   "metadata": {},
   "outputs": [
    {
     "data": {
      "text/plain": [
       "True"
      ]
     },
     "execution_count": 9,
     "metadata": {},
     "output_type": "execute_result"
    }
   ],
   "source": [
    "a is b"
   ]
  },
  {
   "cell_type": "code",
   "execution_count": 11,
   "id": "838ef48f-68f7-47ca-8f05-fb0d4cf075bd",
   "metadata": {},
   "outputs": [
    {
     "data": {
      "text/plain": [
       "False"
      ]
     },
     "execution_count": 11,
     "metadata": {},
     "output_type": "execute_result"
    }
   ],
   "source": [
    "b is c"
   ]
  },
  {
   "cell_type": "code",
   "execution_count": 12,
   "id": "f573cb0d-9772-4a6f-bfd0-07e96349cafd",
   "metadata": {},
   "outputs": [
    {
     "data": {
      "text/plain": [
       "True"
      ]
     },
     "execution_count": 12,
     "metadata": {},
     "output_type": "execute_result"
    }
   ],
   "source": [
    "b is a\n"
   ]
  },
  {
   "cell_type": "code",
   "execution_count": 13,
   "id": "493e08c9-766a-45a3-8bcb-4a59a8e5ca49",
   "metadata": {},
   "outputs": [],
   "source": [
    "f = open('daksh1.py',mode = 'r')"
   ]
  },
  {
   "cell_type": "code",
   "execution_count": 26,
   "id": "d1197b45-03d3-40bd-bdd4-bab5fa9d4713",
   "metadata": {},
   "outputs": [
    {
     "name": "stdout",
     "output_type": "stream",
     "text": [
      "    return 'Invalid Data Type'\n",
      "\n"
     ]
    }
   ],
   "source": [
    "print(f.readline())"
   ]
  },
  {
   "cell_type": "code",
   "execution_count": null,
   "id": "bf856c59-3dd3-4011-ab73-b75917cd5580",
   "metadata": {},
   "outputs": [],
   "source": []
  }
 ],
 "metadata": {
  "kernelspec": {
   "display_name": "Python [conda env:base] *",
   "language": "python",
   "name": "conda-base-py"
  },
  "language_info": {
   "codemirror_mode": {
    "name": "ipython",
    "version": 3
   },
   "file_extension": ".py",
   "mimetype": "text/x-python",
   "name": "python",
   "nbconvert_exporter": "python",
   "pygments_lexer": "ipython3",
   "version": "3.12.7"
  }
 },
 "nbformat": 4,
 "nbformat_minor": 5
}
