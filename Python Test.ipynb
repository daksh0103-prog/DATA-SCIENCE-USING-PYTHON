{
 "cells": [
  {
   "cell_type": "code",
   "execution_count": 2,
   "id": "adc93a15-1598-4bac-b649-1a96c1a0ff00",
   "metadata": {},
   "outputs": [],
   "source": [
    "#Section A"
   ]
  },
  {
   "cell_type": "code",
   "execution_count": 3,
   "id": "d3857707-03e7-4976-bd57-20be9009d6b6",
   "metadata": {},
   "outputs": [],
   "source": [
    "#Question 1 : What's the main difference between a list and a tuple in Python? Give one example of each."
   ]
  },
  {
   "cell_type": "code",
   "execution_count": null,
   "id": "cff6e0c4-fa21-41f4-883a-e99cd2ff9501",
   "metadata": {},
   "outputs": [],
   "source": []
  },
  {
   "cell_type": "code",
   "execution_count": 4,
   "id": "2471e319-1bc7-4143-9f57-5918bf88680c",
   "metadata": {},
   "outputs": [],
   "source": [
    "#Answer 1 : -"
   ]
  },
  {
   "cell_type": "code",
   "execution_count": 5,
   "id": "ca4340ff-9631-48f8-8b68-17c80589b177",
   "metadata": {},
   "outputs": [],
   "source": [
    "#The main difference between list and tuple is that list is mutuable which means that we can change alter or delete the elements of list according to our needs.\n",
    "#On the other hand tuple is immutuable which means that we are not capable to add delete or alter the elements of tuple"
   ]
  },
  {
   "cell_type": "code",
   "execution_count": 6,
   "id": "2314f28e-9954-42ba-8480-a0d7c8fe4aaa",
   "metadata": {},
   "outputs": [
    {
     "name": "stdout",
     "output_type": "stream",
     "text": [
      "<class 'list'>\n",
      "<class 'tuple'>\n"
     ]
    }
   ],
   "source": [
    "a = [1,2,3,4,5]\n",
    "print(type(a))\n",
    "\n",
    "b = (1,3,5,7,9)\n",
    "print(type(b))"
   ]
  },
  {
   "cell_type": "code",
   "execution_count": 7,
   "id": "74f51532-3410-4ca6-bb8a-8af65101992c",
   "metadata": {},
   "outputs": [
    {
     "name": "stdout",
     "output_type": "stream",
     "text": [
      "[1, 2, 3, 4, 7]\n"
     ]
    }
   ],
   "source": [
    "#Altering list\n",
    "a[4] = 7\n",
    "print(a)"
   ]
  },
  {
   "cell_type": "code",
   "execution_count": 8,
   "id": "eb68dd42-d2c6-4d85-b167-72a7c42f2a08",
   "metadata": {},
   "outputs": [
    {
     "ename": "TypeError",
     "evalue": "'tuple' object does not support item assignment",
     "output_type": "error",
     "traceback": [
      "\u001b[31m---------------------------------------------------------------------------\u001b[39m",
      "\u001b[31mTypeError\u001b[39m                                 Traceback (most recent call last)",
      "\u001b[36mCell\u001b[39m\u001b[36m \u001b[39m\u001b[32mIn[8]\u001b[39m\u001b[32m, line 2\u001b[39m\n\u001b[32m      1\u001b[39m \u001b[38;5;66;03m#Altering Tuple\u001b[39;00m\n\u001b[32m----> \u001b[39m\u001b[32m2\u001b[39m \u001b[43mb\u001b[49m\u001b[43m[\u001b[49m\u001b[32;43m4\u001b[39;49m\u001b[43m]\u001b[49m = \u001b[32m8\u001b[39m\n\u001b[32m      3\u001b[39m \u001b[38;5;28mprint\u001b[39m(b)\n\u001b[32m      4\u001b[39m \u001b[38;5;66;03m#It will show a error as tuple is immutuable\u001b[39;00m\n",
      "\u001b[31mTypeError\u001b[39m: 'tuple' object does not support item assignment"
     ]
    }
   ],
   "source": [
    "#Altering Tuple\n",
    "b[4] = 8\n",
    "print(b)\n",
    "#It will show a error as tuple is immutuable"
   ]
  },
  {
   "cell_type": "code",
   "execution_count": 9,
   "id": "003df735-523b-4b26-9a4e-17cf43ce2a95",
   "metadata": {},
   "outputs": [],
   "source": [
    "b = list(a)#Now we have converted the b tuple into list so that we can do alterations"
   ]
  },
  {
   "cell_type": "code",
   "execution_count": 10,
   "id": "180a4468-89a4-4521-8a44-23d34d106ce7",
   "metadata": {},
   "outputs": [
    {
     "data": {
      "text/plain": [
       "list"
      ]
     },
     "execution_count": 10,
     "metadata": {},
     "output_type": "execute_result"
    }
   ],
   "source": [
    "type(b)"
   ]
  },
  {
   "cell_type": "code",
   "execution_count": null,
   "id": "378070c4-51a4-445f-ae63-1fa36c40ce03",
   "metadata": {},
   "outputs": [],
   "source": []
  },
  {
   "cell_type": "code",
   "execution_count": null,
   "id": "fa25e029-d811-4890-ba14-e1e0f4c6db91",
   "metadata": {},
   "outputs": [],
   "source": []
  },
  {
   "cell_type": "code",
   "execution_count": 11,
   "id": "fa1e8f7f-32ba-4f49-a6a6-caf4c01895a6",
   "metadata": {},
   "outputs": [],
   "source": [
    "#Question 2 : Explain what happens when you use the input() function in Python. What data type does it return,and how would you convert it to an integer?"
   ]
  },
  {
   "cell_type": "code",
   "execution_count": null,
   "id": "826a4998-5db7-4d8a-9530-e186638c7085",
   "metadata": {},
   "outputs": [],
   "source": []
  },
  {
   "cell_type": "code",
   "execution_count": 12,
   "id": "3aadeb33-88ce-40be-b9e6-390f9a80b1d1",
   "metadata": {},
   "outputs": [],
   "source": [
    "#Answer 2:-"
   ]
  },
  {
   "cell_type": "code",
   "execution_count": 13,
   "id": "5dda2a32-2325-49f2-a21e-fe22bc344dc2",
   "metadata": {},
   "outputs": [],
   "source": [
    "# The purpose of using input function in python is to make the user input the data which will be stored and used later on."
   ]
  },
  {
   "cell_type": "code",
   "execution_count": 14,
   "id": "3faaa10a-282e-4d50-b4a0-95e7d536e97e",
   "metadata": {},
   "outputs": [],
   "source": [
    "#The input function will always return string data type whether we stored a integer or float value."
   ]
  },
  {
   "cell_type": "code",
   "execution_count": 15,
   "id": "4ed33eae-10e9-44b2-8934-4b2470cc75b4",
   "metadata": {},
   "outputs": [],
   "source": [
    "#If you want to convert the return type of input function to integer you will have to pass int before specificing the input function.\n",
    "#It will be like the below code:-"
   ]
  },
  {
   "cell_type": "code",
   "execution_count": 16,
   "id": "e2941d53-b413-4585-b3fa-895a6e13368b",
   "metadata": {},
   "outputs": [
    {
     "name": "stdin",
     "output_type": "stream",
     "text": [
      "Enter your age 18\n"
     ]
    },
    {
     "data": {
      "text/plain": [
       "18"
      ]
     },
     "execution_count": 16,
     "metadata": {},
     "output_type": "execute_result"
    }
   ],
   "source": [
    "a = int(input('Enter your age'))\n",
    "a"
   ]
  },
  {
   "cell_type": "code",
   "execution_count": 20,
   "id": "212ff5c2-0574-4a1b-9575-65173022bb3b",
   "metadata": {},
   "outputs": [
    {
     "name": "stdin",
     "output_type": "stream",
     "text": [
      "Enter your age daksh\n"
     ]
    },
    {
     "ename": "ValueError",
     "evalue": "invalid literal for int() with base 10: 'daksh'",
     "output_type": "error",
     "traceback": [
      "\u001b[31m---------------------------------------------------------------------------\u001b[39m",
      "\u001b[31mValueError\u001b[39m                                Traceback (most recent call last)",
      "\u001b[36mCell\u001b[39m\u001b[36m \u001b[39m\u001b[32mIn[20]\u001b[39m\u001b[32m, line 1\u001b[39m\n\u001b[32m----> \u001b[39m\u001b[32m1\u001b[39m a = \u001b[38;5;28;43mint\u001b[39;49m\u001b[43m(\u001b[49m\u001b[38;5;28;43minput\u001b[39;49m\u001b[43m(\u001b[49m\u001b[33;43m'\u001b[39;49m\u001b[33;43mEnter your age\u001b[39;49m\u001b[33;43m'\u001b[39;49m\u001b[43m)\u001b[49m\u001b[43m)\u001b[49m\n\u001b[32m      2\u001b[39m a\n\u001b[32m      3\u001b[39m \u001b[38;5;66;03m#Now if we will be trying to pass data which is not of int type it will return us an error.\u001b[39;00m\n",
      "\u001b[31mValueError\u001b[39m: invalid literal for int() with base 10: 'daksh'"
     ]
    }
   ],
   "source": [
    "a = int(input('Enter your age'))\n",
    "a\n",
    "#Now if we will be trying to pass data which is not of int type it will return us an error."
   ]
  },
  {
   "cell_type": "code",
   "execution_count": null,
   "id": "7206ef7c-761b-44c7-91ec-fd6a01558c69",
   "metadata": {},
   "outputs": [],
   "source": []
  },
  {
   "cell_type": "code",
   "execution_count": null,
   "id": "f6e464fd-255d-42fc-bdfd-433bc47facf2",
   "metadata": {},
   "outputs": [],
   "source": []
  },
  {
   "cell_type": "code",
   "execution_count": null,
   "id": "26a32dc8-c21d-4de1-a91f-b04476f918c6",
   "metadata": {},
   "outputs": [],
   "source": []
  },
  {
   "cell_type": "code",
   "execution_count": 21,
   "id": "66793a0f-a1df-40cb-8858-c5c28b87d776",
   "metadata": {},
   "outputs": [],
   "source": [
    "#Question 3 : What are Python dictionaries? Write the syntax to create a dictionary with three key-value pairs."
   ]
  },
  {
   "cell_type": "code",
   "execution_count": null,
   "id": "d2f3c11a-3ce2-492c-bd42-5c4d618e0baa",
   "metadata": {},
   "outputs": [],
   "source": []
  },
  {
   "cell_type": "code",
   "execution_count": 22,
   "id": "62e21574-42dd-4504-b3c6-44c3073c0cc7",
   "metadata": {},
   "outputs": [],
   "source": [
    "#Answer 3 :-"
   ]
  },
  {
   "cell_type": "code",
   "execution_count": 23,
   "id": "38b5a6b8-f052-4508-9f1d-60594f078a0e",
   "metadata": {},
   "outputs": [],
   "source": [
    "#Dictonaries are a type of data structure that we use to store data in key:value pairs. They are mutuable objects"
   ]
  },
  {
   "cell_type": "code",
   "execution_count": 26,
   "id": "b0cceb60-3ba2-4db9-ba29-e420ead79507",
   "metadata": {},
   "outputs": [],
   "source": [
    "dict = {\n",
    "    \"age\" : 19,\n",
    "    \"name\" : \"daksh\",\n",
    "    \"address\" : \"delhi\"\n",
    "}"
   ]
  },
  {
   "cell_type": "code",
   "execution_count": 27,
   "id": "f27ce287-e26e-4e8d-bc17-6387a4ce63f4",
   "metadata": {},
   "outputs": [
    {
     "data": {
      "text/plain": [
       "{'age': 19, 'name': 'daksh', 'address': 'delhi'}"
      ]
     },
     "execution_count": 27,
     "metadata": {},
     "output_type": "execute_result"
    }
   ],
   "source": [
    "dict"
   ]
  },
  {
   "cell_type": "code",
   "execution_count": null,
   "id": "88b0fee1-12ed-4640-9188-c673d93b91c6",
   "metadata": {},
   "outputs": [],
   "source": []
  },
  {
   "cell_type": "code",
   "execution_count": null,
   "id": "4cd40cf9-08c0-4b49-9391-677476dafba5",
   "metadata": {},
   "outputs": [],
   "source": []
  },
  {
   "cell_type": "code",
   "execution_count": null,
   "id": "2cd63b4c-e8fd-4258-b6c0-fe2dc6a2fee2",
   "metadata": {},
   "outputs": [],
   "source": []
  },
  {
   "cell_type": "code",
   "execution_count": 28,
   "id": "938a7a6a-1fa8-41d3-8cc3-ce110775861e",
   "metadata": {},
   "outputs": [],
   "source": [
    "#Question 4 : Describe what a for loop does in Python. Write a simple example that prints numbers 1 to 5."
   ]
  },
  {
   "cell_type": "code",
   "execution_count": null,
   "id": "9213bfd1-e7fd-43f1-9387-21dc9e5f9435",
   "metadata": {},
   "outputs": [],
   "source": []
  },
  {
   "cell_type": "code",
   "execution_count": 29,
   "id": "4b89d547-4aa7-4a42-86b6-06311d850470",
   "metadata": {},
   "outputs": [],
   "source": [
    "#Answer 4 :-"
   ]
  },
  {
   "cell_type": "code",
   "execution_count": 30,
   "id": "dc0f1ccd-095a-4589-a970-248d5e039b32",
   "metadata": {},
   "outputs": [],
   "source": [
    "# For loop is used in python to execute a particular block of code for a specified spans of time. It is a iterative method.\n",
    "#Syntax:\n",
    "#for variable in sequence:"
   ]
  },
  {
   "cell_type": "code",
   "execution_count": 34,
   "id": "285e41bc-48fc-463b-933b-29be6506b366",
   "metadata": {},
   "outputs": [
    {
     "name": "stdout",
     "output_type": "stream",
     "text": [
      "1\n",
      "2\n",
      "3\n",
      "4\n",
      "5\n"
     ]
    }
   ],
   "source": [
    "for i in range(1,6):\n",
    "    print(i)"
   ]
  },
  {
   "cell_type": "code",
   "execution_count": 35,
   "id": "c8c483c3-ee5f-4dd3-bd3a-1a24ddc2bc81",
   "metadata": {},
   "outputs": [],
   "source": [
    "#Question 5 : What is exception handling in Python? Explain the purpose of try , except , and finally blocks with a basic example."
   ]
  },
  {
   "cell_type": "code",
   "execution_count": null,
   "id": "ecd38ffb-1537-4e4f-bbc7-b5ca9488d9a3",
   "metadata": {},
   "outputs": [],
   "source": []
  },
  {
   "cell_type": "code",
   "execution_count": 36,
   "id": "0d68249e-587b-4778-9b29-5871c000b756",
   "metadata": {},
   "outputs": [],
   "source": [
    "#Answer 5:-"
   ]
  },
  {
   "cell_type": "code",
   "execution_count": 37,
   "id": "4cffd8bb-8453-4ebc-92da-bd254e38fefc",
   "metadata": {},
   "outputs": [],
   "source": [
    "#First of all lets clear the difference between error and exception\n",
    "#Error is basically a system level problem. It is done by user. Like syntax error\n",
    "#Exception is basically a program level problem. Like file not found exception"
   ]
  },
  {
   "cell_type": "code",
   "execution_count": 39,
   "id": "378dd720-1c8e-49dc-978e-bc24967e8cd7",
   "metadata": {},
   "outputs": [],
   "source": [
    "#If you think your code might get an exception you can put that block of code inside a try block. The except will handle the exception if any occurs.\n",
    "#The finally is used to run the block the specified block the code even if fails to handle the exception. \n",
    "#Generally if exception is failed to be handled the rest of code will not get executed. But the code inside finally block will always run."
   ]
  },
  {
   "cell_type": "code",
   "execution_count": 40,
   "id": "eaba44b9-9151-416d-8509-2cafd3e82258",
   "metadata": {},
   "outputs": [],
   "source": [
    "#Example:\n"
   ]
  },
  {
   "cell_type": "code",
   "execution_count": 41,
   "id": "5f06ba30-80e5-4d21-be30-b5c3931ce7f4",
   "metadata": {},
   "outputs": [
    {
     "name": "stdout",
     "output_type": "stream",
     "text": [
      "You cannot divide a value by 0\n",
      "This block will always run\n"
     ]
    }
   ],
   "source": [
    "try:\n",
    "    a = 10\n",
    "    b = 0\n",
    "    c = a/b\n",
    "    print('a + b ',c)\n",
    "\n",
    "except ZeroDivisionError:\n",
    "    print('You cannot divide a value by 0')\n",
    "\n",
    "finally:\n",
    "    print('This block will always run')"
   ]
  },
  {
   "cell_type": "code",
   "execution_count": null,
   "id": "1a5a172b-4da9-4982-b58e-841bd6535386",
   "metadata": {},
   "outputs": [],
   "source": []
  },
  {
   "cell_type": "code",
   "execution_count": null,
   "id": "ba6042e3-0c80-4e11-8f8a-bbe3459b11fc",
   "metadata": {},
   "outputs": [],
   "source": []
  },
  {
   "cell_type": "code",
   "execution_count": null,
   "id": "8ad4c8b0-f0db-4823-b0c6-ff466d1807c3",
   "metadata": {},
   "outputs": [],
   "source": []
  },
  {
   "cell_type": "code",
   "execution_count": 42,
   "id": "472fcd6f-af34-459f-b81c-4aa7ab38872a",
   "metadata": {},
   "outputs": [],
   "source": [
    "#Question 6: What are Python modules? Explain the difference between import math and from math import sqrt .Give examples of how you'd use both."
   ]
  },
  {
   "cell_type": "code",
   "execution_count": null,
   "id": "e149b625-6001-421e-bec7-e50a9de347f8",
   "metadata": {},
   "outputs": [],
   "source": []
  },
  {
   "cell_type": "code",
   "execution_count": 43,
   "id": "e683bd90-323d-4ea1-b371-e2b31939bf0d",
   "metadata": {},
   "outputs": [],
   "source": [
    "#Answer 6:-"
   ]
  },
  {
   "cell_type": "code",
   "execution_count": 44,
   "id": "7953d013-6c9c-4b76-82b0-b7c138ec02f0",
   "metadata": {},
   "outputs": [],
   "source": [
    "#Modules are used to store related functions and methods together which can be reused multiple times. They also save time."
   ]
  },
  {
   "cell_type": "code",
   "execution_count": 45,
   "id": "e268ce1a-f2f2-47bd-8b1c-3a9459d5392e",
   "metadata": {},
   "outputs": [],
   "source": [
    "#In python there are 2 types of modules:\n",
    "#1.Built-in modules: Modules that are created by python itself\n",
    "#2.User-Defined modules: These modules are created by user according to his needs"
   ]
  },
  {
   "cell_type": "code",
   "execution_count": 47,
   "id": "69aef49b-dd72-451d-a9d1-f3cecd98f4b0",
   "metadata": {},
   "outputs": [],
   "source": [
    "#import math is used to import math module which will contain all the mathematical functions which we can use to do mathematical calculations\n",
    "#from math import sqrt is used to import the sqrt function from math module. It is used when we just need to do square root calculations."
   ]
  },
  {
   "cell_type": "code",
   "execution_count": 52,
   "id": "8af85a06-3a9e-480c-bb3d-ae6448676d96",
   "metadata": {},
   "outputs": [
    {
     "name": "stdout",
     "output_type": "stream",
     "text": [
      "Factorial of 5 is :  24\n"
     ]
    }
   ],
   "source": [
    "#Code of using whole math modules\n",
    "import math\n",
    "factorial = math.factorial(4)\n",
    "print('Factorial of 5 is : ',factorial)"
   ]
  },
  {
   "cell_type": "code",
   "execution_count": 53,
   "id": "cd39fa01-377f-41d8-8469-173131666ab6",
   "metadata": {},
   "outputs": [],
   "source": [
    "#Code of using only sqrt function of math module"
   ]
  },
  {
   "cell_type": "code",
   "execution_count": 55,
   "id": "98d75ab3-1503-4575-a00d-4d9eb7b4a38c",
   "metadata": {},
   "outputs": [
    {
     "name": "stdout",
     "output_type": "stream",
     "text": [
      "Square root of 10 is :  2.0\n"
     ]
    }
   ],
   "source": [
    "from math import sqrt\n",
    "num = 4\n",
    "sqrt = math.sqrt(num)\n",
    "print('Square root of 10 is : ',sqrt)"
   ]
  },
  {
   "cell_type": "code",
   "execution_count": null,
   "id": "8b8d87eb-71a9-450d-91b2-2e5d1fec2597",
   "metadata": {},
   "outputs": [],
   "source": []
  },
  {
   "cell_type": "code",
   "execution_count": null,
   "id": "bbd220f5-ad10-4d7e-ae53-20601e7b5d12",
   "metadata": {},
   "outputs": [],
   "source": []
  },
  {
   "cell_type": "code",
   "execution_count": null,
   "id": "43d545b2-fbc7-4911-9309-f836ea084dd5",
   "metadata": {},
   "outputs": [],
   "source": []
  },
  {
   "cell_type": "code",
   "execution_count": 3,
   "id": "f63b3423-2586-4bf8-a54f-0018f1c3814d",
   "metadata": {},
   "outputs": [],
   "source": [
    "#Question 7 : Explain what object-oriented programming means in Python. What are classes and objects? Give a simple example."
   ]
  },
  {
   "cell_type": "code",
   "execution_count": null,
   "id": "2d75adcf-7563-4193-85e1-687042551c85",
   "metadata": {},
   "outputs": [],
   "source": []
  },
  {
   "cell_type": "code",
   "execution_count": null,
   "id": "55376357-c3be-44eb-95d8-78c27e2ebdc4",
   "metadata": {},
   "outputs": [],
   "source": [
    "#Answer 7 :-"
   ]
  },
  {
   "cell_type": "code",
   "execution_count": 57,
   "id": "39355749-9b96-4450-90c2-343d20a0867c",
   "metadata": {},
   "outputs": [],
   "source": [
    "#Object Oriented Programming is a concept that we use in multiple languages like C++, JAVA, Python.\n",
    "#It is basically used to organize code by creating classes and objects rather than using functions."
   ]
  },
  {
   "cell_type": "code",
   "execution_count": 58,
   "id": "0ae5f0ca-aaeb-4683-b434-6baa917c94ab",
   "metadata": {},
   "outputs": [],
   "source": [
    "#There are 4 main pillars of OOP:-\n",
    "#1.Polymorphism : It means many forms. Here multiple methods have the same name and same method inside the parenthesis\n",
    "#2.Inheritance : It is used to inherit the properties and behavior of parent class to child class\n",
    "#3.Abstraction : It is used to hide data implementation. It will show the data but will hide the implementation and backend process behind the data.\n",
    "#4.Encapsulation : It is used to combine multiple variables and methods inside a single class"
   ]
  },
  {
   "cell_type": "code",
   "execution_count": 59,
   "id": "39e7e449-088f-4c04-b200-b1234cc98dc5",
   "metadata": {},
   "outputs": [],
   "source": [
    "#Code to implement functions and methods"
   ]
  },
  {
   "cell_type": "code",
   "execution_count": 62,
   "id": "d1e51e2f-fd00-422f-862a-9efeba464922",
   "metadata": {},
   "outputs": [
    {
     "name": "stdout",
     "output_type": "stream",
     "text": [
      "Hii  Daksh of age 19\n",
      "Hii  Dhruv of age 20\n"
     ]
    }
   ],
   "source": [
    "class Person:\n",
    "    def __init__(self,name,age):\n",
    "        self.name = name\n",
    "        self.age = age\n",
    "\n",
    "    def greetings(self):\n",
    "        print('Hii ', self.name, 'of age', self.age)\n",
    "\n",
    "\n",
    "p1 = Person(\"Daksh\",19)\n",
    "p2 = Person(\"Dhruv\",20)\n",
    "\n",
    "p1.greetings()\n",
    "p2.greetings()"
   ]
  },
  {
   "cell_type": "code",
   "execution_count": null,
   "id": "acb10e39-6963-47da-bdca-a07b209a7a46",
   "metadata": {},
   "outputs": [],
   "source": []
  },
  {
   "cell_type": "code",
   "execution_count": null,
   "id": "6137e050-ce2d-4f83-b981-c5c8a3eb49a0",
   "metadata": {},
   "outputs": [],
   "source": []
  },
  {
   "cell_type": "code",
   "execution_count": null,
   "id": "66875723-9b6e-49df-bf76-8979b78cd162",
   "metadata": {},
   "outputs": [],
   "source": []
  },
  {
   "cell_type": "code",
   "execution_count": 1,
   "id": "43e14b80-ce47-4b72-8b6e-8a3f58ec7291",
   "metadata": {},
   "outputs": [],
   "source": [
    "#Section B"
   ]
  },
  {
   "cell_type": "code",
   "execution_count": 2,
   "id": "286d9fdd-9e71-4f7e-867d-c51a459df32a",
   "metadata": {},
   "outputs": [],
   "source": [
    "#Question 9: Write a Python function called calculate_area that takes the radius of a circle as input and returns its area.\n",
    "#Use the formula: Area = π × r2. Test your function with radius = 5."
   ]
  },
  {
   "cell_type": "code",
   "execution_count": null,
   "id": "2ba93a1a-1b84-4c4b-885a-5fb181617d73",
   "metadata": {},
   "outputs": [],
   "source": []
  },
  {
   "cell_type": "code",
   "execution_count": 4,
   "id": "5c38791f-ec1c-4ead-8704-aa7d63bcc37f",
   "metadata": {},
   "outputs": [],
   "source": [
    "#Answer 9 :- "
   ]
  },
  {
   "cell_type": "code",
   "execution_count": 5,
   "id": "d59b45e4-66bf-413f-b86e-151cb1a05aa5",
   "metadata": {},
   "outputs": [],
   "source": [
    "def calculate_area():\n",
    "    radius  = float(input('Enter the radius of circle'))\n",
    "    area = 3.15 * radius * radius\n",
    "\n",
    "    print('Your entered radius is : ', radius)\n",
    "    print('Area of circle is : ', area)"
   ]
  },
  {
   "cell_type": "code",
   "execution_count": 6,
   "id": "596f81ba-73d6-4a81-a9f3-d6156232d8df",
   "metadata": {},
   "outputs": [
    {
     "name": "stdin",
     "output_type": "stream",
     "text": [
      "Enter the radius of circle 5\n"
     ]
    },
    {
     "name": "stdout",
     "output_type": "stream",
     "text": [
      "Your entered radius is :  5.0\n",
      "Area of circle is :  78.75\n"
     ]
    }
   ],
   "source": [
    "calculate_area()"
   ]
  },
  {
   "cell_type": "code",
   "execution_count": null,
   "id": "8ff69bf6-7b77-4194-b512-1f4897baa8b3",
   "metadata": {},
   "outputs": [],
   "source": []
  },
  {
   "cell_type": "code",
   "execution_count": null,
   "id": "b8308e7a-3139-4af1-b5c9-a23b13600cee",
   "metadata": {},
   "outputs": [],
   "source": []
  },
  {
   "cell_type": "code",
   "execution_count": null,
   "id": "208ca190-6296-440f-a3d1-bc8389d4becf",
   "metadata": {},
   "outputs": [],
   "source": []
  },
  {
   "cell_type": "code",
   "execution_count": 7,
   "id": "eb32fa8c-5ece-4a98-bcd5-20795b2df4ec",
   "metadata": {},
   "outputs": [],
   "source": [
    "#Question 10: Create a program that asks the user for their name and age, then prints a message like \"Hello [name], you are [age] years old!\""
   ]
  },
  {
   "cell_type": "code",
   "execution_count": null,
   "id": "ff2eb7b3-0060-4033-8c51-3aefbf0ef073",
   "metadata": {},
   "outputs": [],
   "source": []
  },
  {
   "cell_type": "code",
   "execution_count": 8,
   "id": "33848967-1f07-436a-9029-9b911f4e4da7",
   "metadata": {},
   "outputs": [],
   "source": [
    "#Answer 10 :-"
   ]
  },
  {
   "cell_type": "code",
   "execution_count": 9,
   "id": "f4859c9e-350e-445b-8623-c9904de0c073",
   "metadata": {},
   "outputs": [
    {
     "name": "stdout",
     "output_type": "stream",
     "text": [
      "Hii  Daksh you are 19 years old!\n",
      "Hii  Dhruv you are 20 years old!\n"
     ]
    }
   ],
   "source": [
    "class Person:\n",
    "    def __init__(self,name,age):\n",
    "        self.name = name\n",
    "        self.age = age\n",
    "\n",
    "    def greetings(self):\n",
    "        print('Hii ', self.name, 'you are', self.age ,'years old!')\n",
    "\n",
    "\n",
    "p1 = Person(\"Daksh\",19)\n",
    "p2 = Person(\"Dhruv\",20)\n",
    "\n",
    "p1.greetings()\n",
    "p2.greetings()"
   ]
  },
  {
   "cell_type": "code",
   "execution_count": null,
   "id": "5c94905c-8428-4ec6-8662-bc7145a69e8c",
   "metadata": {},
   "outputs": [],
   "source": []
  },
  {
   "cell_type": "code",
   "execution_count": null,
   "id": "a0a4a652-6a52-4418-8c09-90baa1b011af",
   "metadata": {},
   "outputs": [],
   "source": []
  },
  {
   "cell_type": "code",
   "execution_count": null,
   "id": "0382d39f-4bca-4dd6-9ba8-d9c42c82435a",
   "metadata": {},
   "outputs": [],
   "source": []
  },
  {
   "cell_type": "code",
   "execution_count": 10,
   "id": "5ccbf0cc-9787-4bd3-9f14-c5c68732760b",
   "metadata": {},
   "outputs": [],
   "source": [
    "#Question 11: Write a Python program that creates a list of 5 fruits and then prints each fruit along with its position in the list (starting from 1)."
   ]
  },
  {
   "cell_type": "code",
   "execution_count": null,
   "id": "68255a14-2d3b-4a85-b90e-17027a67dbda",
   "metadata": {},
   "outputs": [],
   "source": []
  },
  {
   "cell_type": "code",
   "execution_count": 11,
   "id": "6b227582-c121-4b80-91c2-c63420d5ca5f",
   "metadata": {},
   "outputs": [],
   "source": [
    "#Answer 11:-"
   ]
  },
  {
   "cell_type": "code",
   "execution_count": 28,
   "id": "6c0be1c8-3816-450b-8119-6fec2f9dcb94",
   "metadata": {},
   "outputs": [
    {
     "name": "stdout",
     "output_type": "stream",
     "text": [
      "(1, 'grapes')\n",
      "(2, 'mango')\n",
      "(3, 'apple')\n",
      "(4, 'kiwi')\n",
      "(5, 'guava')\n"
     ]
    }
   ],
   "source": [
    "fruits = ['grapes','mango','apple','kiwi','guava']\n",
    "\n",
    "for i in enumerate(fruits , start = 1):\n",
    "    print(i)"
   ]
  },
  {
   "cell_type": "code",
   "execution_count": null,
   "id": "c902b8fd-c3bf-4ec8-95aa-aa8f37dc769e",
   "metadata": {},
   "outputs": [],
   "source": []
  },
  {
   "cell_type": "code",
   "execution_count": null,
   "id": "25650f72-4b16-463c-b34f-a1ee22c09b63",
   "metadata": {},
   "outputs": [],
   "source": []
  },
  {
   "cell_type": "code",
   "execution_count": null,
   "id": "fc24c2dd-60bc-4914-a1ec-d346a60eb5cd",
   "metadata": {},
   "outputs": [],
   "source": []
  },
  {
   "cell_type": "code",
   "execution_count": 29,
   "id": "4fb4c854-e3e0-4d9f-9ecc-b0e799f0d3ae",
   "metadata": {},
   "outputs": [],
   "source": [
    "#Question 12: Write a function called grade_calculator that takes a student's score (0-100) and returns their lettergrade:\n",
    "#90-100: A\n",
    "#80-89: B\n",
    "#70-79: C\n",
    "#60-69: D\n",
    "#Below 60: F\n",
    "#Test it with at least three different scores."
   ]
  },
  {
   "cell_type": "code",
   "execution_count": null,
   "id": "9e06db10-59e6-44c0-86ab-9ce870c34160",
   "metadata": {},
   "outputs": [],
   "source": []
  },
  {
   "cell_type": "code",
   "execution_count": 30,
   "id": "3b65c7ff-9f88-4545-a2de-06b888e13bc3",
   "metadata": {},
   "outputs": [],
   "source": [
    "#Answer 12:-"
   ]
  },
  {
   "cell_type": "code",
   "execution_count": 42,
   "id": "8c014f92-48c7-42e0-99bb-8919dc79f516",
   "metadata": {},
   "outputs": [],
   "source": [
    "def grade_calculator():\n",
    "    student = int(input('Enter your marks out of 100 : ')) #If the student gets 55.5 marks we will treat it as 56 only because we are using int data type\n",
    "\n",
    "    if student >= 90 < 100:\n",
    "        print('You have got A grade')\n",
    "\n",
    "    elif student >=80 <89:\n",
    "        print('You have got B grade')\n",
    "\n",
    "    elif student>=70 < 79:\n",
    "        print('You have got C grade')\n",
    "\n",
    "    elif student>=60 < 69:\n",
    "        print('You have got D grade')\n",
    "\n",
    "    elif student <= 60:\n",
    "        print('You have got F grade. You failed in your examination')"
   ]
  },
  {
   "cell_type": "code",
   "execution_count": 43,
   "id": "bc1f3a28-412c-4df9-aaea-29c1dc8c9f53",
   "metadata": {},
   "outputs": [
    {
     "name": "stdin",
     "output_type": "stream",
     "text": [
      "Enter your marks out of 100 :  89\n"
     ]
    },
    {
     "name": "stdout",
     "output_type": "stream",
     "text": [
      "You have got B grade\n"
     ]
    }
   ],
   "source": [
    "grade_calculator()"
   ]
  },
  {
   "cell_type": "code",
   "execution_count": 40,
   "id": "59889fea-9c45-4e4d-86da-cb32f68ae91f",
   "metadata": {},
   "outputs": [
    {
     "name": "stdin",
     "output_type": "stream",
     "text": [
      "Enter your marks out of 100 :  55\n"
     ]
    },
    {
     "name": "stdout",
     "output_type": "stream",
     "text": [
      "You have got F grade. You failed in your examination\n"
     ]
    }
   ],
   "source": [
    "grade_calculator()"
   ]
  },
  {
   "cell_type": "code",
   "execution_count": 41,
   "id": "5d050418-ba07-4f41-842b-ab62f94c5920",
   "metadata": {},
   "outputs": [
    {
     "name": "stdin",
     "output_type": "stream",
     "text": [
      "Enter your marks out of 100 :  98\n"
     ]
    },
    {
     "name": "stdout",
     "output_type": "stream",
     "text": [
      "You have got A grade\n"
     ]
    }
   ],
   "source": [
    "grade_calculator()\n"
   ]
  },
  {
   "cell_type": "code",
   "execution_count": null,
   "id": "dbd0c199-ae54-406c-8ab7-02c75e92c4ee",
   "metadata": {},
   "outputs": [],
   "source": []
  },
  {
   "cell_type": "code",
   "execution_count": null,
   "id": "69b2edf0-973d-403c-8e0a-624e283dab90",
   "metadata": {},
   "outputs": [],
   "source": []
  },
  {
   "cell_type": "code",
   "execution_count": null,
   "id": "b44d6c39-6b42-48d7-abcb-c4618402d51b",
   "metadata": {},
   "outputs": [],
   "source": []
  },
  {
   "cell_type": "code",
   "execution_count": 44,
   "id": "271c4209-39a3-40c9-afcb-d71f7993f0d4",
   "metadata": {},
   "outputs": [],
   "source": [
    "#Question 13 : Create a simple program that reads a text file called \"numbers.txt\" (assume it contains numbers,one per line), \n",
    "#calculates their sum, and writes the result to a new file called \"result.txt\". Include proper error handling."
   ]
  },
  {
   "cell_type": "code",
   "execution_count": null,
   "id": "9d20e698-f156-4782-b462-3beba6ba91fc",
   "metadata": {},
   "outputs": [],
   "source": []
  },
  {
   "cell_type": "code",
   "execution_count": 45,
   "id": "fd668623-04c4-4cae-b583-5eea28e158fa",
   "metadata": {},
   "outputs": [],
   "source": [
    "#Answer 13 :-"
   ]
  },
  {
   "cell_type": "code",
   "execution_count": 52,
   "id": "ea9a36ab-88e2-477d-b1a7-5254a60661ad",
   "metadata": {},
   "outputs": [
    {
     "name": "stdout",
     "output_type": "stream",
     "text": [
      "C:\\Users\\chana\n"
     ]
    }
   ],
   "source": [
    "import os\n",
    "print(os.getcwd())"
   ]
  },
  {
   "cell_type": "code",
   "execution_count": 55,
   "id": "bf2840c6-469c-4ce1-8d7b-ac9e483c4d4a",
   "metadata": {},
   "outputs": [
    {
     "name": "stdout",
     "output_type": "stream",
     "text": [
      "10\n",
      "20\n",
      "30\n",
      "40\n",
      "50\n"
     ]
    }
   ],
   "source": [
    "\n",
    "#Opening and reading the file\n",
    "file = open(f'numbers.txt','r')\n",
    "print(file.read())\n",
    "file.close()\n",
    "\n",
    "    "
   ]
  },
  {
   "cell_type": "code",
   "execution_count": null,
   "id": "e8b2a918-2b20-4362-b822-b766fc15e81e",
   "metadata": {},
   "outputs": [],
   "source": []
  },
  {
   "cell_type": "code",
   "execution_count": null,
   "id": "6f18492d-b87b-4631-96c0-57f0baaa7b05",
   "metadata": {},
   "outputs": [],
   "source": []
  },
  {
   "cell_type": "code",
   "execution_count": null,
   "id": "2b78e602-d7ed-47f5-ae2d-af460eda2c75",
   "metadata": {},
   "outputs": [],
   "source": []
  },
  {
   "cell_type": "code",
   "execution_count": 56,
   "id": "db502586-e52a-471f-9045-3dc40c262273",
   "metadata": {},
   "outputs": [],
   "source": [
    "#Question 14 : Design a simple class called BankAccount with the following features:\n",
    "#Initialize with account holder name and starting balance\n",
    "#Method to deposit money\n",
    "#Method to withdraw money (should check if sufficient balance exists)\n",
    "#Method to display current balance\n",
    "#Create an account, perform some transactions, and show the final balance."
   ]
  },
  {
   "cell_type": "code",
   "execution_count": null,
   "id": "f21e148c-123a-47eb-b9cb-03b285dc9216",
   "metadata": {},
   "outputs": [],
   "source": []
  },
  {
   "cell_type": "code",
   "execution_count": 57,
   "id": "578cf233-fdd2-4c52-b320-5e78655ecc95",
   "metadata": {},
   "outputs": [],
   "source": [
    "#Answer 14 :-"
   ]
  },
  {
   "cell_type": "code",
   "execution_count": 64,
   "id": "306c5203-8220-41ce-932a-e3bb8d961ccd",
   "metadata": {},
   "outputs": [],
   "source": [
    "class BankAccount:\n",
    "    #Initializing user's name and starting balance available in his account\n",
    "    def __init__(self,name,balance):\n",
    "        self.name = name \n",
    "        self.balance = balance\n",
    "\n",
    "    #Method to deposit a particular amount\n",
    "    def desposit_money(self,amount):\n",
    "        if amount > 0:\n",
    "            self.balance += amount\n",
    "            print(f'{amount} deposited in your account')\n",
    "\n",
    "        else:\n",
    "            print(f'{amount} failed to get deposited')\n",
    "\n",
    "#Method to withdraw money\n",
    "    def withdraw_money(self,amount):\n",
    "        if amount <= self.balance:\n",
    "            self.balance -= amount\n",
    "            print(f'{amount} withdrawn')\n",
    "\n",
    "        else:\n",
    "            print(f'{amount} you are trying to withdraw is larger than your bank balance')\n",
    "\n",
    "\n",
    "#Method to display current balance\n",
    "    def current_balance(self):\n",
    "        print(f'{self.name} has {self.balance} balance in his account')\n",
    "\n",
    "\n",
    "\n",
    "\n",
    "\n",
    "\n",
    "    \n",
    "    "
   ]
  },
  {
   "cell_type": "code",
   "execution_count": 74,
   "id": "4e92b353-ede6-43f2-be1c-87c1f12ea3df",
   "metadata": {},
   "outputs": [],
   "source": [
    "account = BankAccount(\"Daksh\",5000)#Creating a bank account with account holder name Daksh and that account has 5000 ruppess "
   ]
  },
  {
   "cell_type": "code",
   "execution_count": 75,
   "id": "b4009746-b649-4053-9cd0-4cff7f08d762",
   "metadata": {},
   "outputs": [
    {
     "data": {
      "text/plain": [
       "'Daksh'"
      ]
     },
     "execution_count": 75,
     "metadata": {},
     "output_type": "execute_result"
    }
   ],
   "source": [
    "account.name"
   ]
  },
  {
   "cell_type": "code",
   "execution_count": 76,
   "id": "a87e2812-98a0-49ed-8f1d-3894b4d01d55",
   "metadata": {},
   "outputs": [
    {
     "data": {
      "text/plain": [
       "5000"
      ]
     },
     "execution_count": 76,
     "metadata": {},
     "output_type": "execute_result"
    }
   ],
   "source": [
    "account.balance"
   ]
  },
  {
   "cell_type": "code",
   "execution_count": 77,
   "id": "bebb36d2-304f-4ac5-8778-1338b023b9b0",
   "metadata": {},
   "outputs": [
    {
     "name": "stdout",
     "output_type": "stream",
     "text": [
      "1000 withdrawn\n"
     ]
    }
   ],
   "source": [
    "account.withdraw_money(1000)"
   ]
  },
  {
   "cell_type": "code",
   "execution_count": 78,
   "id": "0b49daac-d482-4beb-90a0-5d94e4670dd3",
   "metadata": {},
   "outputs": [
    {
     "data": {
      "text/plain": [
       "4000"
      ]
     },
     "execution_count": 78,
     "metadata": {},
     "output_type": "execute_result"
    }
   ],
   "source": [
    "account.balance"
   ]
  },
  {
   "cell_type": "code",
   "execution_count": 79,
   "id": "d975257c-ab07-4695-8754-476d5f6fc789",
   "metadata": {},
   "outputs": [
    {
     "name": "stdout",
     "output_type": "stream",
     "text": [
      "5000 deposited in your account\n"
     ]
    }
   ],
   "source": [
    "account.desposit_money(5000)"
   ]
  },
  {
   "cell_type": "code",
   "execution_count": 80,
   "id": "db87f7e7-99ac-4827-bafd-3d6c40fc7340",
   "metadata": {},
   "outputs": [
    {
     "data": {
      "text/plain": [
       "9000"
      ]
     },
     "execution_count": 80,
     "metadata": {},
     "output_type": "execute_result"
    }
   ],
   "source": [
    "account.balance"
   ]
  }
 ],
 "metadata": {
  "kernelspec": {
   "display_name": "Python 3 (ipykernel)",
   "language": "python",
   "name": "python3"
  },
  "language_info": {
   "codemirror_mode": {
    "name": "ipython",
    "version": 3
   },
   "file_extension": ".py",
   "mimetype": "text/x-python",
   "name": "python",
   "nbconvert_exporter": "python",
   "pygments_lexer": "ipython3",
   "version": "3.13.5"
  }
 },
 "nbformat": 4,
 "nbformat_minor": 5
}
