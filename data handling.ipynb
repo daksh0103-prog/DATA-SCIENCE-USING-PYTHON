{
 "cells": [
  {
   "cell_type": "code",
   "execution_count": 4,
   "id": "4fd42ae8-ae1b-4900-b77a-34a102457dc0",
   "metadata": {},
   "outputs": [
    {
     "name": "stdout",
     "output_type": "stream",
     "text": [
      "print('''This is Daksh Module in python\n",
      "\n",
      "Info: https://www.google.com/''')\n",
      "\n",
      "\n",
      "\n",
      "\n",
      "\n",
      "def check_palindrome(word:str):\n",
      "\n",
      "  if type(word) == str:\n",
      "\n",
      "    word = word.upper()\n",
      "\n",
      "    if word == word[::-1]:\n",
      "\n",
      "      return 'Palindrome'\n",
      "\n",
      "    else:\n",
      "\n"
     ]
    }
   ],
   "source": [
    "f = open('daksh1.py',mode = 'r')\n",
    "for i in range(10):\n",
    "    print(f.readline())"
   ]
  },
  {
   "cell_type": "code",
   "execution_count": 1,
   "id": "de816ae2-8bd8-4208-b12b-53ba535c1ca2",
   "metadata": {},
   "outputs": [
    {
     "name": "stdout",
     "output_type": "stream",
     "text": [
      "donee\n"
     ]
    }
   ],
   "source": [
    "f = open('daksh1.py',mode = 'r')\n",
    "\n",
    "data = f.readlines()\n",
    "\n",
    "f.close()\n",
    "print('donee')"
   ]
  },
  {
   "cell_type": "code",
   "execution_count": 2,
   "id": "5cc49fc8-97aa-4cba-a37b-f9ea4d4edb2b",
   "metadata": {},
   "outputs": [
    {
     "name": "stdout",
     "output_type": "stream",
     "text": [
      "print('''This is Daksh Module in python\n",
      "\n",
      "Info: https://www.google.com/''')\n",
      "\n",
      "\n",
      "\n",
      "\n",
      "\n",
      "def check_palindrome(word:str):\n",
      "\n",
      "  if type(word) == str:\n",
      "\n",
      "    word = word.upper()\n",
      "\n",
      "    if word == word[::-1]:\n",
      "\n",
      "      return 'Palindrome'\n",
      "\n",
      "    else:\n",
      "\n",
      "      return 'Not a Plaindrome'\n",
      "\n",
      "  else:\n",
      "\n",
      "    return 'Invalid Data Type'\n",
      "\n",
      "\n",
      "\n",
      "def give_fibo(n):\n",
      "\n",
      "  fibo = [0,1]\n",
      "\n"
     ]
    }
   ],
   "source": [
    "for i in data[:16]:\n",
    "    print(i)"
   ]
  },
  {
   "cell_type": "code",
   "execution_count": null,
   "id": "20cceae2-05d4-45bf-993a-41557f35f01a",
   "metadata": {},
   "outputs": [],
   "source": []
  }
 ],
 "metadata": {
  "kernelspec": {
   "display_name": "Python [conda env:base] *",
   "language": "python",
   "name": "conda-base-py"
  },
  "language_info": {
   "codemirror_mode": {
    "name": "ipython",
    "version": 3
   },
   "file_extension": ".py",
   "mimetype": "text/x-python",
   "name": "python",
   "nbconvert_exporter": "python",
   "pygments_lexer": "ipython3",
   "version": "3.12.7"
  }
 },
 "nbformat": 4,
 "nbformat_minor": 5
}
