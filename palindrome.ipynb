{
 "cells": [
  {
   "cell_type": "code",
   "execution_count": 1,
   "id": "3a906949-72ab-469d-8cf0-2b9efc00ec07",
   "metadata": {},
   "outputs": [],
   "source": [
    "def check_palindrome(word):\n",
    "    return word"
   ]
  },
  {
   "cell_type": "code",
   "execution_count": 2,
   "id": "aed02a7d-3ed8-4a04-9e14-2ed8d894259b",
   "metadata": {},
   "outputs": [
    {
     "data": {
      "text/plain": [
       "'Nitin'"
      ]
     },
     "execution_count": 2,
     "metadata": {},
     "output_type": "execute_result"
    }
   ],
   "source": [
    "check_palindrome('Nitin')"
   ]
  },
  {
   "cell_type": "code",
   "execution_count": 3,
   "id": "735bb9ef-2a23-4b02-a995-fe6e543da827",
   "metadata": {},
   "outputs": [
    {
     "data": {
      "text/plain": [
       "'Daksh'"
      ]
     },
     "execution_count": 3,
     "metadata": {},
     "output_type": "execute_result"
    }
   ],
   "source": [
    "check_palindrome('Daksh')"
   ]
  },
  {
   "cell_type": "code",
   "execution_count": 4,
   "id": "f73ac2dc-1f84-4222-98f0-035810d94bef",
   "metadata": {},
   "outputs": [
    {
     "data": {
      "text/plain": [
       "'nitin'"
      ]
     },
     "execution_count": 4,
     "metadata": {},
     "output_type": "execute_result"
    }
   ],
   "source": [
    "a = 'nitin'\n",
    "a[::-1]"
   ]
  },
  {
   "cell_type": "code",
   "execution_count": 5,
   "id": "2a8be458-5791-47e3-a045-9d09110cbb3e",
   "metadata": {},
   "outputs": [
    {
     "name": "stdin",
     "output_type": "stream",
     "text": [
      "Enter a palindrome nitin\n"
     ]
    },
    {
     "name": "stdout",
     "output_type": "stream",
     "text": [
      "nitin is a Palindrome\n"
     ]
    }
   ],
   "source": [
    "a = input('Enter a palindrome')\n",
    "if a == a[::-1]:\n",
    "    print(f'{a} is a Palindrome')\n",
    "\n",
    "else:\n",
    "    print(f'{a} is Not a palindrome')"
   ]
  },
  {
   "cell_type": "code",
   "execution_count": 10,
   "id": "997b52c5-e130-44bc-96af-47c82c248e10",
   "metadata": {},
   "outputs": [],
   "source": [
    "def check_palindrome(word:str):\n",
    "    if type(word) == str:\n",
    "        word = word.upper()\n",
    "        if word == word[::-1]:\n",
    "            print('Palindrome')\n",
    "        else:\n",
    "            print('Not a palindrome')\n",
    "    else:\n",
    "        return'Invalid Data Type'"
   ]
  },
  {
   "cell_type": "code",
   "execution_count": 13,
   "id": "b61b246f-8dbd-4591-8626-1df0eae28175",
   "metadata": {},
   "outputs": [
    {
     "name": "stdout",
     "output_type": "stream",
     "text": [
      "Not a palindrome\n"
     ]
    }
   ],
   "source": [
    "check_palindrome('daksh')\n"
   ]
  },
  {
   "cell_type": "code",
   "execution_count": 8,
   "id": "7a9e3933-9590-4cab-b830-855839c604ec",
   "metadata": {},
   "outputs": [
    {
     "name": "stdout",
     "output_type": "stream",
     "text": [
      "Daksh\n"
     ]
    }
   ],
   "source": [
    "a:int = 'Daksh'\n",
    "print(a)"
   ]
  },
  {
   "cell_type": "code",
   "execution_count": null,
   "id": "dc444d76-f4c7-4e42-90dd-907de1cbd67e",
   "metadata": {},
   "outputs": [],
   "source": [
    "def give_fibo(n):\n",
    "    fibo = [0,1]\n",
    "    for i in range(n-2):\n",
    "        last_num = fibo[-1]\n",
    "        second_last_num = fibo[-2]\n",
    "        next_num = last_num + second_last_num\n",
    "        fibo.append(next_num)"
   ]
  },
  {
   "cell_type": "code",
   "execution_count": null,
   "id": "3484a8b1-da15-4a67-bd41-a8de005e80fa",
   "metadata": {},
   "outputs": [],
   "source": []
  }
 ],
 "metadata": {
  "kernelspec": {
   "display_name": "Python [conda env:base] *",
   "language": "python",
   "name": "conda-base-py"
  },
  "language_info": {
   "codemirror_mode": {
    "name": "ipython",
    "version": 3
   },
   "file_extension": ".py",
   "mimetype": "text/x-python",
   "name": "python",
   "nbconvert_exporter": "python",
   "pygments_lexer": "ipython3",
   "version": "3.12.7"
  }
 },
 "nbformat": 4,
 "nbformat_minor": 5
}
