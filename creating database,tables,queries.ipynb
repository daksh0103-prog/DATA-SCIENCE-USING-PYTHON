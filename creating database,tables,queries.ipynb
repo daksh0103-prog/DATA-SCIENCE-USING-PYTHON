{
 "cells": [
  {
   "cell_type": "code",
   "execution_count": 1,
   "id": "e1e24302-87b2-463e-9775-4669e4457a38",
   "metadata": {},
   "outputs": [],
   "source": [
    "#Python to MySQL connect"
   ]
  },
  {
   "cell_type": "code",
   "execution_count": 3,
   "id": "acc55af5-914b-4856-8994-cee104962d51",
   "metadata": {},
   "outputs": [
    {
     "name": "stdout",
     "output_type": "stream",
     "text": [
      "Done\n"
     ]
    }
   ],
   "source": [
    "import pymysql as py\n",
    "print('Done')"
   ]
  },
  {
   "cell_type": "code",
   "execution_count": 5,
   "id": "58806bbf-0190-412d-b50a-d8d2fa8f4aa0",
   "metadata": {},
   "outputs": [
    {
     "name": "stdout",
     "output_type": "stream",
     "text": [
      "Defaulting to user installation because normal site-packages is not writeable\n",
      "Requirement already satisfied: PyMySQL in c:\\users\\chana\\appdata\\roaming\\python\\python312\\site-packages (1.1.1)\n"
     ]
    }
   ],
   "source": [
    "!pip install PyMySQL"
   ]
  },
  {
   "cell_type": "code",
   "execution_count": 4,
   "id": "e6c720d4-ca22-407f-abaf-c362bf543143",
   "metadata": {},
   "outputs": [
    {
     "name": "stdout",
     "output_type": "stream",
     "text": [
      "Connection Created Successfully\n"
     ]
    }
   ],
   "source": [
    "conn = py.connect(user = 'root',\n",
    "           password='1st march 2006',\n",
    "           host = 'localhost',\n",
    "           autocommit = True)\n",
    "\n",
    "print('Connection Created Successfully')"
   ]
  },
  {
   "cell_type": "code",
   "execution_count": 5,
   "id": "dc1c4a7e-5109-486f-a790-d64e8e2ad8c1",
   "metadata": {},
   "outputs": [
    {
     "name": "stdout",
     "output_type": "stream",
     "text": [
      "Done\n"
     ]
    }
   ],
   "source": [
    "cur = conn.cursor()\n",
    "print('Done')"
   ]
  },
  {
   "cell_type": "code",
   "execution_count": 6,
   "id": "a091b0d0-bd17-4b43-b8aa-7491af9058ae",
   "metadata": {},
   "outputs": [],
   "source": [
    "#create database using python"
   ]
  },
  {
   "cell_type": "code",
   "execution_count": 7,
   "id": "5d88fdae-34d4-48c0-8807-795bb1147c56",
   "metadata": {},
   "outputs": [
    {
     "ename": "ProgrammingError",
     "evalue": "(1007, \"Can't create database 'iitm_day5'; database exists\")",
     "output_type": "error",
     "traceback": [
      "\u001b[1;31m---------------------------------------------------------------------------\u001b[0m",
      "\u001b[1;31mProgrammingError\u001b[0m                          Traceback (most recent call last)",
      "Cell \u001b[1;32mIn[7], line 4\u001b[0m\n\u001b[0;32m      1\u001b[0m query \u001b[38;5;241m=\u001b[39m \u001b[38;5;124m'''\u001b[39m\u001b[38;5;124mcreate database IITM_day5;\u001b[39m\u001b[38;5;124m'''\u001b[39m\n\u001b[1;32m----> 4\u001b[0m cur\u001b[38;5;241m.\u001b[39mexecute(query)\n\u001b[0;32m      5\u001b[0m \u001b[38;5;28mprint\u001b[39m(\u001b[38;5;124m'\u001b[39m\u001b[38;5;124mdone\u001b[39m\u001b[38;5;124m'\u001b[39m)\n",
      "File \u001b[1;32m~\\AppData\\Roaming\\Python\\Python312\\site-packages\\pymysql\\cursors.py:153\u001b[0m, in \u001b[0;36mCursor.execute\u001b[1;34m(self, query, args)\u001b[0m\n\u001b[0;32m    149\u001b[0m     \u001b[38;5;28;01mpass\u001b[39;00m\n\u001b[0;32m    151\u001b[0m query \u001b[38;5;241m=\u001b[39m \u001b[38;5;28mself\u001b[39m\u001b[38;5;241m.\u001b[39mmogrify(query, args)\n\u001b[1;32m--> 153\u001b[0m result \u001b[38;5;241m=\u001b[39m \u001b[38;5;28mself\u001b[39m\u001b[38;5;241m.\u001b[39m_query(query)\n\u001b[0;32m    154\u001b[0m \u001b[38;5;28mself\u001b[39m\u001b[38;5;241m.\u001b[39m_executed \u001b[38;5;241m=\u001b[39m query\n\u001b[0;32m    155\u001b[0m \u001b[38;5;28;01mreturn\u001b[39;00m result\n",
      "File \u001b[1;32m~\\AppData\\Roaming\\Python\\Python312\\site-packages\\pymysql\\cursors.py:322\u001b[0m, in \u001b[0;36mCursor._query\u001b[1;34m(self, q)\u001b[0m\n\u001b[0;32m    320\u001b[0m conn \u001b[38;5;241m=\u001b[39m \u001b[38;5;28mself\u001b[39m\u001b[38;5;241m.\u001b[39m_get_db()\n\u001b[0;32m    321\u001b[0m \u001b[38;5;28mself\u001b[39m\u001b[38;5;241m.\u001b[39m_clear_result()\n\u001b[1;32m--> 322\u001b[0m conn\u001b[38;5;241m.\u001b[39mquery(q)\n\u001b[0;32m    323\u001b[0m \u001b[38;5;28mself\u001b[39m\u001b[38;5;241m.\u001b[39m_do_get_result()\n\u001b[0;32m    324\u001b[0m \u001b[38;5;28;01mreturn\u001b[39;00m \u001b[38;5;28mself\u001b[39m\u001b[38;5;241m.\u001b[39mrowcount\n",
      "File \u001b[1;32m~\\AppData\\Roaming\\Python\\Python312\\site-packages\\pymysql\\connections.py:563\u001b[0m, in \u001b[0;36mConnection.query\u001b[1;34m(self, sql, unbuffered)\u001b[0m\n\u001b[0;32m    561\u001b[0m     sql \u001b[38;5;241m=\u001b[39m sql\u001b[38;5;241m.\u001b[39mencode(\u001b[38;5;28mself\u001b[39m\u001b[38;5;241m.\u001b[39mencoding, \u001b[38;5;124m\"\u001b[39m\u001b[38;5;124msurrogateescape\u001b[39m\u001b[38;5;124m\"\u001b[39m)\n\u001b[0;32m    562\u001b[0m \u001b[38;5;28mself\u001b[39m\u001b[38;5;241m.\u001b[39m_execute_command(COMMAND\u001b[38;5;241m.\u001b[39mCOM_QUERY, sql)\n\u001b[1;32m--> 563\u001b[0m \u001b[38;5;28mself\u001b[39m\u001b[38;5;241m.\u001b[39m_affected_rows \u001b[38;5;241m=\u001b[39m \u001b[38;5;28mself\u001b[39m\u001b[38;5;241m.\u001b[39m_read_query_result(unbuffered\u001b[38;5;241m=\u001b[39munbuffered)\n\u001b[0;32m    564\u001b[0m \u001b[38;5;28;01mreturn\u001b[39;00m \u001b[38;5;28mself\u001b[39m\u001b[38;5;241m.\u001b[39m_affected_rows\n",
      "File \u001b[1;32m~\\AppData\\Roaming\\Python\\Python312\\site-packages\\pymysql\\connections.py:825\u001b[0m, in \u001b[0;36mConnection._read_query_result\u001b[1;34m(self, unbuffered)\u001b[0m\n\u001b[0;32m    823\u001b[0m \u001b[38;5;28;01melse\u001b[39;00m:\n\u001b[0;32m    824\u001b[0m     result \u001b[38;5;241m=\u001b[39m MySQLResult(\u001b[38;5;28mself\u001b[39m)\n\u001b[1;32m--> 825\u001b[0m     result\u001b[38;5;241m.\u001b[39mread()\n\u001b[0;32m    826\u001b[0m \u001b[38;5;28mself\u001b[39m\u001b[38;5;241m.\u001b[39m_result \u001b[38;5;241m=\u001b[39m result\n\u001b[0;32m    827\u001b[0m \u001b[38;5;28;01mif\u001b[39;00m result\u001b[38;5;241m.\u001b[39mserver_status \u001b[38;5;129;01mis\u001b[39;00m \u001b[38;5;129;01mnot\u001b[39;00m \u001b[38;5;28;01mNone\u001b[39;00m:\n",
      "File \u001b[1;32m~\\AppData\\Roaming\\Python\\Python312\\site-packages\\pymysql\\connections.py:1199\u001b[0m, in \u001b[0;36mMySQLResult.read\u001b[1;34m(self)\u001b[0m\n\u001b[0;32m   1197\u001b[0m \u001b[38;5;28;01mdef\u001b[39;00m \u001b[38;5;21mread\u001b[39m(\u001b[38;5;28mself\u001b[39m):\n\u001b[0;32m   1198\u001b[0m     \u001b[38;5;28;01mtry\u001b[39;00m:\n\u001b[1;32m-> 1199\u001b[0m         first_packet \u001b[38;5;241m=\u001b[39m \u001b[38;5;28mself\u001b[39m\u001b[38;5;241m.\u001b[39mconnection\u001b[38;5;241m.\u001b[39m_read_packet()\n\u001b[0;32m   1201\u001b[0m         \u001b[38;5;28;01mif\u001b[39;00m first_packet\u001b[38;5;241m.\u001b[39mis_ok_packet():\n\u001b[0;32m   1202\u001b[0m             \u001b[38;5;28mself\u001b[39m\u001b[38;5;241m.\u001b[39m_read_ok_packet(first_packet)\n",
      "File \u001b[1;32m~\\AppData\\Roaming\\Python\\Python312\\site-packages\\pymysql\\connections.py:775\u001b[0m, in \u001b[0;36mConnection._read_packet\u001b[1;34m(self, packet_type)\u001b[0m\n\u001b[0;32m    773\u001b[0m     \u001b[38;5;28;01mif\u001b[39;00m \u001b[38;5;28mself\u001b[39m\u001b[38;5;241m.\u001b[39m_result \u001b[38;5;129;01mis\u001b[39;00m \u001b[38;5;129;01mnot\u001b[39;00m \u001b[38;5;28;01mNone\u001b[39;00m \u001b[38;5;129;01mand\u001b[39;00m \u001b[38;5;28mself\u001b[39m\u001b[38;5;241m.\u001b[39m_result\u001b[38;5;241m.\u001b[39munbuffered_active \u001b[38;5;129;01mis\u001b[39;00m \u001b[38;5;28;01mTrue\u001b[39;00m:\n\u001b[0;32m    774\u001b[0m         \u001b[38;5;28mself\u001b[39m\u001b[38;5;241m.\u001b[39m_result\u001b[38;5;241m.\u001b[39munbuffered_active \u001b[38;5;241m=\u001b[39m \u001b[38;5;28;01mFalse\u001b[39;00m\n\u001b[1;32m--> 775\u001b[0m     packet\u001b[38;5;241m.\u001b[39mraise_for_error()\n\u001b[0;32m    776\u001b[0m \u001b[38;5;28;01mreturn\u001b[39;00m packet\n",
      "File \u001b[1;32m~\\AppData\\Roaming\\Python\\Python312\\site-packages\\pymysql\\protocol.py:219\u001b[0m, in \u001b[0;36mMysqlPacket.raise_for_error\u001b[1;34m(self)\u001b[0m\n\u001b[0;32m    217\u001b[0m \u001b[38;5;28;01mif\u001b[39;00m DEBUG:\n\u001b[0;32m    218\u001b[0m     \u001b[38;5;28mprint\u001b[39m(\u001b[38;5;124m\"\u001b[39m\u001b[38;5;124merrno =\u001b[39m\u001b[38;5;124m\"\u001b[39m, errno)\n\u001b[1;32m--> 219\u001b[0m err\u001b[38;5;241m.\u001b[39mraise_mysql_exception(\u001b[38;5;28mself\u001b[39m\u001b[38;5;241m.\u001b[39m_data)\n",
      "File \u001b[1;32m~\\AppData\\Roaming\\Python\\Python312\\site-packages\\pymysql\\err.py:150\u001b[0m, in \u001b[0;36mraise_mysql_exception\u001b[1;34m(data)\u001b[0m\n\u001b[0;32m    148\u001b[0m \u001b[38;5;28;01mif\u001b[39;00m errorclass \u001b[38;5;129;01mis\u001b[39;00m \u001b[38;5;28;01mNone\u001b[39;00m:\n\u001b[0;32m    149\u001b[0m     errorclass \u001b[38;5;241m=\u001b[39m InternalError \u001b[38;5;28;01mif\u001b[39;00m errno \u001b[38;5;241m<\u001b[39m \u001b[38;5;241m1000\u001b[39m \u001b[38;5;28;01melse\u001b[39;00m OperationalError\n\u001b[1;32m--> 150\u001b[0m \u001b[38;5;28;01mraise\u001b[39;00m errorclass(errno, errval)\n",
      "\u001b[1;31mProgrammingError\u001b[0m: (1007, \"Can't create database 'iitm_day5'; database exists\")"
     ]
    }
   ],
   "source": [
    "query = '''create database IITM_day5;'''\n",
    "\n",
    "\n",
    "cur.execute(query)\n",
    "print('done')"
   ]
  },
  {
   "cell_type": "code",
   "execution_count": 8,
   "id": "5478cd83-ba63-497d-a2cd-b66606e56c0d",
   "metadata": {},
   "outputs": [
    {
     "name": "stdout",
     "output_type": "stream",
     "text": [
      "done\n"
     ]
    }
   ],
   "source": [
    "query = '''USE  IITM_day5;'''\n",
    "\n",
    "\n",
    "cur.execute(query)\n",
    "print('done')"
   ]
  },
  {
   "cell_type": "code",
   "execution_count": 9,
   "id": "924657c5-d0ff-4357-8980-69719f891741",
   "metadata": {},
   "outputs": [
    {
     "name": "stdout",
     "output_type": "stream",
     "text": [
      "done\n"
     ]
    }
   ],
   "source": [
    "query = '''create table student_details\n",
    "(\n",
    "SID int not null,\n",
    "student_name varchar(50),\n",
    "course varchar(50),\n",
    "Address varchar(100),\n",
    "Scholarship float\n",
    ");'''\n",
    "\n",
    "cur.execute(query)\n",
    "print('done')\n"
   ]
  },
  {
   "cell_type": "code",
   "execution_count": 11,
   "id": "15989e8e-7337-4a25-9908-0ff0b0f84f06",
   "metadata": {},
   "outputs": [
    {
     "name": "stdout",
     "output_type": "stream",
     "text": [
      "done\n"
     ]
    }
   ],
   "source": [
    "query = '''insert into student_details\n",
    "values\n",
    "(101,\"Mohan Sharma\",\"BCA\",\"Delhi\",5000.51),\n",
    "(105,\"Daksh Chanana\",\"MCA\",\"Delhi\",4899.98),\n",
    "(102,\"Raju Rastogi\",\"MBA\",\"Delhi\",1000.3),\n",
    "(107,\"Mohan Gulati\",\"BTECH\",\"UP\",2000);\n",
    "'''\n",
    "\n",
    "cur.execute(query)\n",
    "print('done')"
   ]
  },
  {
   "cell_type": "code",
   "execution_count": 16,
   "id": "aa555179-8c0a-4dc0-bc95-8c8d9651e36d",
   "metadata": {},
   "outputs": [
    {
     "name": "stdin",
     "output_type": "stream",
     "text": [
      "Enter your student id 1245\n",
      "Enter your name Daksh\n",
      "Enter your choosed course BCA\n",
      "Enter your address dElhi\n",
      "Enter your scholarship amount 1500\n"
     ]
    },
    {
     "name": "stdout",
     "output_type": "stream",
     "text": [
      "Done\n"
     ]
    }
   ],
   "source": [
    "sid = int(input('Enter your student id'))\n",
    "name = input('Enter your name')\n",
    "course = input('Enter your choosed course')\n",
    "address = input('Enter your address')\n",
    "scholarship = float(input('Enter your scholarship amount'))\n",
    "\n",
    "q = f'''insert into student_details values\n",
    "({sid},\"{name}\",\"{course}\",\"{address}\",{scholarship});'''\n",
    "\n",
    "cur.execute(q)\n",
    "print('Done')"
   ]
  },
  {
   "cell_type": "code",
   "execution_count": 18,
   "id": "e08cbcd1-1d89-4578-bd23-6502137daf5b",
   "metadata": {},
   "outputs": [
    {
     "name": "stdin",
     "output_type": "stream",
     "text": [
      "Enter your student id 56\n",
      "Enter your name Harsh\n",
      "Enter your choosed course BCA\n",
      "Enter your address delhi\n",
      "Enter your scholarship amount 1500\n"
     ]
    },
    {
     "name": "stdout",
     "output_type": "stream",
     "text": [
      "Record Insertesd Successfully\n"
     ]
    },
    {
     "name": "stdin",
     "output_type": "stream",
     "text": [
      "Enter your student id 45\n",
      "Enter your name Gajodhar\n",
      "Enter your choosed course BOTONY\n",
      "Enter your address KASOL\n",
      "Enter your scholarship amount 600000\n"
     ]
    },
    {
     "name": "stdout",
     "output_type": "stream",
     "text": [
      "Record Insertesd Successfully\n"
     ]
    },
    {
     "name": "stdin",
     "output_type": "stream",
     "text": [
      "Enter your student id 548\n",
      "Enter your name GFDD\n",
      "Enter your choosed course BCA\n",
      "Enter your address RUSSIA\n",
      "Enter your scholarship amount 60000000000000000\n"
     ]
    },
    {
     "name": "stdout",
     "output_type": "stream",
     "text": [
      "Record Insertesd Successfully\n",
      "Done\n"
     ]
    }
   ],
   "source": [
    "n = 3\n",
    "for n in range(n):\n",
    "    sid = int(input('Enter your student id'))\n",
    "    name = input('Enter your name')\n",
    "    course = input('Enter your choosed course')\n",
    "    address = input('Enter your address')\n",
    "    scholarship = float(input('Enter your scholarship amount'))\n",
    "    \n",
    "    q = f'''insert into student_details values\n",
    "    ({sid},\"{name}\",\"{course}\",\"{address}\",{scholarship});'''\n",
    "    \n",
    "    cur.execute(q)\n",
    "    print('Record Insertesd Successfully')\n",
    "print('Done')"
   ]
  },
  {
   "cell_type": "code",
   "execution_count": null,
   "id": "7ad78e1e-59db-4da3-87f3-9c9f1ab1f326",
   "metadata": {},
   "outputs": [],
   "source": []
  },
  {
   "cell_type": "code",
   "execution_count": null,
   "id": "d7d1b7dd-d61b-41fc-9de2-300735000893",
   "metadata": {},
   "outputs": [],
   "source": []
  },
  {
   "cell_type": "code",
   "execution_count": 28,
   "id": "31c62d92-f3e9-46b8-896a-1cc7c1c667a9",
   "metadata": {},
   "outputs": [
    {
     "data": {
      "text/html": [
       "<div>\n",
       "<style scoped>\n",
       "    .dataframe tbody tr th:only-of-type {\n",
       "        vertical-align: middle;\n",
       "    }\n",
       "\n",
       "    .dataframe tbody tr th {\n",
       "        vertical-align: top;\n",
       "    }\n",
       "\n",
       "    .dataframe thead th {\n",
       "        text-align: right;\n",
       "    }\n",
       "</style>\n",
       "<table border=\"1\" class=\"dataframe\">\n",
       "  <thead>\n",
       "    <tr style=\"text-align: right;\">\n",
       "      <th></th>\n",
       "      <th>SID</th>\n",
       "      <th>student_name</th>\n",
       "      <th>course</th>\n",
       "      <th>Address</th>\n",
       "      <th>Scholarship</th>\n",
       "    </tr>\n",
       "  </thead>\n",
       "  <tbody>\n",
       "    <tr>\n",
       "      <th>0</th>\n",
       "      <td>101</td>\n",
       "      <td>Mohan Sharma</td>\n",
       "      <td>BCA</td>\n",
       "      <td>Delhi</td>\n",
       "      <td>5.000510e+03</td>\n",
       "    </tr>\n",
       "    <tr>\n",
       "      <th>1</th>\n",
       "      <td>105</td>\n",
       "      <td>Daksh Chanana</td>\n",
       "      <td>MCA</td>\n",
       "      <td>Delhi</td>\n",
       "      <td>4.899980e+03</td>\n",
       "    </tr>\n",
       "    <tr>\n",
       "      <th>2</th>\n",
       "      <td>101</td>\n",
       "      <td>Mohan Sharma</td>\n",
       "      <td>BCA</td>\n",
       "      <td>Delhi</td>\n",
       "      <td>5.000510e+03</td>\n",
       "    </tr>\n",
       "    <tr>\n",
       "      <th>3</th>\n",
       "      <td>105</td>\n",
       "      <td>Daksh Chanana</td>\n",
       "      <td>MCA</td>\n",
       "      <td>Delhi</td>\n",
       "      <td>4.899980e+03</td>\n",
       "    </tr>\n",
       "    <tr>\n",
       "      <th>4</th>\n",
       "      <td>102</td>\n",
       "      <td>Raju Rastogi</td>\n",
       "      <td>MBA</td>\n",
       "      <td>Delhi</td>\n",
       "      <td>1.000300e+03</td>\n",
       "    </tr>\n",
       "    <tr>\n",
       "      <th>5</th>\n",
       "      <td>107</td>\n",
       "      <td>Mohan Gulati</td>\n",
       "      <td>BTECH</td>\n",
       "      <td>UP</td>\n",
       "      <td>2.000000e+03</td>\n",
       "    </tr>\n",
       "    <tr>\n",
       "      <th>6</th>\n",
       "      <td>1245</td>\n",
       "      <td>Daksh</td>\n",
       "      <td>Delhi</td>\n",
       "      <td>BCA</td>\n",
       "      <td>1.500000e+03</td>\n",
       "    </tr>\n",
       "    <tr>\n",
       "      <th>7</th>\n",
       "      <td>1245</td>\n",
       "      <td>Daksh</td>\n",
       "      <td>BCA</td>\n",
       "      <td>dElhi</td>\n",
       "      <td>1.500000e+03</td>\n",
       "    </tr>\n",
       "    <tr>\n",
       "      <th>8</th>\n",
       "      <td>1245</td>\n",
       "      <td>Ayan'</td>\n",
       "      <td>MBA</td>\n",
       "      <td>UP</td>\n",
       "      <td>1.000000e+02</td>\n",
       "    </tr>\n",
       "    <tr>\n",
       "      <th>9</th>\n",
       "      <td>1256</td>\n",
       "      <td>Rachit</td>\n",
       "      <td>BCA</td>\n",
       "      <td>PATNA</td>\n",
       "      <td>1.500000e+03</td>\n",
       "    </tr>\n",
       "    <tr>\n",
       "      <th>10</th>\n",
       "      <td>1345</td>\n",
       "      <td>Govind</td>\n",
       "      <td>BTECH</td>\n",
       "      <td>Himachal</td>\n",
       "      <td>1.345000e+03</td>\n",
       "    </tr>\n",
       "    <tr>\n",
       "      <th>11</th>\n",
       "      <td>56</td>\n",
       "      <td>Harsh</td>\n",
       "      <td>BCA</td>\n",
       "      <td>delhi</td>\n",
       "      <td>1.500000e+03</td>\n",
       "    </tr>\n",
       "    <tr>\n",
       "      <th>12</th>\n",
       "      <td>45</td>\n",
       "      <td>Gajodhar</td>\n",
       "      <td>BOTONY</td>\n",
       "      <td>KASOL</td>\n",
       "      <td>6.000000e+05</td>\n",
       "    </tr>\n",
       "    <tr>\n",
       "      <th>13</th>\n",
       "      <td>548</td>\n",
       "      <td>GFDD</td>\n",
       "      <td>BCA</td>\n",
       "      <td>RUSSIA</td>\n",
       "      <td>6.000000e+16</td>\n",
       "    </tr>\n",
       "  </tbody>\n",
       "</table>\n",
       "</div>"
      ],
      "text/plain": [
       "     SID   student_name  course   Address   Scholarship\n",
       "0    101   Mohan Sharma     BCA     Delhi  5.000510e+03\n",
       "1    105  Daksh Chanana     MCA     Delhi  4.899980e+03\n",
       "2    101   Mohan Sharma     BCA     Delhi  5.000510e+03\n",
       "3    105  Daksh Chanana     MCA     Delhi  4.899980e+03\n",
       "4    102   Raju Rastogi     MBA     Delhi  1.000300e+03\n",
       "5    107   Mohan Gulati   BTECH        UP  2.000000e+03\n",
       "6   1245          Daksh   Delhi       BCA  1.500000e+03\n",
       "7   1245          Daksh     BCA     dElhi  1.500000e+03\n",
       "8   1245          Ayan'     MBA        UP  1.000000e+02\n",
       "9   1256         Rachit     BCA     PATNA  1.500000e+03\n",
       "10  1345         Govind   BTECH  Himachal  1.345000e+03\n",
       "11    56          Harsh     BCA     delhi  1.500000e+03\n",
       "12    45       Gajodhar  BOTONY     KASOL  6.000000e+05\n",
       "13   548           GFDD     BCA    RUSSIA  6.000000e+16"
      ]
     },
     "execution_count": 28,
     "metadata": {},
     "output_type": "execute_result"
    }
   ],
   "source": [
    "query = \"select * from student_details;\"\n",
    "\n",
    "cur.execute(query)\n",
    "\n",
    "records = cur.fetchall()\n",
    "\n",
    "import pandas as pd\n",
    "pd.DataFrame(records,columns = all_columns)"
   ]
  },
  {
   "cell_type": "code",
   "execution_count": 29,
   "id": "2c6b8e3f-2115-45d2-819b-018b1ba620f3",
   "metadata": {},
   "outputs": [],
   "source": [
    "all_columns = []\n",
    "for i in cur.description:\n",
    "    all_columns.append(i[0])"
   ]
  },
  {
   "cell_type": "code",
   "execution_count": 31,
   "id": "5ff4ec4c-e746-4000-9bf3-4d340faeb40d",
   "metadata": {},
   "outputs": [
    {
     "data": {
      "text/html": [
       "<div>\n",
       "<style scoped>\n",
       "    .dataframe tbody tr th:only-of-type {\n",
       "        vertical-align: middle;\n",
       "    }\n",
       "\n",
       "    .dataframe tbody tr th {\n",
       "        vertical-align: top;\n",
       "    }\n",
       "\n",
       "    .dataframe thead th {\n",
       "        text-align: right;\n",
       "    }\n",
       "</style>\n",
       "<table border=\"1\" class=\"dataframe\">\n",
       "  <thead>\n",
       "    <tr style=\"text-align: right;\">\n",
       "      <th></th>\n",
       "      <th>SID</th>\n",
       "      <th>student_name</th>\n",
       "      <th>course</th>\n",
       "      <th>Address</th>\n",
       "      <th>Scholarship</th>\n",
       "    </tr>\n",
       "  </thead>\n",
       "  <tbody>\n",
       "    <tr>\n",
       "      <th>0</th>\n",
       "      <td>101</td>\n",
       "      <td>Mohan Sharma</td>\n",
       "      <td>BCA</td>\n",
       "      <td>Delhi</td>\n",
       "      <td>5.000510e+03</td>\n",
       "    </tr>\n",
       "    <tr>\n",
       "      <th>1</th>\n",
       "      <td>105</td>\n",
       "      <td>Daksh Chanana</td>\n",
       "      <td>MCA</td>\n",
       "      <td>Delhi</td>\n",
       "      <td>4.899980e+03</td>\n",
       "    </tr>\n",
       "    <tr>\n",
       "      <th>2</th>\n",
       "      <td>101</td>\n",
       "      <td>Mohan Sharma</td>\n",
       "      <td>BCA</td>\n",
       "      <td>Delhi</td>\n",
       "      <td>5.000510e+03</td>\n",
       "    </tr>\n",
       "    <tr>\n",
       "      <th>3</th>\n",
       "      <td>105</td>\n",
       "      <td>Daksh Chanana</td>\n",
       "      <td>MCA</td>\n",
       "      <td>Delhi</td>\n",
       "      <td>4.899980e+03</td>\n",
       "    </tr>\n",
       "    <tr>\n",
       "      <th>4</th>\n",
       "      <td>102</td>\n",
       "      <td>Raju Rastogi</td>\n",
       "      <td>MBA</td>\n",
       "      <td>Delhi</td>\n",
       "      <td>1.000300e+03</td>\n",
       "    </tr>\n",
       "    <tr>\n",
       "      <th>5</th>\n",
       "      <td>107</td>\n",
       "      <td>Mohan Gulati</td>\n",
       "      <td>BTECH</td>\n",
       "      <td>UP</td>\n",
       "      <td>2.000000e+03</td>\n",
       "    </tr>\n",
       "    <tr>\n",
       "      <th>6</th>\n",
       "      <td>1245</td>\n",
       "      <td>Daksh</td>\n",
       "      <td>Delhi</td>\n",
       "      <td>BCA</td>\n",
       "      <td>1.500000e+03</td>\n",
       "    </tr>\n",
       "    <tr>\n",
       "      <th>7</th>\n",
       "      <td>1245</td>\n",
       "      <td>Daksh</td>\n",
       "      <td>BCA</td>\n",
       "      <td>dElhi</td>\n",
       "      <td>1.500000e+03</td>\n",
       "    </tr>\n",
       "    <tr>\n",
       "      <th>8</th>\n",
       "      <td>1245</td>\n",
       "      <td>Ayan'</td>\n",
       "      <td>MBA</td>\n",
       "      <td>UP</td>\n",
       "      <td>1.000000e+02</td>\n",
       "    </tr>\n",
       "    <tr>\n",
       "      <th>9</th>\n",
       "      <td>1256</td>\n",
       "      <td>Rachit</td>\n",
       "      <td>BCA</td>\n",
       "      <td>PATNA</td>\n",
       "      <td>1.500000e+03</td>\n",
       "    </tr>\n",
       "    <tr>\n",
       "      <th>10</th>\n",
       "      <td>1345</td>\n",
       "      <td>Govind</td>\n",
       "      <td>BTECH</td>\n",
       "      <td>Himachal</td>\n",
       "      <td>1.345000e+03</td>\n",
       "    </tr>\n",
       "    <tr>\n",
       "      <th>11</th>\n",
       "      <td>56</td>\n",
       "      <td>Harsh</td>\n",
       "      <td>BCA</td>\n",
       "      <td>delhi</td>\n",
       "      <td>1.500000e+03</td>\n",
       "    </tr>\n",
       "    <tr>\n",
       "      <th>12</th>\n",
       "      <td>45</td>\n",
       "      <td>Gajodhar</td>\n",
       "      <td>BOTONY</td>\n",
       "      <td>KASOL</td>\n",
       "      <td>6.000000e+05</td>\n",
       "    </tr>\n",
       "    <tr>\n",
       "      <th>13</th>\n",
       "      <td>548</td>\n",
       "      <td>GFDD</td>\n",
       "      <td>BCA</td>\n",
       "      <td>RUSSIA</td>\n",
       "      <td>6.000000e+16</td>\n",
       "    </tr>\n",
       "  </tbody>\n",
       "</table>\n",
       "</div>"
      ],
      "text/plain": [
       "     SID   student_name  course   Address   Scholarship\n",
       "0    101   Mohan Sharma     BCA     Delhi  5.000510e+03\n",
       "1    105  Daksh Chanana     MCA     Delhi  4.899980e+03\n",
       "2    101   Mohan Sharma     BCA     Delhi  5.000510e+03\n",
       "3    105  Daksh Chanana     MCA     Delhi  4.899980e+03\n",
       "4    102   Raju Rastogi     MBA     Delhi  1.000300e+03\n",
       "5    107   Mohan Gulati   BTECH        UP  2.000000e+03\n",
       "6   1245          Daksh   Delhi       BCA  1.500000e+03\n",
       "7   1245          Daksh     BCA     dElhi  1.500000e+03\n",
       "8   1245          Ayan'     MBA        UP  1.000000e+02\n",
       "9   1256         Rachit     BCA     PATNA  1.500000e+03\n",
       "10  1345         Govind   BTECH  Himachal  1.345000e+03\n",
       "11    56          Harsh     BCA     delhi  1.500000e+03\n",
       "12    45       Gajodhar  BOTONY     KASOL  6.000000e+05\n",
       "13   548           GFDD     BCA    RUSSIA  6.000000e+16"
      ]
     },
     "execution_count": 31,
     "metadata": {},
     "output_type": "execute_result"
    }
   ],
   "source": [
    "query = \"select * from student_details;\"\n",
    "\n",
    "cur.execute(query)\n",
    "\n",
    "records = cur.fetchall()\n",
    "\n",
    "import pandas as pd\n",
    "df = pd.DataFrame(records,columns = all_columns)\n",
    "df"
   ]
  },
  {
   "cell_type": "code",
   "execution_count": null,
   "id": "1b325158-49ce-4230-bd85-75dc1562d35a",
   "metadata": {},
   "outputs": [],
   "source": []
  },
  {
   "cell_type": "code",
   "execution_count": null,
   "id": "05ac3842-1bde-4c8d-ae5d-73b0ff29ffa1",
   "metadata": {},
   "outputs": [],
   "source": []
  },
  {
   "cell_type": "code",
   "execution_count": null,
   "id": "c892592a-4d27-4e1b-96f2-bf6084769ae8",
   "metadata": {},
   "outputs": [],
   "source": []
  },
  {
   "cell_type": "code",
   "execution_count": null,
   "id": "43416729-6a76-497b-ac34-95cdef11ea57",
   "metadata": {},
   "outputs": [],
   "source": []
  },
  {
   "cell_type": "code",
   "execution_count": null,
   "id": "45954efe-3346-4301-bb1e-3e498200d36a",
   "metadata": {},
   "outputs": [],
   "source": []
  },
  {
   "cell_type": "code",
   "execution_count": 36,
   "id": "02144aa0-6ad0-46f3-be8c-eeee7decc136",
   "metadata": {},
   "outputs": [],
   "source": [
    "def show_records(db,table):\n",
    "\n",
    "    query = f'''select * from {db}.{table};'''\n",
    "    \n",
    "    cur.execute(query)\n",
    "    \n",
    "    records = cur.fetchall()\n",
    "\n",
    "    all_columns = []\n",
    "    for i in cur.description:\n",
    "        all_columns.append(i[0])\n",
    "\n",
    "    \n",
    "    import pandas as pd\n",
    "    df = pd.DataFrame(records,columns = all_columns)\n",
    "    return df"
   ]
  },
  {
   "cell_type": "code",
   "execution_count": 38,
   "id": "1765f344-04b8-49fe-bc02-6ce5b2b40d09",
   "metadata": {},
   "outputs": [
    {
     "data": {
      "text/html": [
       "<div>\n",
       "<style scoped>\n",
       "    .dataframe tbody tr th:only-of-type {\n",
       "        vertical-align: middle;\n",
       "    }\n",
       "\n",
       "    .dataframe tbody tr th {\n",
       "        vertical-align: top;\n",
       "    }\n",
       "\n",
       "    .dataframe thead th {\n",
       "        text-align: right;\n",
       "    }\n",
       "</style>\n",
       "<table border=\"1\" class=\"dataframe\">\n",
       "  <thead>\n",
       "    <tr style=\"text-align: right;\">\n",
       "      <th></th>\n",
       "      <th>SID</th>\n",
       "      <th>student_name</th>\n",
       "      <th>course</th>\n",
       "      <th>Address</th>\n",
       "      <th>Scholarship</th>\n",
       "    </tr>\n",
       "  </thead>\n",
       "  <tbody>\n",
       "    <tr>\n",
       "      <th>0</th>\n",
       "      <td>101</td>\n",
       "      <td>Mohan Sharma</td>\n",
       "      <td>BCA</td>\n",
       "      <td>Delhi</td>\n",
       "      <td>5.000510e+03</td>\n",
       "    </tr>\n",
       "    <tr>\n",
       "      <th>1</th>\n",
       "      <td>105</td>\n",
       "      <td>Daksh Chanana</td>\n",
       "      <td>MCA</td>\n",
       "      <td>Delhi</td>\n",
       "      <td>4.899980e+03</td>\n",
       "    </tr>\n",
       "    <tr>\n",
       "      <th>2</th>\n",
       "      <td>101</td>\n",
       "      <td>Mohan Sharma</td>\n",
       "      <td>BCA</td>\n",
       "      <td>Delhi</td>\n",
       "      <td>5.000510e+03</td>\n",
       "    </tr>\n",
       "    <tr>\n",
       "      <th>3</th>\n",
       "      <td>105</td>\n",
       "      <td>Daksh Chanana</td>\n",
       "      <td>MCA</td>\n",
       "      <td>Delhi</td>\n",
       "      <td>4.899980e+03</td>\n",
       "    </tr>\n",
       "    <tr>\n",
       "      <th>4</th>\n",
       "      <td>102</td>\n",
       "      <td>Raju Rastogi</td>\n",
       "      <td>MBA</td>\n",
       "      <td>Delhi</td>\n",
       "      <td>1.000300e+03</td>\n",
       "    </tr>\n",
       "    <tr>\n",
       "      <th>5</th>\n",
       "      <td>107</td>\n",
       "      <td>Mohan Gulati</td>\n",
       "      <td>BTECH</td>\n",
       "      <td>UP</td>\n",
       "      <td>2.000000e+03</td>\n",
       "    </tr>\n",
       "    <tr>\n",
       "      <th>6</th>\n",
       "      <td>1245</td>\n",
       "      <td>Daksh</td>\n",
       "      <td>Delhi</td>\n",
       "      <td>BCA</td>\n",
       "      <td>1.500000e+03</td>\n",
       "    </tr>\n",
       "    <tr>\n",
       "      <th>7</th>\n",
       "      <td>1245</td>\n",
       "      <td>Daksh</td>\n",
       "      <td>BCA</td>\n",
       "      <td>dElhi</td>\n",
       "      <td>1.500000e+03</td>\n",
       "    </tr>\n",
       "    <tr>\n",
       "      <th>8</th>\n",
       "      <td>1245</td>\n",
       "      <td>Ayan'</td>\n",
       "      <td>MBA</td>\n",
       "      <td>UP</td>\n",
       "      <td>1.000000e+02</td>\n",
       "    </tr>\n",
       "    <tr>\n",
       "      <th>9</th>\n",
       "      <td>1256</td>\n",
       "      <td>Rachit</td>\n",
       "      <td>BCA</td>\n",
       "      <td>PATNA</td>\n",
       "      <td>1.500000e+03</td>\n",
       "    </tr>\n",
       "    <tr>\n",
       "      <th>10</th>\n",
       "      <td>1345</td>\n",
       "      <td>Govind</td>\n",
       "      <td>BTECH</td>\n",
       "      <td>Himachal</td>\n",
       "      <td>1.345000e+03</td>\n",
       "    </tr>\n",
       "    <tr>\n",
       "      <th>11</th>\n",
       "      <td>56</td>\n",
       "      <td>Harsh</td>\n",
       "      <td>BCA</td>\n",
       "      <td>delhi</td>\n",
       "      <td>1.500000e+03</td>\n",
       "    </tr>\n",
       "    <tr>\n",
       "      <th>12</th>\n",
       "      <td>45</td>\n",
       "      <td>Gajodhar</td>\n",
       "      <td>BOTONY</td>\n",
       "      <td>KASOL</td>\n",
       "      <td>6.000000e+05</td>\n",
       "    </tr>\n",
       "    <tr>\n",
       "      <th>13</th>\n",
       "      <td>548</td>\n",
       "      <td>GFDD</td>\n",
       "      <td>BCA</td>\n",
       "      <td>RUSSIA</td>\n",
       "      <td>6.000000e+16</td>\n",
       "    </tr>\n",
       "  </tbody>\n",
       "</table>\n",
       "</div>"
      ],
      "text/plain": [
       "     SID   student_name  course   Address   Scholarship\n",
       "0    101   Mohan Sharma     BCA     Delhi  5.000510e+03\n",
       "1    105  Daksh Chanana     MCA     Delhi  4.899980e+03\n",
       "2    101   Mohan Sharma     BCA     Delhi  5.000510e+03\n",
       "3    105  Daksh Chanana     MCA     Delhi  4.899980e+03\n",
       "4    102   Raju Rastogi     MBA     Delhi  1.000300e+03\n",
       "5    107   Mohan Gulati   BTECH        UP  2.000000e+03\n",
       "6   1245          Daksh   Delhi       BCA  1.500000e+03\n",
       "7   1245          Daksh     BCA     dElhi  1.500000e+03\n",
       "8   1245          Ayan'     MBA        UP  1.000000e+02\n",
       "9   1256         Rachit     BCA     PATNA  1.500000e+03\n",
       "10  1345         Govind   BTECH  Himachal  1.345000e+03\n",
       "11    56          Harsh     BCA     delhi  1.500000e+03\n",
       "12    45       Gajodhar  BOTONY     KASOL  6.000000e+05\n",
       "13   548           GFDD     BCA    RUSSIA  6.000000e+16"
      ]
     },
     "execution_count": 38,
     "metadata": {},
     "output_type": "execute_result"
    }
   ],
   "source": [
    "show_records('iitm_day5','student_details')"
   ]
  },
  {
   "cell_type": "code",
   "execution_count": null,
   "id": "ec95d3fb-785e-405e-ad14-48224f6584a4",
   "metadata": {},
   "outputs": [],
   "source": []
  }
 ],
 "metadata": {
  "kernelspec": {
   "display_name": "Python [conda env:base] *",
   "language": "python",
   "name": "conda-base-py"
  },
  "language_info": {
   "codemirror_mode": {
    "name": "ipython",
    "version": 3
   },
   "file_extension": ".py",
   "mimetype": "text/x-python",
   "name": "python",
   "nbconvert_exporter": "python",
   "pygments_lexer": "ipython3",
   "version": "3.12.7"
  }
 },
 "nbformat": 4,
 "nbformat_minor": 5
}
