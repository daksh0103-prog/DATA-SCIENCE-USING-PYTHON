{
 "cells": [
  {
   "cell_type": "code",
   "execution_count": 1,
   "id": "174897cc-3837-4767-891f-e428524618de",
   "metadata": {},
   "outputs": [
    {
     "name": "stdout",
     "output_type": "stream",
     "text": [
      "Mon Jun 30 12:55:35 2025\n"
     ]
    }
   ],
   "source": [
    "import time\n",
    "for i in range(100):\n",
    "    print(time.asctime())\n",
    "    time.sleep(1)\n",
    "    display(clear=True)"
   ]
  },
  {
   "cell_type": "code",
   "execution_count": 4,
   "id": "6d8d6866-e906-425f-af66-df745770db64",
   "metadata": {},
   "outputs": [
    {
     "name": "stdin",
     "output_type": "stream",
     "text": [
      "Enter your choice(1-10) :  5\n"
     ]
    },
    {
     "name": "stdout",
     "output_type": "stream",
     "text": [
      "\n",
      "User choice: 5\n",
      "Computer choice : 5\n",
      "User won, comp lose!!\n"
     ]
    }
   ],
   "source": [
    "import random\n",
    "comp_choice = random.randint(1,10)\n",
    "user_choice = int(input('Enter your choice(1-10) : '))\n",
    "\n",
    "print(f'''\n",
    "User choice: {user_choice}\n",
    "Computer choice : {comp_choice}''')\n",
    "\n",
    "if user_choice == comp_choice:\n",
    "    print('User won, comp lose!!')\n",
    "\n",
    "else:\n",
    "    print('Better luck next time')"
   ]
  },
  {
   "cell_type": "code",
   "execution_count": 16,
   "id": "69c16a3d-71ef-44c5-b37d-920dac4b8606",
   "metadata": {},
   "outputs": [
    {
     "name": "stdin",
     "output_type": "stream",
     "text": [
      "Enter your choice(1-10) :  5\n"
     ]
    },
    {
     "name": "stdout",
     "output_type": "stream",
     "text": [
      "\n",
      "    User choice: 5\n",
      "    Computer choice : 2\n",
      "Better luck next time\n"
     ]
    },
    {
     "name": "stdin",
     "output_type": "stream",
     "text": [
      "Enter your choice(1-10) :  8\n"
     ]
    },
    {
     "name": "stdout",
     "output_type": "stream",
     "text": [
      "\n",
      "    User choice: 8\n",
      "    Computer choice : 4\n",
      "Better luck next time\n"
     ]
    },
    {
     "name": "stdin",
     "output_type": "stream",
     "text": [
      "Enter your choice(1-10) :  6\n"
     ]
    },
    {
     "name": "stdout",
     "output_type": "stream",
     "text": [
      "\n",
      "    User choice: 6\n",
      "    Computer choice : 3\n",
      "Better luck next time\n"
     ]
    }
   ],
   "source": [
    "user_attempts = 3\n",
    "import random\n",
    "for i in range(user_attempts):\n",
    "    comp_choice = random.randint(1,10)\n",
    "    user_choice = int(input('Enter your choice(1-10) : '))\n",
    "\n",
    "    print(f'''\n",
    "    User choice: {user_choice}\n",
    "    Computer choice : {comp_choice}''')\n",
    "    \n",
    "    if user_choice == comp_choice:\n",
    "        print('User won, comp lose!!')\n",
    "    \n",
    "    else:\n",
    "        print('Better luck next time')\n",
    "        "
   ]
  },
  {
   "cell_type": "code",
   "execution_count": 20,
   "id": "8b5ca3f8-ef02-4585-9141-8a72cf2a1c09",
   "metadata": {},
   "outputs": [
    {
     "name": "stdout",
     "output_type": "stream",
     "text": [
      "Question 1:  What is the capital of Australia?\n",
      "  A) Sydney\n",
      "B) Melbourne\n",
      "C) Canberra\n",
      "D) Perth\n"
     ]
    },
    {
     "name": "stdin",
     "output_type": "stream",
     "text": [
      "Enter your choice:  C\n"
     ]
    },
    {
     "name": "stdout",
     "output_type": "stream",
     "text": [
      "Correct Answer!!\n",
      "\n",
      "\n",
      "\n",
      "Question 2:  Who invented the telephone?\n",
      "A) Albert Einstein\n",
      "B) Isaac Newton\n",
      "C) Alexander Graham Bell\n",
      "D) Thomas Edison\n"
     ]
    },
    {
     "name": "stdin",
     "output_type": "stream",
     "text": [
      "Enter your choice:  C\n"
     ]
    },
    {
     "name": "stdout",
     "output_type": "stream",
     "text": [
      "Correct Answer!!\n",
      "\n",
      "\n",
      "\n",
      "Question 3:  Which planet is known as the Red Planet?\n",
      "A) Earth\n",
      "B) Venus\n",
      "C) Jupiter\n",
      "D) Mars\n"
     ]
    },
    {
     "name": "stdin",
     "output_type": "stream",
     "text": [
      "Enter your choice:  D\n"
     ]
    },
    {
     "name": "stdout",
     "output_type": "stream",
     "text": [
      "Correct Answer!!\n",
      "\n",
      "\n",
      "\n",
      "Question 4:  In which year did India gain independence?\n",
      "A) 1945\n",
      "B) 1946\n",
      "C) 1947\n",
      "D) 1950\n"
     ]
    },
    {
     "name": "stdin",
     "output_type": "stream",
     "text": [
      "Enter your choice:  C\n"
     ]
    },
    {
     "name": "stdout",
     "output_type": "stream",
     "text": [
      "Correct Answer!!\n",
      "\n",
      "\n",
      "\n",
      "Question 5:  What is the largest organ in the human body?\n",
      "A) Liver\n",
      "B) Brain\n",
      "C) Skin\n",
      "D) Heart\n"
     ]
    },
    {
     "name": "stdin",
     "output_type": "stream",
     "text": [
      "Enter your choice:  C\n"
     ]
    },
    {
     "name": "stdout",
     "output_type": "stream",
     "text": [
      "Correct Answer!!\n",
      "\n",
      "\n",
      "\n",
      "Question 1:  What is the capital of Australia?\n",
      "A) Sydney\n",
      "B) Melbourne\n",
      "C) Canberra\n",
      "D) Perth\n"
     ]
    },
    {
     "name": "stdin",
     "output_type": "stream",
     "text": [
      "Enter your choice:  C\n"
     ]
    },
    {
     "name": "stdout",
     "output_type": "stream",
     "text": [
      "Correct Answer!!\n",
      "\n",
      "\n",
      "\n",
      "Question 2:  Who invented the telephone?\n",
      "A) Albert Einstein\n",
      "B) Isaac Newton\n",
      "C) Alexander Graham Bell\n",
      "D) Thomas Edison\n"
     ]
    },
    {
     "name": "stdin",
     "output_type": "stream",
     "text": [
      "Enter your choice:  C\n"
     ]
    },
    {
     "name": "stdout",
     "output_type": "stream",
     "text": [
      "Correct Answer!!\n",
      "\n",
      "\n",
      "\n",
      "Question 3:  Which planet is known as the Red Planet?\n",
      "A) Earth\n",
      "B) Venus\n",
      "C) Jupiter\n",
      "D) Mars\n"
     ]
    },
    {
     "name": "stdin",
     "output_type": "stream",
     "text": [
      "Enter your choice:  A\n"
     ]
    },
    {
     "name": "stdout",
     "output_type": "stream",
     "text": [
      "Better luck next time!!\n",
      "Total Amount 20000\n"
     ]
    }
   ],
   "source": [
    "Questions = {1:'What is the capital of Australia?',\n",
    "             2:'Who invented the telephone?',\n",
    "             3:'Which planet is known as the Red Planet?',\n",
    "             4:'In which year did India gain independence?',\n",
    "             5:'What is the largest organ in the human body?'}\n",
    "\n",
    "options = {1:'''  A) Sydney\n",
    "B) Melbourne\n",
    "C) Canberra\n",
    "D) Perth''',\n",
    "           2:'''A) Albert Einstein\n",
    "B) Isaac Newton\n",
    "C) Alexander Graham Bell\n",
    "D) Thomas Edison''',\n",
    "           3:'''A) Earth\n",
    "B) Venus\n",
    "C) Jupiter\n",
    "D) Mars''',\n",
    "           4:'''A) 1945\n",
    "B) 1946\n",
    "C) 1947\n",
    "D) 1950''',\n",
    "           5:'''A) Liver\n",
    "B) Brain\n",
    "C) Skin\n",
    "D) Heart'''}\n",
    "\n",
    "win_ammount = 0\n",
    "\n",
    "correct_op = ['C','C','D','C','C']\n",
    "\n",
    "for i in range(1,len(Questions)+1):\n",
    "  print(f'Question {i}: ',Questions[i])\n",
    "  print(options[i])\n",
    "  user_choice = input('Enter your choice: ').upper()\n",
    "\n",
    "  correct_ans = correct_op[i-1]\n",
    "  # print(correct_ans)\n",
    "  if user_choice == correct_ans:\n",
    "    win_ammount += 10000\n",
    "    print('Correct Answer!!')\n",
    "    print(end = '\\n'*3)\n",
    "\n",
    "  else:\n",
    "    print('Better luck next time!!')\n",
    "    break\n",
    "\n",
    "\n",
    "Questions = {1:'What is the capital of Australia?',\n",
    "             2:'Who invented the telephone?',\n",
    "             3:'Which planet is known as the Red Planet?',\n",
    "             4:'In which year did India gain independence?',\n",
    "             5:'What is the largest organ in the human body?'}\n",
    "\n",
    "options = {1:'''A) Sydney\n",
    "B) Melbourne\n",
    "C) Canberra\n",
    "D) Perth''',\n",
    "           2:'''A) Albert Einstein\n",
    "B) Isaac Newton\n",
    "C) Alexander Graham Bell\n",
    "D) Thomas Edison''',\n",
    "           3:'''A) Earth\n",
    "B) Venus\n",
    "C) Jupiter\n",
    "D) Mars''',\n",
    "           4:'''A) 1945\n",
    "B) 1946\n",
    "C) 1947\n",
    "D) 1950''',\n",
    "           5:'''A) Liver\n",
    "B) Brain\n",
    "C) Skin\n",
    "D) Heart'''}\n",
    "\n",
    "win_ammount = 0\n",
    "\n",
    "correct_op = ['C','C','D','C','C']\n",
    "\n",
    "for i in range(1,len(Questions)+1):\n",
    "  print(f'Question {i}: ',Questions[i])\n",
    "  print(options[i])\n",
    "  user_choice = input('Enter your choice: ').upper()\n",
    "\n",
    "  correct_ans = correct_op[i-1]\n",
    "  # print(correct_ans)\n",
    "  if user_choice == correct_ans:\n",
    "    win_ammount += 10000\n",
    "    print('Correct Answer!!')\n",
    "    print(end = '\\n'*3)\n",
    "\n",
    "  else:\n",
    "    print('Better luck next time!!')\n",
    "    break\n",
    "\n",
    "\n",
    "print('Total Amount',win_ammount)"
   ]
  },
  {
   "cell_type": "code",
   "execution_count": null,
   "id": "ef034caf-18b2-48bd-8b37-b839030ca112",
   "metadata": {},
   "outputs": [],
   "source": []
  },
  {
   "cell_type": "code",
   "execution_count": 23,
   "id": "e592240f-d309-4d00-bd09-d67d7064fd5c",
   "metadata": {},
   "outputs": [],
   "source": [
    "def say_hello(name):\n",
    "    print(f'Hello {name},','How are you??')"
   ]
  },
  {
   "cell_type": "code",
   "execution_count": 24,
   "id": "fe93a5df-455d-4873-869a-f226b791c424",
   "metadata": {},
   "outputs": [
    {
     "name": "stdout",
     "output_type": "stream",
     "text": [
      "Hello Daksh, How are you??\n"
     ]
    }
   ],
   "source": [
    "say_hello('Daksh')"
   ]
  },
  {
   "cell_type": "code",
   "execution_count": 42,
   "id": "e4d0b2e8-9087-4b2a-abda-401af040a7f3",
   "metadata": {},
   "outputs": [],
   "source": [
    "def vote(age):\n",
    "  print('can Vote!!') if age >= 18 else print('can not Vote!!')"
   ]
  },
  {
   "cell_type": "code",
   "execution_count": 43,
   "id": "ec29b2e7-bc6b-42c1-bdb0-39e29470f482",
   "metadata": {},
   "outputs": [
    {
     "name": "stdout",
     "output_type": "stream",
     "text": [
      "can Vote!!\n"
     ]
    }
   ],
   "source": [
    "vote(18)"
   ]
  },
  {
   "cell_type": "code",
   "execution_count": null,
   "id": "bb0ac94e-07e6-45eb-9ed6-12cdbed63d35",
   "metadata": {},
   "outputs": [],
   "source": []
  },
  {
   "cell_type": "code",
   "execution_count": 44,
   "id": "a4c4c516-08e7-484c-926e-0c55b6109050",
   "metadata": {},
   "outputs": [
    {
     "name": "stdout",
     "output_type": "stream",
     "text": [
      "Defaulting to user installation because normal site-packages is not writeableNote: you may need to restart the kernel to use updated packages.\n",
      "\n",
      "Collecting gTTS\n",
      "  Downloading gTTS-2.5.4-py3-none-any.whl.metadata (4.1 kB)\n",
      "Requirement already satisfied: requests<3,>=2.27 in c:\\programdata\\anaconda3\\lib\\site-packages (from gTTS) (2.32.3)\n",
      "Requirement already satisfied: click<8.2,>=7.1 in c:\\programdata\\anaconda3\\lib\\site-packages (from gTTS) (8.1.7)\n",
      "Requirement already satisfied: colorama in c:\\programdata\\anaconda3\\lib\\site-packages (from click<8.2,>=7.1->gTTS) (0.4.6)\n",
      "Requirement already satisfied: charset-normalizer<4,>=2 in c:\\programdata\\anaconda3\\lib\\site-packages (from requests<3,>=2.27->gTTS) (3.3.2)\n",
      "Requirement already satisfied: idna<4,>=2.5 in c:\\programdata\\anaconda3\\lib\\site-packages (from requests<3,>=2.27->gTTS) (3.7)\n",
      "Requirement already satisfied: urllib3<3,>=1.21.1 in c:\\programdata\\anaconda3\\lib\\site-packages (from requests<3,>=2.27->gTTS) (2.2.3)\n",
      "Requirement already satisfied: certifi>=2017.4.17 in c:\\programdata\\anaconda3\\lib\\site-packages (from requests<3,>=2.27->gTTS) (2025.4.26)\n",
      "Downloading gTTS-2.5.4-py3-none-any.whl (29 kB)\n",
      "Installing collected packages: gTTS\n",
      "Successfully installed gTTS-2.5.4\n"
     ]
    },
    {
     "name": "stderr",
     "output_type": "stream",
     "text": [
      "  WARNING: The script gtts-cli.exe is installed in 'C:\\Users\\chana\\AppData\\Roaming\\Python\\Python312\\Scripts' which is not on PATH.\n",
      "  Consider adding this directory to PATH or, if you prefer to suppress this warning, use --no-warn-script-location.\n"
     ]
    }
   ],
   "source": [
    "pip install gTTS"
   ]
  },
  {
   "cell_type": "code",
   "execution_count": 51,
   "id": "93c3fb93-176f-4a49-809f-ded5c715e401",
   "metadata": {},
   "outputs": [
    {
     "data": {
      "text/plain": [
       "<pygame.mixer.Channel at 0x2627e9fc930>"
      ]
     },
     "execution_count": 51,
     "metadata": {},
     "output_type": "execute_result"
    }
   ],
   "source": [
    "from gtts import gTTS\n",
    "\n",
    "text = '''Paytm par 50 rs prapt hue.'''\n",
    "audio = gTTS(text)\n",
    "audio.save('paytm.mp3')\n",
    "\n",
    "import pygame as p\n",
    "p.init()\n",
    "\n",
    "music = p.mixer.Sound('paytm.mp3')\n",
    "music.play()"
   ]
  },
  {
   "cell_type": "code",
   "execution_count": 47,
   "id": "2149296a-4fde-4325-aef8-1decd5e7373a",
   "metadata": {},
   "outputs": [
    {
     "name": "stdout",
     "output_type": "stream",
     "text": [
      "Defaulting to user installation because normal site-packages is not writeable\n",
      "Collecting pygame\n",
      "  Downloading pygame-2.6.1-cp312-cp312-win_amd64.whl.metadata (13 kB)\n",
      "Downloading pygame-2.6.1-cp312-cp312-win_amd64.whl (10.6 MB)\n",
      "   ---------------------------------------- 0.0/10.6 MB ? eta -:--:--\n",
      "   ---------------------------------------- 0.0/10.6 MB ? eta -:--:--\n",
      "   -- ------------------------------------- 0.8/10.6 MB 2.6 MB/s eta 0:00:04\n",
      "   ----- ---------------------------------- 1.6/10.6 MB 3.2 MB/s eta 0:00:03\n",
      "   --------- ------------------------------ 2.6/10.6 MB 3.7 MB/s eta 0:00:03\n",
      "   ----------- ---------------------------- 3.1/10.6 MB 3.3 MB/s eta 0:00:03\n",
      "   ------------- -------------------------- 3.7/10.6 MB 3.2 MB/s eta 0:00:03\n",
      "   --------------- ------------------------ 4.2/10.6 MB 3.3 MB/s eta 0:00:02\n",
      "   ------------------ --------------------- 5.0/10.6 MB 3.1 MB/s eta 0:00:02\n",
      "   -------------------- ------------------- 5.5/10.6 MB 3.1 MB/s eta 0:00:02\n",
      "   ------------------------ --------------- 6.6/10.6 MB 3.2 MB/s eta 0:00:02\n",
      "   -------------------------- ------------- 7.1/10.6 MB 3.1 MB/s eta 0:00:02\n",
      "   ---------------------------- ----------- 7.6/10.6 MB 3.3 MB/s eta 0:00:01\n",
      "   ------------------------------- -------- 8.4/10.6 MB 3.2 MB/s eta 0:00:01\n",
      "   ------------------------------------ --- 9.7/10.6 MB 3.3 MB/s eta 0:00:01\n",
      "   ---------------------------------------  10.5/10.6 MB 3.4 MB/s eta 0:00:01\n",
      "   ---------------------------------------- 10.6/10.6 MB 3.3 MB/s eta 0:00:00\n",
      "Installing collected packages: pygame\n",
      "Successfully installed pygame-2.6.1\n",
      "Note: you may need to restart the kernel to use updated packages.\n"
     ]
    }
   ],
   "source": [
    "#pip install pygame"
   ]
  },
  {
   "cell_type": "code",
   "execution_count": 65,
   "id": "e41054ad-87cd-44cd-9201-3fdbc822aad6",
   "metadata": {},
   "outputs": [],
   "source": [
    "def sound_box(paisa,platform = 'Paytm'):\n",
    "    text = f'''{platform} par {paisa} rs prapt hue.'''\n",
    "    audio = gTTS(text)\n",
    "    audio.save('paytm.mp3')\n",
    "\n",
    "    import pygame as p\n",
    "    p.init()\n",
    "\n",
    "    music = p.mixer.Sound('paytm.mp3')\n",
    "    music.play()"
   ]
  },
  {
   "cell_type": "code",
   "execution_count": 67,
   "id": "240da432-2e20-4dca-b151-bc773a57a067",
   "metadata": {},
   "outputs": [],
   "source": [
    "sound_box(10000,'phonepe')"
   ]
  }
 ],
 "metadata": {
  "kernelspec": {
   "display_name": "Python [conda env:base] *",
   "language": "python",
   "name": "conda-base-py"
  },
  "language_info": {
   "codemirror_mode": {
    "name": "ipython",
    "version": 3
   },
   "file_extension": ".py",
   "mimetype": "text/x-python",
   "name": "python",
   "nbconvert_exporter": "python",
   "pygments_lexer": "ipython3",
   "version": "3.12.7"
  }
 },
 "nbformat": 4,
 "nbformat_minor": 5
}
