{
 "cells": [
  {
   "cell_type": "code",
   "execution_count": 1,
   "id": "717b2b14-f3f5-4024-9976-f654450ca106",
   "metadata": {},
   "outputs": [],
   "source": [
    "def show_time():\n",
    "    while True:\n",
    "        import time\n",
    "        print(time.asctime())\n",
    "        time.sleep(1)\n",
    "        display(clear = True)"
   ]
  },
  {
   "cell_type": "code",
   "execution_count": 2,
   "id": "42a708ec-bc30-4314-b9fd-6a3bc95e8532",
   "metadata": {},
   "outputs": [
    {
     "name": "stdout",
     "output_type": "stream",
     "text": [
      "Fri Jul  4 10:35:55 2025\n"
     ]
    },
    {
     "ename": "KeyboardInterrupt",
     "evalue": "",
     "output_type": "error",
     "traceback": [
      "\u001b[1;31m---------------------------------------------------------------------------\u001b[0m",
      "\u001b[1;31mKeyboardInterrupt\u001b[0m                         Traceback (most recent call last)",
      "Cell \u001b[1;32mIn[2], line 1\u001b[0m\n\u001b[1;32m----> 1\u001b[0m show_time()\n",
      "Cell \u001b[1;32mIn[1], line 5\u001b[0m, in \u001b[0;36mshow_time\u001b[1;34m()\u001b[0m\n\u001b[0;32m      3\u001b[0m \u001b[38;5;28;01mimport\u001b[39;00m \u001b[38;5;21;01mtime\u001b[39;00m\n\u001b[0;32m      4\u001b[0m \u001b[38;5;28mprint\u001b[39m(time\u001b[38;5;241m.\u001b[39masctime())\n\u001b[1;32m----> 5\u001b[0m time\u001b[38;5;241m.\u001b[39msleep(\u001b[38;5;241m1\u001b[39m)\n\u001b[0;32m      6\u001b[0m display(clear \u001b[38;5;241m=\u001b[39m \u001b[38;5;28;01mTrue\u001b[39;00m)\n",
      "\u001b[1;31mKeyboardInterrupt\u001b[0m: "
     ]
    }
   ],
   "source": [
    "show_time()"
   ]
  },
  {
   "cell_type": "code",
   "execution_count": 3,
   "id": "7a9e00e9-2744-470f-b611-fa6ddc30fa2f",
   "metadata": {},
   "outputs": [],
   "source": [
    "##fixing this keyboard interrupt error"
   ]
  },
  {
   "cell_type": "code",
   "execution_count": 4,
   "id": "258cd6fa-5840-46f0-92b1-ef4228889b5f",
   "metadata": {},
   "outputs": [],
   "source": [
    "def show_time():\n",
    "    try:\n",
    "        while True:\n",
    "            import time\n",
    "            print(time.asctime())\n",
    "            time.sleep(1)\n",
    "            display(clear = True)\n",
    "    except:\n",
    "        print('Timer has been stopped')"
   ]
  },
  {
   "cell_type": "code",
   "execution_count": 5,
   "id": "7d7d845a-92f0-47f0-aa0b-13c34a05bb9f",
   "metadata": {},
   "outputs": [
    {
     "name": "stdout",
     "output_type": "stream",
     "text": [
      "Fri Jul  4 10:39:39 2025\n",
      "Timer has been stopped\n"
     ]
    }
   ],
   "source": [
    "show_time()"
   ]
  },
  {
   "cell_type": "code",
   "execution_count": null,
   "id": "f6ede61f-3451-4513-a9ae-23307ca7f0f0",
   "metadata": {},
   "outputs": [],
   "source": []
  },
  {
   "cell_type": "code",
   "execution_count": null,
   "id": "d95d2ebd-4317-4916-8f82-47a49b9040c4",
   "metadata": {},
   "outputs": [],
   "source": []
  },
  {
   "cell_type": "code",
   "execution_count": null,
   "id": "72227ffb-c8ce-4184-92f2-5015f25363ff",
   "metadata": {},
   "outputs": [],
   "source": []
  },
  {
   "cell_type": "code",
   "execution_count": null,
   "id": "46ece34a-114c-48fd-82c0-df8007e1ae63",
   "metadata": {},
   "outputs": [],
   "source": []
  },
  {
   "cell_type": "code",
   "execution_count": null,
   "id": "4f1a437b-6770-41ab-9f68-ad60e4a23b2f",
   "metadata": {},
   "outputs": [],
   "source": []
  },
  {
   "cell_type": "code",
   "execution_count": null,
   "id": "c75218d4-0a7a-42f1-a9fa-fc4f246b0fc3",
   "metadata": {},
   "outputs": [],
   "source": []
  },
  {
   "cell_type": "code",
   "execution_count": null,
   "id": "588f6501-3210-4981-ac92-db6e49851663",
   "metadata": {},
   "outputs": [],
   "source": []
  },
  {
   "cell_type": "code",
   "execution_count": null,
   "id": "fe125ea4-9882-41c4-8b78-4bf22d5d6531",
   "metadata": {},
   "outputs": [],
   "source": []
  },
  {
   "cell_type": "code",
   "execution_count": null,
   "id": "e896c70f-78bb-4f98-8634-12053d84d1a3",
   "metadata": {},
   "outputs": [],
   "source": []
  },
  {
   "cell_type": "code",
   "execution_count": null,
   "id": "d56ba032-c1c2-4c58-b578-755f9b45072e",
   "metadata": {},
   "outputs": [],
   "source": []
  },
  {
   "cell_type": "code",
   "execution_count": null,
   "id": "46d3d0ca-3a1f-4ec6-9b38-43a9202d34d3",
   "metadata": {},
   "outputs": [],
   "source": []
  },
  {
   "cell_type": "code",
   "execution_count": null,
   "id": "e16d1ee0-3a2f-43a0-9bc8-d402760006c5",
   "metadata": {},
   "outputs": [],
   "source": []
  },
  {
   "cell_type": "code",
   "execution_count": null,
   "id": "328ea831-e25b-402b-8166-d5f4b7064ac5",
   "metadata": {},
   "outputs": [],
   "source": []
  },
  {
   "cell_type": "code",
   "execution_count": null,
   "id": "47c7cf73-ec98-4a57-b280-51e113585134",
   "metadata": {},
   "outputs": [],
   "source": []
  },
  {
   "cell_type": "code",
   "execution_count": null,
   "id": "dd7d7af8-18b0-42bb-83c2-b90735f6d390",
   "metadata": {},
   "outputs": [],
   "source": []
  },
  {
   "cell_type": "code",
   "execution_count": null,
   "id": "3b7d5188-a7e6-4c19-b943-89229d304781",
   "metadata": {},
   "outputs": [],
   "source": []
  },
  {
   "cell_type": "code",
   "execution_count": null,
   "id": "f3a139aa-e58d-4f2e-bce8-a69b206e4883",
   "metadata": {},
   "outputs": [],
   "source": []
  },
  {
   "cell_type": "code",
   "execution_count": 1,
   "id": "fff4bcd9-c5fa-4c67-9676-542a3590d0a5",
   "metadata": {},
   "outputs": [
    {
     "name": "stdout",
     "output_type": "stream",
     "text": [
      "This is Daksh Module in python\n",
      "Info: https://www.google.com/\n"
     ]
    }
   ],
   "source": [
    "import daksh1 as d"
   ]
  },
  {
   "cell_type": "code",
   "execution_count": 2,
   "id": "09fba8ab-2267-4755-a823-09ef6cbc296a",
   "metadata": {},
   "outputs": [
    {
     "name": "stdout",
     "output_type": "stream",
     "text": [
      "This is Daksh Module in python\n",
      "Info: https://www.google.com/\n"
     ]
    }
   ],
   "source": [
    "from daksh import *"
   ]
  },
  {
   "cell_type": "code",
   "execution_count": 4,
   "id": "64c00551-c5a3-464d-95b4-7b3b380f201b",
   "metadata": {},
   "outputs": [
    {
     "data": {
      "text/plain": [
       "21"
      ]
     },
     "execution_count": 4,
     "metadata": {},
     "output_type": "execute_result"
    }
   ],
   "source": [
    "sum_of_n_natural_numbers(6)"
   ]
  },
  {
   "cell_type": "code",
   "execution_count": 6,
   "id": "b5a798ab-61a8-4dca-9090-e3aa89f5f1a3",
   "metadata": {},
   "outputs": [
    {
     "data": {
      "text/plain": [
       "'Not a Plaindrome'"
      ]
     },
     "execution_count": 6,
     "metadata": {},
     "output_type": "execute_result"
    }
   ],
   "source": [
    "check_palindrome('ac')"
   ]
  },
  {
   "cell_type": "code",
   "execution_count": 8,
   "id": "f858c097-1e9d-444c-979e-70d7e112bd19",
   "metadata": {},
   "outputs": [
    {
     "data": {
      "text/plain": [
       "[0, 1, 1, 2, 3, 5]"
      ]
     },
     "execution_count": 8,
     "metadata": {},
     "output_type": "execute_result"
    }
   ],
   "source": [
    "give_fibo(6)"
   ]
  },
  {
   "cell_type": "code",
   "execution_count": 9,
   "id": "9e237786-736c-4494-a9fb-c0e1418c0e88",
   "metadata": {},
   "outputs": [
    {
     "data": {
      "text/plain": [
       "'Not a Prime Number'"
      ]
     },
     "execution_count": 9,
     "metadata": {},
     "output_type": "execute_result"
    }
   ],
   "source": [
    "check_prime(65)"
   ]
  },
  {
   "cell_type": "code",
   "execution_count": 10,
   "id": "c7d246d8-9a4b-4cca-b1d1-b79559def80f",
   "metadata": {},
   "outputs": [
    {
     "ename": "NameError",
     "evalue": "name 'sound_box' is not defined",
     "output_type": "error",
     "traceback": [
      "\u001b[1;31m---------------------------------------------------------------------------\u001b[0m",
      "\u001b[1;31mNameError\u001b[0m                                 Traceback (most recent call last)",
      "Cell \u001b[1;32mIn[10], line 1\u001b[0m\n\u001b[1;32m----> 1\u001b[0m sound_box(\u001b[38;5;241m10\u001b[39m)\n",
      "\u001b[1;31mNameError\u001b[0m: name 'sound_box' is not defined"
     ]
    }
   ],
   "source": [
    "sound_box(10)"
   ]
  },
  {
   "cell_type": "code",
   "execution_count": 11,
   "id": "09d61e60-521a-4ed6-a6cb-0fcffe5a8101",
   "metadata": {},
   "outputs": [
    {
     "ename": "NameError",
     "evalue": "name 'sound_box' is not defined",
     "output_type": "error",
     "traceback": [
      "\u001b[1;31m---------------------------------------------------------------------------\u001b[0m",
      "\u001b[1;31mNameError\u001b[0m                                 Traceback (most recent call last)",
      "Cell \u001b[1;32mIn[11], line 1\u001b[0m\n\u001b[1;32m----> 1\u001b[0m sound_box\n",
      "\u001b[1;31mNameError\u001b[0m: name 'sound_box' is not defined"
     ]
    }
   ],
   "source": [
    "sound_box"
   ]
  },
  {
   "cell_type": "code",
   "execution_count": 12,
   "id": "82f555b2-89d6-4df6-816a-f50bcc03075a",
   "metadata": {},
   "outputs": [
    {
     "ename": "NameError",
     "evalue": "name 'sound_box' is not defined",
     "output_type": "error",
     "traceback": [
      "\u001b[1;31m---------------------------------------------------------------------------\u001b[0m",
      "\u001b[1;31mNameError\u001b[0m                                 Traceback (most recent call last)",
      "Cell \u001b[1;32mIn[12], line 1\u001b[0m\n\u001b[1;32m----> 1\u001b[0m sound_box(\u001b[38;5;241m15\u001b[39m)\n",
      "\u001b[1;31mNameError\u001b[0m: name 'sound_box' is not defined"
     ]
    }
   ],
   "source": [
    "sound_box(15)"
   ]
  },
  {
   "cell_type": "code",
   "execution_count": 13,
   "id": "a202fd3c-2848-4143-8e4a-19aed1babb62",
   "metadata": {},
   "outputs": [
    {
     "name": "stdout",
     "output_type": "stream",
     "text": [
      "pygame 2.6.1 (SDL 2.28.4, Python 3.12.7)\n",
      "Hello from the pygame community. https://www.pygame.org/contribute.html\n"
     ]
    }
   ],
   "source": [
    "d.sound_box(10)"
   ]
  },
  {
   "cell_type": "code",
   "execution_count": 4,
   "id": "a4d81cf0-831e-4fa4-b4dd-060125b80451",
   "metadata": {},
   "outputs": [
    {
     "name": "stdout",
     "output_type": "stream",
     "text": [
      "done\n"
     ]
    }
   ],
   "source": [
    "import turtle\n",
    "print('done')"
   ]
  },
  {
   "cell_type": "code",
   "execution_count": null,
   "id": "d0039fec-b65b-4d3c-94fb-c98afd099130",
   "metadata": {},
   "outputs": [],
   "source": [
    "#creating circle"
   ]
  },
  {
   "cell_type": "code",
   "execution_count": null,
   "id": "dc79cd08-0915-4fd3-9de8-0e2a2240a9e0",
   "metadata": {},
   "outputs": [],
   "source": [
    "import turtle\n",
    "for i in range(120):\n",
    "    turtle.speed(0)\n",
    "    turtle.bgcolor('black')\n",
    "    col = ['red','yellow','orange','green','blue']\n",
    "    import random\n",
    "    picked_color = random.choice(col)\n",
    "    turtle.color(picked_color)\n",
    "    turtle.circle(100)\n",
    "    turtle.left(5)"
   ]
  },
  {
   "cell_type": "code",
   "execution_count": 5,
   "id": "e0ffa8ec-e5e5-4dbb-84f4-e65e5f3c57bd",
   "metadata": {},
   "outputs": [],
   "source": [
    "#creating triangle"
   ]
  },
  {
   "cell_type": "code",
   "execution_count": 1,
   "id": "b9415047-4bfe-43c9-912d-1ecb1dc48a5d",
   "metadata": {},
   "outputs": [],
   "source": [
    "import turtle\n",
    "for i in range(6):\n",
    "    turtle.color('cyan')\n",
    "    turtle.bgcolor('black')\n",
    "    turtle.forward(100)\n",
    "    turtle.left(60)"
   ]
  },
  {
   "cell_type": "code",
   "execution_count": null,
   "id": "21a43533-c79e-421e-bbe8-1d712fb5ac7d",
   "metadata": {},
   "outputs": [],
   "source": []
  }
 ],
 "metadata": {
  "kernelspec": {
   "display_name": "Python [conda env:base] *",
   "language": "python",
   "name": "conda-base-py"
  },
  "language_info": {
   "codemirror_mode": {
    "name": "ipython",
    "version": 3
   },
   "file_extension": ".py",
   "mimetype": "text/x-python",
   "name": "python",
   "nbconvert_exporter": "python",
   "pygments_lexer": "ipython3",
   "version": "3.12.7"
  }
 },
 "nbformat": 4,
 "nbformat_minor": 5
}
