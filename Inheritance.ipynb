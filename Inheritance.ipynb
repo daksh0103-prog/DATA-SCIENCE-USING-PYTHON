{
 "cells": [
  {
   "cell_type": "code",
   "execution_count": 1,
   "id": "a966aa6f-c57c-4bd0-81d7-4194ede2c737",
   "metadata": {},
   "outputs": [],
   "source": [
    "#Simple Inheritance\n",
    "#Multiple Inheritance\n",
    "#Multi level inheritance\n",
    "#Hybrid Inheritance"
   ]
  },
  {
   "cell_type": "code",
   "execution_count": 2,
   "id": "055a5f80-8891-4cdf-9bb0-15bd25c7b0fe",
   "metadata": {},
   "outputs": [],
   "source": [
    "#Simple Inheritance(single)"
   ]
  },
  {
   "cell_type": "code",
   "execution_count": 10,
   "id": "8cc18fd8-47bf-4552-b417-edd36f64b1b5",
   "metadata": {},
   "outputs": [],
   "source": [
    "class BMW:\n",
    "    def super_turbo_engine(self):\n",
    "        print('super_turbo_engine Fast Speed')\n",
    "\n",
    "class Audi(BMW):#Inheriting BMW\n",
    "\n",
    "    def auto_pilot(self):\n",
    "        print('Can run on auto pilot mode!!!')"
   ]
  },
  {
   "cell_type": "code",
   "execution_count": 11,
   "id": "83a50b2b-f119-4f63-9190-24ade193f1b6",
   "metadata": {},
   "outputs": [],
   "source": [
    "audi_r8 = Audi()"
   ]
  },
  {
   "cell_type": "code",
   "execution_count": 12,
   "id": "8955b4ce-9f12-4a63-b40a-c6dd8791a1f5",
   "metadata": {},
   "outputs": [
    {
     "name": "stdout",
     "output_type": "stream",
     "text": [
      "Can run on auto pilot mode!!!\n"
     ]
    }
   ],
   "source": [
    "audi_r8.auto_pilot()"
   ]
  },
  {
   "cell_type": "code",
   "execution_count": 13,
   "id": "d4419f37-2c16-4898-a812-0e2c903aa02f",
   "metadata": {},
   "outputs": [
    {
     "name": "stdout",
     "output_type": "stream",
     "text": [
      "super_turbo_engine Fast Speed\n"
     ]
    }
   ],
   "source": [
    "audi_r8.super_turbo_engine()"
   ]
  },
  {
   "cell_type": "code",
   "execution_count": null,
   "id": "73154a74-3cc5-49d9-a527-a6d7044a91d7",
   "metadata": {},
   "outputs": [],
   "source": [
    "#Multiple Inheritance"
   ]
  },
  {
   "cell_type": "code",
   "execution_count": 23,
   "id": "43988a80-6972-4bf5-a78d-113936d0f73e",
   "metadata": {},
   "outputs": [],
   "source": [
    "\n",
    "\n",
    "class Daily_Object:\n",
    "    def phone_case(self):\n",
    "        print('Purchased a phone case')\n",
    "\n",
    "class JBL:\n",
    "    def speaker_sound(self):\n",
    "        print('Speaker boom boomm!!!')\n",
    "\n",
    "class Samsung:\n",
    "    def screen_display(self):\n",
    "        print('Installing screen of a phone')\n",
    "\n",
    "class Nvidia:\n",
    "    def motherboard_run(self):\n",
    "        print('Motherboard has been installed')\n",
    "\n",
    "class Lava:\n",
    "    def battery(self):\n",
    "        print('6000 mah battery')\n",
    "\n",
    "class OnePlus:\n",
    "    def battery(self):\n",
    "        print('10000 mah battery')\n",
    "\n",
    "class Sony:\n",
    "    def camera(self):\n",
    "        print('1000mp camera')\n",
    "\n",
    "class Mobile(Daily_Object,JBL,Samsung,Nvidia,Lava,Sony,OnePlus):\n",
    "    def __init__(self):\n",
    "        print('Phone object created successfully!!')\n",
    "    ...\n",
    "    pass"
   ]
  },
  {
   "cell_type": "code",
   "execution_count": 24,
   "id": "8612bde3-946a-4945-88a4-211911c6b8eb",
   "metadata": {},
   "outputs": [
    {
     "name": "stdout",
     "output_type": "stream",
     "text": [
      "Phone object created successfully!!\n"
     ]
    }
   ],
   "source": [
    "oneplus = Mobile()"
   ]
  },
  {
   "cell_type": "code",
   "execution_count": 25,
   "id": "2c1cb830-cd6e-44d3-a6f2-7630852ad4b1",
   "metadata": {},
   "outputs": [
    {
     "name": "stdout",
     "output_type": "stream",
     "text": [
      "Purchased a phone case\n"
     ]
    }
   ],
   "source": [
    "oneplus.phone_case()"
   ]
  },
  {
   "cell_type": "code",
   "execution_count": 27,
   "id": "a4285729-90e9-436e-81a1-354db95ad79d",
   "metadata": {},
   "outputs": [
    {
     "name": "stdout",
     "output_type": "stream",
     "text": [
      "1000mp camera\n"
     ]
    }
   ],
   "source": [
    "oneplus.camera()"
   ]
  },
  {
   "cell_type": "code",
   "execution_count": 28,
   "id": "bd433ff2-c8c8-4271-8d92-46d5fae5c845",
   "metadata": {},
   "outputs": [
    {
     "name": "stdout",
     "output_type": "stream",
     "text": [
      "6000 mah battery\n"
     ]
    }
   ],
   "source": [
    "oneplus.battery()"
   ]
  },
  {
   "cell_type": "code",
   "execution_count": 22,
   "id": "b6819c4d-cf1d-4f19-8102-019181fadd83",
   "metadata": {},
   "outputs": [],
   "source": [
    "#Multilevel Inheritance"
   ]
  },
  {
   "cell_type": "code",
   "execution_count": 30,
   "id": "e052d681-e682-4aa2-aaa7-7b6a148a5478",
   "metadata": {},
   "outputs": [],
   "source": [
    "#a = 45\n",
    "#a =  86\n",
    "#print(a)"
   ]
  },
  {
   "cell_type": "code",
   "execution_count": 32,
   "id": "280f1c56-0bd3-4438-a1d9-ee51e9077a2b",
   "metadata": {},
   "outputs": [],
   "source": [
    "class GrandFather:\n",
    "    def land_property(self):\n",
    "        print('Land Property!!')\n",
    "\n",
    "class Father(GrandFather):\n",
    "    def bank_balance(self):\n",
    "        print('Big Money Player, Huge bank Balance')\n",
    "\n",
    "class Son(Father):\n",
    "    def political_power(self):\n",
    "        print('Systummmm!!')\n",
    "\n",
    "class Grandson(Son):\n",
    "    def mind(self):\n",
    "        print('Mind for self study')\n",
    "\n",
    "class Friend(Grandson):\n",
    "    def __init__(self):\n",
    "        print('Nothing')"
   ]
  },
  {
   "cell_type": "code",
   "execution_count": 33,
   "id": "6f5823d4-7319-4775-81f1-90e5dd6b3137",
   "metadata": {},
   "outputs": [
    {
     "name": "stdout",
     "output_type": "stream",
     "text": [
      "Nothing\n"
     ]
    }
   ],
   "source": [
    "Daksh = Friend()"
   ]
  },
  {
   "cell_type": "code",
   "execution_count": 34,
   "id": "983791f6-420f-47c1-8ad9-0c4a4043621d",
   "metadata": {},
   "outputs": [
    {
     "name": "stdout",
     "output_type": "stream",
     "text": [
      "Systummmm!!\n"
     ]
    }
   ],
   "source": [
    "Daksh.political_power()"
   ]
  },
  {
   "cell_type": "code",
   "execution_count": 35,
   "id": "a0a4cf36-f6e4-4500-931d-da7bf59c324d",
   "metadata": {},
   "outputs": [
    {
     "name": "stdout",
     "output_type": "stream",
     "text": [
      "Land Property!!\n"
     ]
    }
   ],
   "source": [
    "Daksh.land_property()"
   ]
  },
  {
   "cell_type": "code",
   "execution_count": 36,
   "id": "6ef099d0-52a7-49f5-9a75-5ef6f3de8ffa",
   "metadata": {},
   "outputs": [],
   "source": [
    "#Hybrid Inheritance\n"
   ]
  },
  {
   "cell_type": "code",
   "execution_count": 39,
   "id": "ab6fba49-8623-4297-b9de-b38a3e78f719",
   "metadata": {},
   "outputs": [],
   "source": [
    "class Hybrid_Class(Mobile,Friend,Audi):\n",
    "    def __init__(self):\n",
    "        print('This is a hybrid class')\n",
    "\n",
    "def info(self):\n",
    "    print('It can call any methods!!!!!!!!')"
   ]
  },
  {
   "cell_type": "code",
   "execution_count": 40,
   "id": "9ec14b2b-3145-4b07-a5b3-1e842a666161",
   "metadata": {},
   "outputs": [
    {
     "name": "stdout",
     "output_type": "stream",
     "text": [
      "This is a hybrid class\n"
     ]
    }
   ],
   "source": [
    "ob = Hybrid_Class()"
   ]
  },
  {
   "cell_type": "code",
   "execution_count": 41,
   "id": "6b42d155-36dd-46f6-accb-5ac7f53e6ef9",
   "metadata": {},
   "outputs": [
    {
     "name": "stdout",
     "output_type": "stream",
     "text": [
      "Speaker boom boomm!!!\n"
     ]
    }
   ],
   "source": [
    "ob.speaker_sound()"
   ]
  },
  {
   "cell_type": "code",
   "execution_count": 43,
   "id": "8b797335-4fc5-4668-aa4d-d76a3bbd8882",
   "metadata": {},
   "outputs": [],
   "source": [
    "class UGC:\n",
    "\n",
    "    def __init__(self):\n",
    "        print('Great percission')\n",
    "\n",
    "    def college_approval(self):\n",
    "        print('List of Colleges!!')\n",
    "\n",
    "class DU(UGC):\n",
    "    def multiple_colleges(self):\n",
    "        print('List of Colleges!!')\n",
    "\n",
    "class IP(UGC):\n",
    "    def multiple_colleges(self):\n",
    "        print('List of colleges')\n",
    "\n",
    "class DTU(UGC):\n",
    "     def multiple_colleges(self):\n",
    "        print('List of colleges')\n",
    "\n",
    "class BHU(UGC):\n",
    "     def multiple_colleges(self):\n",
    "        print('List of colleges')\n",
    "    \n",
    "    "
   ]
  },
  {
   "cell_type": "code",
   "execution_count": 46,
   "id": "6df372d9-8393-48d2-8abd-f30ad822a00c",
   "metadata": {},
   "outputs": [
    {
     "name": "stdout",
     "output_type": "stream",
     "text": [
      "Great percission\n"
     ]
    }
   ],
   "source": [
    "college = BHU()"
   ]
  },
  {
   "cell_type": "code",
   "execution_count": 48,
   "id": "4e10e0ee-a08f-4ab9-88e4-16447d2fe228",
   "metadata": {},
   "outputs": [
    {
     "ename": "TypeError",
     "evalue": "BHU.multiple_colleges() missing 1 required positional argument: 'self'",
     "output_type": "error",
     "traceback": [
      "\u001b[1;31m---------------------------------------------------------------------------\u001b[0m",
      "\u001b[1;31mTypeError\u001b[0m                                 Traceback (most recent call last)",
      "Cell \u001b[1;32mIn[48], line 1\u001b[0m\n\u001b[1;32m----> 1\u001b[0m BHU\u001b[38;5;241m.\u001b[39mmultiple_colleges()\n",
      "\u001b[1;31mTypeError\u001b[0m: BHU.multiple_colleges() missing 1 required positional argument: 'self'"
     ]
    }
   ],
   "source": [
    "BHU.multiple_colleges()"
   ]
  },
  {
   "cell_type": "code",
   "execution_count": 53,
   "id": "bcca3378-9be6-40ab-9dc8-cce5e200b86e",
   "metadata": {},
   "outputs": [
    {
     "data": {
      "text/plain": [
       "[35, 454, 546, 35, 45, 654]"
      ]
     },
     "execution_count": 53,
     "metadata": {},
     "output_type": "execute_result"
    }
   ],
   "source": [
    "a = [35,454,546]\n",
    "b = [35,45,654]\n",
    "\n",
    "a+b"
   ]
  },
  {
   "cell_type": "code",
   "execution_count": null,
   "id": "069dffc9-6f13-4d8a-b82a-325851d83c0a",
   "metadata": {},
   "outputs": [],
   "source": []
  },
  {
   "cell_type": "code",
   "execution_count": 57,
   "id": "8d2f9b89-e502-4a78-8c93-b62e337c668c",
   "metadata": {},
   "outputs": [
    {
     "data": {
      "text/plain": [
       "3"
      ]
     },
     "execution_count": 57,
     "metadata": {},
     "output_type": "execute_result"
    }
   ],
   "source": [
    "def ste(a):\n",
    "    return str(a)\n",
    "\n",
    "a = ste(567)\n",
    "len(a)"
   ]
  },
  {
   "cell_type": "code",
   "execution_count": 59,
   "id": "f595cb51-3b4e-4a98-926d-36b4dc1b4341",
   "metadata": {},
   "outputs": [
    {
     "name": "stdout",
     "output_type": "stream",
     "text": [
      "None <class 'NoneType'>\n"
     ]
    }
   ],
   "source": [
    "a = 45\n",
    "a = None\n",
    "\n",
    "print(a,type(a))"
   ]
  },
  {
   "cell_type": "code",
   "execution_count": 62,
   "id": "63feac3e-6ad1-4316-bbc7-5741ab5bc41c",
   "metadata": {},
   "outputs": [
    {
     "name": "stdout",
     "output_type": "stream",
     "text": [
      "Max speed 200 km/hr\n",
      "F1 Car Speed None\n",
      "Max speed is 250 km/hr\n",
      "F1 Car Speed None\n",
      "Max speed is 300km/hr\n",
      "F1 Car Speed None\n"
     ]
    }
   ],
   "source": [
    "class Car:\n",
    "    def speed(self):\n",
    "        print('Max speed 200 km/hr')\n",
    "\n",
    "    def auto_pilot(self):\n",
    "        print('It supports auto pilot mode')\n",
    "\n",
    "    def info(self):\n",
    "        print('This is just a car object')\n",
    "\n",
    "class BMW(Car):\n",
    "    def speed(self):\n",
    "        print('Max speed is 250 km/hr')\n",
    "\n",
    "    def info(self):\n",
    "        print('A BMW Car object')\n",
    "\n",
    "\n",
    "class Audi(Car):\n",
    "    def speed(self):\n",
    "        print('Max speed is 300km/hr')\n",
    "\n",
    "    def info(self):\n",
    "        print('A Audi Car')\n",
    "\n",
    "\n",
    "for i in (Car,BMW,Audi):\n",
    "    f1  = i()\n",
    "    print('F1 Car Speed',f1.speed())\n"
   ]
  },
  {
   "cell_type": "code",
   "execution_count": 73,
   "id": "239e5eb2-2181-4aef-bb22-57c8c0e06dc6",
   "metadata": {},
   "outputs": [
    {
     "name": "stdout",
     "output_type": "stream",
     "text": [
      "Max speed is 250 km/hr\n",
      "None\n"
     ]
    }
   ],
   "source": [
    "f1 = BMW()\n",
    "print(f1.speed())"
   ]
  },
  {
   "cell_type": "code",
   "execution_count": 74,
   "id": "e0086ac6-9e5b-4001-981a-4d96518ece44",
   "metadata": {},
   "outputs": [
    {
     "name": "stdout",
     "output_type": "stream",
     "text": [
      "Max speed is 250 km/hr\n"
     ]
    }
   ],
   "source": [
    "f1.speed()"
   ]
  },
  {
   "cell_type": "code",
   "execution_count": 92,
   "id": "14e8c94d-349e-43a3-a7a1-c5c1c044a928",
   "metadata": {},
   "outputs": [],
   "source": [
    "class IITM:\n",
    "    def intro(self):\n",
    "        print('Hello candidates!!')\n",
    "\n",
    "    def intro(self,name):\n",
    "        print('Hello {name}. How are you')\n",
    "\n",
    "    def intro(self,name,address):\n",
    "       print(f'Hello {name}, how are you??')\n",
    "       print(f'Your address is {address}')\n",
    "\n",
    "a = IITM()"
   ]
  },
  {
   "cell_type": "code",
   "execution_count": 93,
   "id": "95bd819b-5849-4f49-9c9c-7feb271725a6",
   "metadata": {},
   "outputs": [
    {
     "name": "stdout",
     "output_type": "stream",
     "text": [
      "Hello Komal, how are you??\n",
      "Your address is Delhi\n"
     ]
    }
   ],
   "source": [
    "a.intro('Komal','Delhi')"
   ]
  },
  {
   "cell_type": "code",
   "execution_count": 95,
   "id": "c8b9ef88-b77f-47be-ba3a-db193d45d11b",
   "metadata": {},
   "outputs": [],
   "source": [
    "class IITM:\n",
    "\n",
    "    def intro(self,name = None,address = None):\n",
    "        if(name == None) and (address == None):\n",
    "            print('Hello candidates!!!')\n",
    "\n",
    "        elif name != None:\n",
    "            print(f'Hello {name}. How are you')\n",
    "\n",
    "        elif (name != None) and (address != None):\n",
    "            print(f'Hello {name}, how are you??')\n",
    "            print(f'Your address is {address}')\n",
    "\n",
    "        else:\n",
    "            print('Hello Buddy!!!')"
   ]
  },
  {
   "cell_type": "code",
   "execution_count": 96,
   "id": "935ee75b-f355-4161-8e8c-05174bb83a26",
   "metadata": {},
   "outputs": [
    {
     "name": "stdout",
     "output_type": "stream",
     "text": [
      "Hello Daksh, how are you??\n",
      "Your address is Delhi\n"
     ]
    }
   ],
   "source": [
    "a.intro('Daksh','Delhi')"
   ]
  },
  {
   "cell_type": "code",
   "execution_count": 97,
   "id": "0b51daa0-f36a-4e29-91c9-d241b823f2e7",
   "metadata": {},
   "outputs": [
    {
     "name": "stdout",
     "output_type": "stream",
     "text": [
      "Hello Daksh. How are you\n"
     ]
    }
   ],
   "source": [
    "a = IITM()\n",
    "a.intro('Daksh')"
   ]
  },
  {
   "cell_type": "code",
   "execution_count": 1,
   "id": "bf3f8f6b-b09d-4b3e-8e85-6bcfb2a6c515",
   "metadata": {},
   "outputs": [],
   "source": [
    "#Idea\n",
    "#Not a Physical Object\n"
   ]
  },
  {
   "cell_type": "code",
   "execution_count": 6,
   "id": "125a6f46-9af0-495f-8fc8-5bdc3807bc29",
   "metadata": {},
   "outputs": [
    {
     "name": "stdout",
     "output_type": "stream",
     "text": [
      "Done\n"
     ]
    }
   ],
   "source": [
    "\n",
    "class Daksh(Website):\n",
    "    def login(self):\n",
    "        print('This is a Login method')\n",
    "\n",
    "    def logout(self):\n",
    "        print(' A logout method')\n",
    "\n",
    "\n",
    "google = Daksh()\n",
    "print('Done')"
   ]
  },
  {
   "cell_type": "code",
   "execution_count": 7,
   "id": "68a3e89b-b738-4881-babc-b53bf28d270e",
   "metadata": {},
   "outputs": [
    {
     "name": "stdout",
     "output_type": "stream",
     "text": [
      "This is a Login method\n"
     ]
    }
   ],
   "source": [
    "google.login()"
   ]
  },
  {
   "cell_type": "code",
   "execution_count": 8,
   "id": "456f31d3-da84-47a3-b231-711a593fa828",
   "metadata": {},
   "outputs": [
    {
     "name": "stdout",
     "output_type": "stream",
     "text": [
      " A logout method\n"
     ]
    }
   ],
   "source": [
    "google.logout()"
   ]
  },
  {
   "cell_type": "code",
   "execution_count": null,
   "id": "f7286df7-42fd-4da1-bfd8-843292f9b78c",
   "metadata": {},
   "outputs": [],
   "source": []
  }
 ],
 "metadata": {
  "kernelspec": {
   "display_name": "Python [conda env:base] *",
   "language": "python",
   "name": "conda-base-py"
  },
  "language_info": {
   "codemirror_mode": {
    "name": "ipython",
    "version": 3
   },
   "file_extension": ".py",
   "mimetype": "text/x-python",
   "name": "python",
   "nbconvert_exporter": "python",
   "pygments_lexer": "ipython3",
   "version": "3.12.7"
  }
 },
 "nbformat": 4,
 "nbformat_minor": 5
}
