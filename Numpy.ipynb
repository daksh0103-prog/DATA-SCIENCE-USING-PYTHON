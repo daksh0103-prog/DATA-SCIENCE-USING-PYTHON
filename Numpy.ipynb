{
 "cells": [
  {
   "cell_type": "code",
   "execution_count": 1,
   "id": "5e1694ff-5172-45ab-81e6-622cd162732b",
   "metadata": {},
   "outputs": [
    {
     "name": "stdout",
     "output_type": "stream",
     "text": [
      "Defaulting to user installation because normal site-packages is not writeable\n",
      "Requirement already satisfied: numpy in c:\\programdata\\anaconda3\\lib\\site-packages (1.26.4)\n",
      "Note: you may need to restart the kernel to use updated packages.\n"
     ]
    }
   ],
   "source": [
    "pip install numpy\n"
   ]
  },
  {
   "cell_type": "code",
   "execution_count": 2,
   "id": "e1f2227f-8bfe-403a-ae6e-905fb74e8975",
   "metadata": {},
   "outputs": [],
   "source": [
    "import numpy as np"
   ]
  },
  {
   "cell_type": "code",
   "execution_count": 3,
   "id": "7da45ee9-3b94-4bde-89ab-aa0deb6f9ac7",
   "metadata": {},
   "outputs": [
    {
     "name": "stdout",
     "output_type": "stream",
     "text": [
      "[1 2 3 4 5]\n"
     ]
    }
   ],
   "source": [
    "my_list = [1,2,3,4,5]\n",
    "my_array = np.array(my_list)\n",
    "print(my_array)"
   ]
  },
  {
   "cell_type": "code",
   "execution_count": 4,
   "id": "0f471b4d-9649-439e-8a92-d5732070eb0c",
   "metadata": {},
   "outputs": [],
   "source": [
    "abc = np.zeros(10)"
   ]
  },
  {
   "cell_type": "code",
   "execution_count": 5,
   "id": "558d9806-c1f1-4e86-b193-cfac9277b466",
   "metadata": {},
   "outputs": [
    {
     "data": {
      "text/plain": [
       "array([0., 0., 0., 0., 0., 0., 0., 0., 0., 0.])"
      ]
     },
     "execution_count": 5,
     "metadata": {},
     "output_type": "execute_result"
    }
   ],
   "source": [
    "abc"
   ]
  },
  {
   "cell_type": "code",
   "execution_count": 6,
   "id": "66a1fa57-f7f8-4a0f-a961-f1eb32ecf519",
   "metadata": {},
   "outputs": [
    {
     "data": {
      "text/plain": [
       "array([1., 1., 1.])"
      ]
     },
     "execution_count": 6,
     "metadata": {},
     "output_type": "execute_result"
    }
   ],
   "source": [
    "ones_array = np.ones(3)\n",
    "ones_array"
   ]
  },
  {
   "cell_type": "code",
   "execution_count": 7,
   "id": "e98d1ff9-4174-40e0-b67b-57eae76091a5",
   "metadata": {},
   "outputs": [
    {
     "data": {
      "text/plain": [
       "array([[1., 0., 0., 0., 0.],\n",
       "       [0., 1., 0., 0., 0.],\n",
       "       [0., 0., 1., 0., 0.],\n",
       "       [0., 0., 0., 1., 0.],\n",
       "       [0., 0., 0., 0., 1.]])"
      ]
     },
     "execution_count": 7,
     "metadata": {},
     "output_type": "execute_result"
    }
   ],
   "source": [
    "identify_matrix = np.eye(5)\n",
    "identify_matrix"
   ]
  },
  {
   "cell_type": "code",
   "execution_count": 9,
   "id": "99f93ca8-bf27-439d-a10b-4cb95bd40f02",
   "metadata": {},
   "outputs": [
    {
     "data": {
      "text/plain": [
       "array([1, 3, 5, 7, 9])"
      ]
     },
     "execution_count": 9,
     "metadata": {},
     "output_type": "execute_result"
    }
   ],
   "source": [
    "range_array = np.arange(1,10,2)\n",
    "range_array"
   ]
  },
  {
   "cell_type": "code",
   "execution_count": 11,
   "id": "f437d06d-8501-4ed7-aa09-e00e9f80788f",
   "metadata": {},
   "outputs": [
    {
     "data": {
      "text/plain": [
       "array([10. , 12.5, 15. , 17.5, 20. ])"
      ]
     },
     "execution_count": 11,
     "metadata": {},
     "output_type": "execute_result"
    }
   ],
   "source": [
    "np.linspace(10,20,5)"
   ]
  },
  {
   "cell_type": "code",
   "execution_count": 12,
   "id": "0af29589-6abe-45e8-955d-adfe08d343be",
   "metadata": {},
   "outputs": [
    {
     "data": {
      "text/plain": [
       "array([[0.7419714 , 0.1720149 ],\n",
       "       [0.94470002, 0.40551963]])"
      ]
     },
     "execution_count": 12,
     "metadata": {},
     "output_type": "execute_result"
    }
   ],
   "source": [
    "np.random.rand(2,2)"
   ]
  },
  {
   "cell_type": "code",
   "execution_count": 13,
   "id": "d3a2d27a-c944-44a3-ae47-3c5e1f51e0cf",
   "metadata": {},
   "outputs": [
    {
     "data": {
      "text/plain": [
       "array([[ 0.40776091, -0.27933355,  0.92047407,  0.15695156],\n",
       "       [ 0.6311964 ,  0.06576706,  1.48354061, -0.13325354]])"
      ]
     },
     "execution_count": 13,
     "metadata": {},
     "output_type": "execute_result"
    }
   ],
   "source": [
    "np.random.randn(2,4)"
   ]
  },
  {
   "cell_type": "code",
   "execution_count": 15,
   "id": "b25dcf92-4e07-41e8-a602-e3720629229f",
   "metadata": {},
   "outputs": [
    {
     "data": {
      "text/plain": [
       "array([[ 1,  2,  3,  4,  5],\n",
       "       [ 6,  7,  8,  9, 10]])"
      ]
     },
     "execution_count": 15,
     "metadata": {},
     "output_type": "execute_result"
    }
   ],
   "source": [
    "my_list = [[1,2,3,4,5],[6,7,8,9,10]]\n",
    "my_array = np.array(my_list)\n",
    "my_array"
   ]
  },
  {
   "cell_type": "code",
   "execution_count": 16,
   "id": "7ec23d8d-41d0-4f0a-9141-a5d0008f2cb6",
   "metadata": {},
   "outputs": [
    {
     "data": {
      "text/plain": [
       "array([ 9, 10])"
      ]
     },
     "execution_count": 16,
     "metadata": {},
     "output_type": "execute_result"
    }
   ],
   "source": [
    "my_array[1][3:]"
   ]
  },
  {
   "cell_type": "code",
   "execution_count": 17,
   "id": "d2cc5aaa-cd26-49c1-ad85-4d7c0c928bc3",
   "metadata": {},
   "outputs": [
    {
     "data": {
      "text/plain": [
       "4"
      ]
     },
     "execution_count": 17,
     "metadata": {},
     "output_type": "execute_result"
    }
   ],
   "source": [
    "my_array[0][3]\n"
   ]
  },
  {
   "cell_type": "code",
   "execution_count": 18,
   "id": "f90662de-3e6f-470b-8ad8-d712ef39bba7",
   "metadata": {},
   "outputs": [
    {
     "data": {
      "text/plain": [
       "9"
      ]
     },
     "execution_count": 18,
     "metadata": {},
     "output_type": "execute_result"
    }
   ],
   "source": [
    "my_array[1][3]"
   ]
  },
  {
   "cell_type": "code",
   "execution_count": 19,
   "id": "c0c5baba-83cc-4473-b8b1-d4929cf4a4a5",
   "metadata": {},
   "outputs": [
    {
     "data": {
      "text/plain": [
       "(2, 5)"
      ]
     },
     "execution_count": 19,
     "metadata": {},
     "output_type": "execute_result"
    }
   ],
   "source": [
    "my_array.shape"
   ]
  },
  {
   "cell_type": "code",
   "execution_count": 20,
   "id": "098ac871-9e97-4343-8d11-fa54c72565e1",
   "metadata": {},
   "outputs": [
    {
     "data": {
      "text/plain": [
       "dtype('int32')"
      ]
     },
     "execution_count": 20,
     "metadata": {},
     "output_type": "execute_result"
    }
   ],
   "source": [
    "my_array.dtype"
   ]
  },
  {
   "cell_type": "code",
   "execution_count": 23,
   "id": "4c636c58-0c97-41a7-9290-81cba4b6f64d",
   "metadata": {},
   "outputs": [
    {
     "data": {
      "text/plain": [
       "array([5, 7, 9])"
      ]
     },
     "execution_count": 23,
     "metadata": {},
     "output_type": "execute_result"
    }
   ],
   "source": [
    "array1 = np.array([1,2,3])\n",
    "array2 = np.array([4,5,6])\n",
    "sum_array = array1 + array2\n",
    "sum_array"
   ]
  },
  {
   "cell_type": "code",
   "execution_count": 24,
   "id": "8e62a806-5a7a-426f-aef6-a443f4544eb9",
   "metadata": {},
   "outputs": [
    {
     "data": {
      "text/plain": [
       "array([ 4, 10, 18])"
      ]
     },
     "execution_count": 24,
     "metadata": {},
     "output_type": "execute_result"
    }
   ],
   "source": [
    "product_array = array1 * array2\n",
    "product_array"
   ]
  },
  {
   "cell_type": "code",
   "execution_count": 25,
   "id": "4450983b-3f3a-4634-8f08-79c049b097aa",
   "metadata": {},
   "outputs": [
    {
     "data": {
      "text/plain": [
       "array([1, 2, 3, 4, 5, 6])"
      ]
     },
     "execution_count": 25,
     "metadata": {},
     "output_type": "execute_result"
    }
   ],
   "source": [
    "my_list = [1,2,3,4,5,6]\n",
    "my_array = np.array(my_list)\n",
    "my_array"
   ]
  },
  {
   "cell_type": "code",
   "execution_count": 26,
   "id": "37067b40-8ead-4659-825c-0c1e0415b989",
   "metadata": {},
   "outputs": [],
   "source": [
    "reshaped_array = my_array.reshape(2,3)"
   ]
  },
  {
   "cell_type": "code",
   "execution_count": 27,
   "id": "036aa141-9aa7-47a1-a372-77d81dc83c5a",
   "metadata": {},
   "outputs": [
    {
     "data": {
      "text/plain": [
       "array([[1, 2, 3],\n",
       "       [4, 5, 6]])"
      ]
     },
     "execution_count": 27,
     "metadata": {},
     "output_type": "execute_result"
    }
   ],
   "source": [
    "reshaped_array"
   ]
  },
  {
   "cell_type": "code",
   "execution_count": 28,
   "id": "5eee793e-d7a4-4eeb-acfb-59260aa5361d",
   "metadata": {},
   "outputs": [],
   "source": [
    "array1 = np.array([1,2,3])\n",
    "array2 = np.array([4,5,6])"
   ]
  },
  {
   "cell_type": "code",
   "execution_count": 30,
   "id": "c9d93681-ae20-498e-8501-d80b814e029e",
   "metadata": {},
   "outputs": [
    {
     "data": {
      "text/plain": [
       "array([[1, 2, 3],\n",
       "       [4, 5, 6]])"
      ]
     },
     "execution_count": 30,
     "metadata": {},
     "output_type": "execute_result"
    }
   ],
   "source": [
    "stacked_vertically = np.vstack((array1,array2))\n",
    "stacked_vertically"
   ]
  },
  {
   "cell_type": "code",
   "execution_count": 35,
   "id": "2ddc6c7e-33bd-4d6c-9a50-a065c473ea5d",
   "metadata": {},
   "outputs": [
    {
     "data": {
      "text/plain": [
       "array([1, 2, 3, 4, 5, 6])"
      ]
     },
     "execution_count": 35,
     "metadata": {},
     "output_type": "execute_result"
    }
   ],
   "source": [
    "stacked_horizontally = np.hstack((array1,array2))\n",
    "stacked_horizontally"
   ]
  },
  {
   "cell_type": "code",
   "execution_count": 36,
   "id": "a7c4161e-5efb-4013-ae7f-9a33e609a3e5",
   "metadata": {},
   "outputs": [],
   "source": [
    "orignal_array = np.array([3,1,2,4,5])\n",
    "sorted_array = np.sort(orignal_array)"
   ]
  },
  {
   "cell_type": "code",
   "execution_count": 37,
   "id": "e56e46b2-ef88-4e28-86f3-a3a715476f04",
   "metadata": {},
   "outputs": [
    {
     "data": {
      "text/plain": [
       "array([1, 2, 3, 4, 5])"
      ]
     },
     "execution_count": 37,
     "metadata": {},
     "output_type": "execute_result"
    }
   ],
   "source": [
    "sorted_array"
   ]
  },
  {
   "cell_type": "code",
   "execution_count": 38,
   "id": "25847b39-3e96-4478-bc19-b4bc7e7e7820",
   "metadata": {},
   "outputs": [],
   "source": [
    "descending_array = np.sort(orignal_array)[::-1]"
   ]
  },
  {
   "cell_type": "code",
   "execution_count": 39,
   "id": "3774a7d3-ce65-4f60-9186-0cf292a3f903",
   "metadata": {},
   "outputs": [
    {
     "data": {
      "text/plain": [
       "array([5, 4, 3, 2, 1])"
      ]
     },
     "execution_count": 39,
     "metadata": {},
     "output_type": "execute_result"
    }
   ],
   "source": [
    "descending_array"
   ]
  },
  {
   "cell_type": "code",
   "execution_count": 42,
   "id": "500cb976-4ed2-419e-bb02-3caa16583ec2",
   "metadata": {},
   "outputs": [],
   "source": [
    "orignal_2d_array = np.array([[3,1,12],[6,5,4]])\n",
    "sorted_by_rows = np.sort(orignal_2d_array,axis = 0)[::-1]"
   ]
  },
  {
   "cell_type": "code",
   "execution_count": 41,
   "id": "1dc5f866-0b5b-4422-8a07-2fe63ce2ae66",
   "metadata": {},
   "outputs": [
    {
     "data": {
      "text/plain": [
       "array([[ 3,  1,  4],\n",
       "       [ 6,  5, 12]])"
      ]
     },
     "execution_count": 41,
     "metadata": {},
     "output_type": "execute_result"
    }
   ],
   "source": [
    "sorted_by_rows\n"
   ]
  },
  {
   "cell_type": "code",
   "execution_count": 43,
   "id": "836d44f2-531b-4d6b-8a0f-c9b7e5e5fcb5",
   "metadata": {},
   "outputs": [
    {
     "data": {
      "text/plain": [
       "array([[ 6,  5, 12],\n",
       "       [ 3,  1,  4]])"
      ]
     },
     "execution_count": 43,
     "metadata": {},
     "output_type": "execute_result"
    }
   ],
   "source": [
    "sorted_by_rows"
   ]
  },
  {
   "cell_type": "code",
   "execution_count": 44,
   "id": "25f66a88-d709-4ce8-a1c0-d4a4041d6b77",
   "metadata": {},
   "outputs": [
    {
     "data": {
      "text/plain": [
       "array([[ 3,  1, 12],\n",
       "       [ 6,  5,  4]])"
      ]
     },
     "execution_count": 44,
     "metadata": {},
     "output_type": "execute_result"
    }
   ],
   "source": [
    "orignal_2d_array"
   ]
  },
  {
   "cell_type": "code",
   "execution_count": 45,
   "id": "9e6e502f-1a6d-4dae-b5d4-e40b0527ee8d",
   "metadata": {},
   "outputs": [],
   "source": [
    "sorted_by_rows = np.sort(orignal_2d_array,axis = 1)"
   ]
  },
  {
   "cell_type": "code",
   "execution_count": 46,
   "id": "36123a63-5351-419c-9325-98931754fb1e",
   "metadata": {},
   "outputs": [
    {
     "data": {
      "text/plain": [
       "array([[ 1,  3, 12],\n",
       "       [ 4,  5,  6]])"
      ]
     },
     "execution_count": 46,
     "metadata": {},
     "output_type": "execute_result"
    }
   ],
   "source": [
    "sorted_by_rows\n"
   ]
  },
  {
   "cell_type": "code",
   "execution_count": 47,
   "id": "d5541f2b-7df8-4b68-829f-c5ffe6a902c3",
   "metadata": {},
   "outputs": [],
   "source": [
    "data = np.array([1,2,3,4,5],)\n",
    "condition = data > 2\n",
    "filtered_array = data[condition]"
   ]
  },
  {
   "cell_type": "code",
   "execution_count": 48,
   "id": "a18fd5b5-da61-4bd7-b0ca-44d2f5b2b04f",
   "metadata": {},
   "outputs": [
    {
     "data": {
      "text/plain": [
       "array([3, 4, 5])"
      ]
     },
     "execution_count": 48,
     "metadata": {},
     "output_type": "execute_result"
    }
   ],
   "source": [
    "filtered_array"
   ]
  },
  {
   "cell_type": "code",
   "execution_count": 50,
   "id": "369a1c66-b0c5-42a7-9f56-b5b9b4bfce17",
   "metadata": {},
   "outputs": [],
   "source": [
    "data = np.array([1,2,3,4,5],)\n",
    "condition = (data > 2) & (data > 5)\n",
    "filtered_array = data[condition]"
   ]
  },
  {
   "cell_type": "code",
   "execution_count": 51,
   "id": "230a1ac0-026a-4b7f-a90d-449288a65dc4",
   "metadata": {},
   "outputs": [
    {
     "data": {
      "text/plain": [
       "array([], dtype=int32)"
      ]
     },
     "execution_count": 51,
     "metadata": {},
     "output_type": "execute_result"
    }
   ],
   "source": [
    "filtered_array"
   ]
  },
  {
   "cell_type": "code",
   "execution_count": 52,
   "id": "c1e616c4-1e99-48f0-862e-66e1a04199c1",
   "metadata": {},
   "outputs": [],
   "source": [
    "data = np.array([0,12,1,4,5])\n",
    "indices = np.where(data > 2)\n",
    "filtered_values = data[indices]"
   ]
  },
  {
   "cell_type": "code",
   "execution_count": 53,
   "id": "cb03606d-7ae2-441f-a7c2-5348e4dec7b3",
   "metadata": {},
   "outputs": [
    {
     "data": {
      "text/plain": [
       "array([12,  4,  5])"
      ]
     },
     "execution_count": 53,
     "metadata": {},
     "output_type": "execute_result"
    }
   ],
   "source": [
    "filtered_values"
   ]
  },
  {
   "cell_type": "code",
   "execution_count": 54,
   "id": "8e0c4a89-ba5f-455c-bc70-f4f41fa5bade",
   "metadata": {},
   "outputs": [
    {
     "data": {
      "text/plain": [
       "(array([1, 3, 4], dtype=int64),)"
      ]
     },
     "execution_count": 54,
     "metadata": {},
     "output_type": "execute_result"
    }
   ],
   "source": [
    "indices\n"
   ]
  },
  {
   "cell_type": "code",
   "execution_count": 55,
   "id": "c634c458-14a0-40c6-bc3d-0867ce202338",
   "metadata": {},
   "outputs": [],
   "source": [
    "data = np.array([1,2,3,4,5])\n",
    "condition = data > 2\n",
    "filtered_array = np.extract(condition,data)"
   ]
  },
  {
   "cell_type": "code",
   "execution_count": 56,
   "id": "57cd2187-9ee5-455e-a321-fdf29781eac1",
   "metadata": {},
   "outputs": [
    {
     "data": {
      "text/plain": [
       "array([3, 4, 5])"
      ]
     },
     "execution_count": 56,
     "metadata": {},
     "output_type": "execute_result"
    }
   ],
   "source": [
    "filtered_array"
   ]
  },
  {
   "cell_type": "code",
   "execution_count": 57,
   "id": "1177a28f-ad44-4ed6-a83c-c7df2e484796",
   "metadata": {},
   "outputs": [],
   "source": [
    "data = np.array([[1,2,3],[4,5,6],[7,8,9]])\n"
   ]
  },
  {
   "cell_type": "code",
   "execution_count": 58,
   "id": "3f572578-8778-4f36-b980-7b47054fd855",
   "metadata": {},
   "outputs": [
    {
     "data": {
      "text/plain": [
       "array([[1, 2, 3],\n",
       "       [4, 5, 6],\n",
       "       [7, 8, 9]])"
      ]
     },
     "execution_count": 58,
     "metadata": {},
     "output_type": "execute_result"
    }
   ],
   "source": [
    "data"
   ]
  },
  {
   "cell_type": "code",
   "execution_count": 59,
   "id": "edd671a6-0d22-4f8a-b95e-a17a28203b1f",
   "metadata": {},
   "outputs": [],
   "source": [
    "condition = np.sum(data,axis=1) > 10\n",
    "filtered_data = data[condition]"
   ]
  },
  {
   "cell_type": "code",
   "execution_count": 60,
   "id": "25f10126-23d3-4505-a40c-e21116b729f9",
   "metadata": {},
   "outputs": [
    {
     "data": {
      "text/plain": [
       "array([[4, 5, 6],\n",
       "       [7, 8, 9]])"
      ]
     },
     "execution_count": 60,
     "metadata": {},
     "output_type": "execute_result"
    }
   ],
   "source": [
    "filtered_data"
   ]
  },
  {
   "cell_type": "code",
   "execution_count": 61,
   "id": "cb144011-1a33-4b9d-ab3e-b8786a40d2a6",
   "metadata": {},
   "outputs": [],
   "source": [
    "column_means = np.mean(data,axis = 0)"
   ]
  },
  {
   "cell_type": "code",
   "execution_count": 62,
   "id": "5331d0bc-1df3-45c3-a864-8551a171d346",
   "metadata": {},
   "outputs": [
    {
     "data": {
      "text/plain": [
       "array([4., 5., 6.])"
      ]
     },
     "execution_count": 62,
     "metadata": {},
     "output_type": "execute_result"
    }
   ],
   "source": [
    "column_means"
   ]
  },
  {
   "cell_type": "code",
   "execution_count": 63,
   "id": "9923e0d5-5968-451c-89e9-a5d01d575332",
   "metadata": {},
   "outputs": [
    {
     "data": {
      "text/plain": [
       "array([[1, 2, 3],\n",
       "       [4, 5, 6],\n",
       "       [7, 8, 9]])"
      ]
     },
     "execution_count": 63,
     "metadata": {},
     "output_type": "execute_result"
    }
   ],
   "source": [
    "data"
   ]
  },
  {
   "cell_type": "code",
   "execution_count": 64,
   "id": "588b2021-6d83-45ba-aad4-af9896878b36",
   "metadata": {},
   "outputs": [
    {
     "data": {
      "text/plain": [
       "array([1, 2, 3, 4, 5, 6, 7, 8, 9])"
      ]
     },
     "execution_count": 64,
     "metadata": {},
     "output_type": "execute_result"
    }
   ],
   "source": [
    "data.flatten()"
   ]
  },
  {
   "cell_type": "code",
   "execution_count": null,
   "id": "d3eb74bf-72af-456f-bb25-0b883e198326",
   "metadata": {},
   "outputs": [],
   "source": []
  }
 ],
 "metadata": {
  "kernelspec": {
   "display_name": "Python [conda env:base] *",
   "language": "python",
   "name": "conda-base-py"
  },
  "language_info": {
   "codemirror_mode": {
    "name": "ipython",
    "version": 3
   },
   "file_extension": ".py",
   "mimetype": "text/x-python",
   "name": "python",
   "nbconvert_exporter": "python",
   "pygments_lexer": "ipython3",
   "version": "3.12.7"
  }
 },
 "nbformat": 4,
 "nbformat_minor": 5
}
