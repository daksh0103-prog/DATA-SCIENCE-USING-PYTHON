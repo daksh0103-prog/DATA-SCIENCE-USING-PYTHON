{
 "cells": [
  {
   "cell_type": "code",
   "execution_count": 1,
   "id": "2112eee1-4d0a-465d-9fc6-a4ee30ecf430",
   "metadata": {},
   "outputs": [
    {
     "name": "stdout",
     "output_type": "stream",
     "text": [
      "5678 <class 'int'>\n"
     ]
    }
   ],
   "source": [
    "a = 5678\n",
    "print(a, type(a))"
   ]
  },
  {
   "cell_type": "code",
   "execution_count": 3,
   "id": "6677e00a-497e-4f84-ac56-05ded9fa5ffd",
   "metadata": {},
   "outputs": [
    {
     "name": "stdout",
     "output_type": "stream",
     "text": [
      "Defaulting to user installation because normal site-packages is not writeableNote: you may need to restart the kernel to use updated packages.\n",
      "\n",
      "Requirement already satisfied: qrcode in c:\\users\\chana\\appdata\\roaming\\python\\python312\\site-packages (8.2)\n",
      "Requirement already satisfied: colorama in c:\\programdata\\anaconda3\\lib\\site-packages (from qrcode) (0.4.6)\n"
     ]
    }
   ],
   "source": [
    "pip install qrcode"
   ]
  },
  {
   "cell_type": "markdown",
   "id": "a426fd6a-9cd9-4fbc-b544-5fe2ddf99bae",
   "metadata": {},
   "source": [
    "a = 456 + 8j\n",
    "print(a,type(a))"
   ]
  },
  {
   "cell_type": "code",
   "execution_count": 5,
   "id": "8086345d-0a7c-4bea-9344-5da53415098f",
   "metadata": {},
   "outputs": [
    {
     "name": "stdout",
     "output_type": "stream",
     "text": [
      "(456+8j) <class 'complex'>\n"
     ]
    }
   ],
   "source": [
    "a = 456 + 8j\n",
    "print(a,type(a))"
   ]
  },
  {
   "cell_type": "code",
   "execution_count": null,
   "id": "222aa9d9-cb78-4da1-9462-07feb4972f5c",
   "metadata": {},
   "outputs": [],
   "source": [
    "a = 'Hello Python'"
   ]
  },
  {
   "cell_type": "code",
   "execution_count": 7,
   "id": "cdb21974-17f9-4d81-bb61-0cd8a25f3b7c",
   "metadata": {},
   "outputs": [
    {
     "name": "stdout",
     "output_type": "stream",
     "text": [
      "Twinkle twinkle little star\n",
      "How I wonder what you are\n",
      "Up above the world so high\n",
      "Like a diamond in the sky\n",
      "Twinkle twinkle little star\n",
      "How I wonder what you are\n",
      "\n",
      "\n",
      "\n",
      "Twinkle twinkle little star\n",
      "How I wonder what you are\n",
      "Up above the world so high\n",
      "Like a diamond in the sky\n",
      "Twinkle twinkle little star\n",
      "How I wonder what you are\n"
     ]
    }
   ],
   "source": [
    "poem = '''Twinkle twinkle little star\n",
    "How I wonder what you are\n",
    "Up above the world so high\n",
    "Like a diamond in the sky\n",
    "Twinkle twinkle little star\n",
    "How I wonder what you are\n",
    "\n",
    "\n",
    "\n",
    "Twinkle twinkle little star\n",
    "How I wonder what you are\n",
    "Up above the world so high\n",
    "Like a diamond in the sky\n",
    "Twinkle twinkle little star\n",
    "How I wonder what you are'''\n",
    "\n",
    "print(poem)"
   ]
  },
  {
   "cell_type": "code",
   "execution_count": 8,
   "id": "56069e9a-c4e2-47b1-ae9a-26cc6d796662",
   "metadata": {},
   "outputs": [
    {
     "name": "stdout",
     "output_type": "stream",
     "text": [
      "(2, 3434, 5, 5467) <class 'tuple'>\n"
     ]
    }
   ],
   "source": [
    "a = (2,3434,5,5467)\n",
    "print(a,type(a))"
   ]
  },
  {
   "cell_type": "code",
   "execution_count": 9,
   "id": "81402fca-d6ee-4f66-8cc9-22cd050d6c33",
   "metadata": {},
   "outputs": [
    {
     "name": "stdout",
     "output_type": "stream",
     "text": [
      "[2, 3434, 5, 5467] <class 'list'>\n"
     ]
    }
   ],
   "source": [
    "a = [2,3434,5,5467]\n",
    "print(a,type(a))"
   ]
  },
  {
   "cell_type": "code",
   "execution_count": 10,
   "id": "403f1537-9b0d-4eec-82c2-157b267d413c",
   "metadata": {},
   "outputs": [
    {
     "name": "stdout",
     "output_type": "stream",
     "text": [
      "[2, 3434, 4000, 5467]\n"
     ]
    }
   ],
   "source": [
    "a[2] = 4000\n",
    "print(a)"
   ]
  },
  {
   "cell_type": "code",
   "execution_count": 11,
   "id": "8b672501-60f2-4c4e-83b3-ab85910c6d09",
   "metadata": {},
   "outputs": [
    {
     "name": "stdout",
     "output_type": "stream",
     "text": [
      "5467\n"
     ]
    }
   ],
   "source": [
    "a = (2,3434,5,5467)\n",
    "print(a[3])"
   ]
  },
  {
   "cell_type": "code",
   "execution_count": 12,
   "id": "e2481630-9e52-4208-9210-98148f39634e",
   "metadata": {},
   "outputs": [
    {
     "ename": "TypeError",
     "evalue": "'tuple' object does not support item assignment",
     "output_type": "error",
     "traceback": [
      "\u001b[1;31m---------------------------------------------------------------------------\u001b[0m",
      "\u001b[1;31mTypeError\u001b[0m                                 Traceback (most recent call last)",
      "Cell \u001b[1;32mIn[12], line 1\u001b[0m\n\u001b[1;32m----> 1\u001b[0m a[\u001b[38;5;241m3\u001b[39m] \u001b[38;5;241m=\u001b[39m \u001b[38;5;241m60\u001b[39m\n\u001b[0;32m      2\u001b[0m a\n",
      "\u001b[1;31mTypeError\u001b[0m: 'tuple' object does not support item assignment"
     ]
    }
   ],
   "source": [
    "a[3] = 60\n",
    "a"
   ]
  },
  {
   "cell_type": "code",
   "execution_count": 13,
   "id": "acae2f5d-0d7c-494c-89d5-dc01f040ccff",
   "metadata": {},
   "outputs": [
    {
     "name": "stdout",
     "output_type": "stream",
     "text": [
      "(2, 3434, 5, 900)\n"
     ]
    }
   ],
   "source": [
    "a = list(a)\n",
    "a[3] = 900\n",
    "a = tuple(a)\n",
    "print(a)"
   ]
  },
  {
   "cell_type": "code",
   "execution_count": 14,
   "id": "92cef99b-4baf-4286-88a7-6401e4833941",
   "metadata": {},
   "outputs": [
    {
     "name": "stdout",
     "output_type": "stream",
     "text": [
      "[1, 1, 2, 2, 2, 2, 23, 3, 3, 3, 4, 4, 45]\n"
     ]
    }
   ],
   "source": [
    "std_id = [1,1,2,2,2,2,23,3,3,3,4,4,45]\n",
    "print(std_id)"
   ]
  },
  {
   "cell_type": "code",
   "execution_count": 15,
   "id": "e8493b4a-9f33-4c66-b80a-140ba09efd84",
   "metadata": {},
   "outputs": [
    {
     "data": {
      "text/plain": [
       "[1, 2, 3, 4, 45, 23]"
      ]
     },
     "execution_count": 15,
     "metadata": {},
     "output_type": "execute_result"
    }
   ],
   "source": [
    "std_id = list(set(std_id))\n",
    "std_id"
   ]
  },
  {
   "cell_type": "code",
   "execution_count": 16,
   "id": "be164c74-3d8e-4f34-9b32-7c1835cdf5dd",
   "metadata": {},
   "outputs": [
    {
     "name": "stdout",
     "output_type": "stream",
     "text": [
      "{'Name': 'Aman', 'Age': '20', 'Address': 'Delhi'} <class 'dict'>\n"
     ]
    }
   ],
   "source": [
    "a = {'Name' : 'Aman','Age' : '20','Address' : 'Delhi'}\n",
    "print(a,type(a))"
   ]
  },
  {
   "cell_type": "code",
   "execution_count": 17,
   "id": "98941422-6c40-48eb-8420-d2705eda8fbc",
   "metadata": {},
   "outputs": [
    {
     "name": "stdout",
     "output_type": "stream",
     "text": [
      "{'Name': 'Aman', 'Age': '20', 'Address': 'Noida/Gr Noida'}\n"
     ]
    }
   ],
   "source": [
    "a['Address'] = 'Noida/Gr Noida'\n",
    "print(a)"
   ]
  },
  {
   "cell_type": "code",
   "execution_count": 18,
   "id": "1cf12808-9607-4f9f-a5e2-cb26b7a62d4e",
   "metadata": {},
   "outputs": [
    {
     "name": "stdout",
     "output_type": "stream",
     "text": [
      "{'Name': 'Aman Kumar', 'Age': '20', 'Address': 'Noida/Gr Noida'}\n"
     ]
    }
   ],
   "source": [
    "a['Name'] = 'Aman Kumar'\n",
    "print(a)"
   ]
  },
  {
   "cell_type": "code",
   "execution_count": 21,
   "id": "45cf3c01-a2e0-4f45-8cc3-16753d9c8039",
   "metadata": {},
   "outputs": [
    {
     "name": "stdout",
     "output_type": "stream",
     "text": [
      "{'Region': ['West', 'East', 'North', 'South'], 'Sales': ['345', '346', '453', '456'], 'Profit': ['120', '200', '90', '78']}\n"
     ]
    }
   ],
   "source": [
    "data = {'Region' : ['West','East','North','South'],\n",
    "         'Sales' : ['345','346','453','456'],\n",
    "          'Profit' : ['120','200','90','78']}\n",
    "\n",
    "print(data)"
   ]
  },
  {
   "cell_type": "code",
   "execution_count": 22,
   "id": "948b7df3-43f9-446d-aa59-69c8a53a6a86",
   "metadata": {},
   "outputs": [],
   "source": [
    "import pandas as pd\n",
    "table = pd.DataFrame(data)"
   ]
  },
  {
   "cell_type": "code",
   "execution_count": 23,
   "id": "05c48f42-86de-4a7a-9256-04e0bb15a522",
   "metadata": {},
   "outputs": [
    {
     "data": {
      "text/html": [
       "<div>\n",
       "<style scoped>\n",
       "    .dataframe tbody tr th:only-of-type {\n",
       "        vertical-align: middle;\n",
       "    }\n",
       "\n",
       "    .dataframe tbody tr th {\n",
       "        vertical-align: top;\n",
       "    }\n",
       "\n",
       "    .dataframe thead th {\n",
       "        text-align: right;\n",
       "    }\n",
       "</style>\n",
       "<table border=\"1\" class=\"dataframe\">\n",
       "  <thead>\n",
       "    <tr style=\"text-align: right;\">\n",
       "      <th></th>\n",
       "      <th>Region</th>\n",
       "      <th>Sales</th>\n",
       "      <th>Profit</th>\n",
       "    </tr>\n",
       "  </thead>\n",
       "  <tbody>\n",
       "    <tr>\n",
       "      <th>0</th>\n",
       "      <td>West</td>\n",
       "      <td>345</td>\n",
       "      <td>120</td>\n",
       "    </tr>\n",
       "    <tr>\n",
       "      <th>1</th>\n",
       "      <td>East</td>\n",
       "      <td>346</td>\n",
       "      <td>200</td>\n",
       "    </tr>\n",
       "    <tr>\n",
       "      <th>2</th>\n",
       "      <td>North</td>\n",
       "      <td>453</td>\n",
       "      <td>90</td>\n",
       "    </tr>\n",
       "    <tr>\n",
       "      <th>3</th>\n",
       "      <td>South</td>\n",
       "      <td>456</td>\n",
       "      <td>78</td>\n",
       "    </tr>\n",
       "  </tbody>\n",
       "</table>\n",
       "</div>"
      ],
      "text/plain": [
       "  Region Sales Profit\n",
       "0   West   345    120\n",
       "1   East   346    200\n",
       "2  North   453     90\n",
       "3  South   456     78"
      ]
     },
     "execution_count": 23,
     "metadata": {},
     "output_type": "execute_result"
    }
   ],
   "source": [
    "table\n"
   ]
  },
  {
   "cell_type": "code",
   "execution_count": 24,
   "id": "b3b1cbb8-4eed-48ca-ac61-2f6a370a8898",
   "metadata": {},
   "outputs": [
    {
     "name": "stdout",
     "output_type": "stream",
     "text": [
      "True <class 'bool'>\n"
     ]
    }
   ],
   "source": [
    "a = True\n",
    "print(a,type(a))"
   ]
  },
  {
   "cell_type": "code",
   "execution_count": 29,
   "id": "89f397c3-a007-417d-8351-fdd85a6a125d",
   "metadata": {},
   "outputs": [
    {
     "name": "stdout",
     "output_type": "stream",
     "text": [
      "He is an executive\n"
     ]
    }
   ],
   "source": [
    "salary = 27800\n",
    "\n",
    "if salary>=50000:\n",
    "    print('He is a manager')\n",
    "\n",
    "elif salary>=30000:\n",
    "    print('He is a junior manager')\n",
    "\n",
    "elif salary>=20000:\n",
    "    print('He is an executive')\n",
    "\n",
    "else:\n",
    "    print('He is an intern')"
   ]
  },
  {
   "cell_type": "code",
   "execution_count": 30,
   "id": "89662c03-47ad-454a-bd7f-ec2a9951418f",
   "metadata": {},
   "outputs": [
    {
     "data": {
      "text/plain": [
       "13538"
      ]
     },
     "execution_count": 30,
     "metadata": {},
     "output_type": "execute_result"
    }
   ],
   "source": [
    "import random\n",
    "random.randint(10000,60000)"
   ]
  },
  {
   "cell_type": "code",
   "execution_count": 39,
   "id": "8f0c0ad5-7c31-45d9-b279-a19355d7be6b",
   "metadata": {},
   "outputs": [],
   "source": [
    "import numpy as np\n",
    "database_salary = np.random.randint(10000,60000,5)"
   ]
  },
  {
   "cell_type": "code",
   "execution_count": 40,
   "id": "d9d7c64a-4644-46ab-a52d-fffc3d905283",
   "metadata": {},
   "outputs": [
    {
     "name": "stdout",
     "output_type": "stream",
     "text": [
      "47280\n"
     ]
    }
   ],
   "source": [
    "print(salary)"
   ]
  },
  {
   "cell_type": "code",
   "execution_count": null,
   "id": "ef9efb18-8fda-4046-bcf2-d85c6faf18e8",
   "metadata": {},
   "outputs": [],
   "source": []
  },
  {
   "cell_type": "code",
   "execution_count": 41,
   "id": "f09ef04d-f792-489f-b43a-6a6b65b8ca1e",
   "metadata": {},
   "outputs": [
    {
     "name": "stdout",
     "output_type": "stream",
     "text": [
      "58267 He is a manager\n"
     ]
    }
   ],
   "source": [
    "for i in database_salary:\n",
    "    salary = i\n",
    "\n",
    "if salary>=50000:\n",
    "    print(i, 'He is a manager')\n",
    "\n",
    "elif salary>=30000:\n",
    "    print(i,'He is a junior manager')\n",
    "\n",
    "elif salary>=20000:\n",
    "    print(i,'He is an executive')\n",
    "\n",
    "else:\n",
    "    print(i,'He is an intern')\n",
    "    print(i)"
   ]
  },
  {
   "cell_type": "code",
   "execution_count": 47,
   "id": "6be5869c-41d9-40c2-94d6-4b8252093b3a",
   "metadata": {},
   "outputs": [
    {
     "name": "stdout",
     "output_type": "stream",
     "text": [
      "Mon Jun 30 12:58:15 2025\n",
      "Mon Jun 30 12:58:16 2025\n",
      "Mon Jun 30 12:58:17 2025\n",
      "Mon Jun 30 12:58:18 2025\n",
      "Mon Jun 30 12:58:19 2025\n",
      "Mon Jun 30 12:58:20 2025\n",
      "Mon Jun 30 12:58:21 2025\n",
      "Mon Jun 30 12:58:22 2025\n",
      "Mon Jun 30 12:58:23 2025\n",
      "Mon Jun 30 12:58:24 2025\n",
      "Mon Jun 30 12:58:25 2025\n",
      "Mon Jun 30 12:58:26 2025\n",
      "Mon Jun 30 12:58:27 2025\n",
      "Mon Jun 30 12:58:28 2025\n",
      "Mon Jun 30 12:58:29 2025\n",
      "Mon Jun 30 12:58:30 2025\n",
      "Mon Jun 30 12:58:31 2025\n",
      "Mon Jun 30 12:58:32 2025\n",
      "Mon Jun 30 12:58:33 2025\n",
      "Mon Jun 30 12:58:34 2025\n",
      "Mon Jun 30 12:58:35 2025\n",
      "Mon Jun 30 12:58:36 2025\n",
      "Mon Jun 30 12:58:37 2025\n",
      "Mon Jun 30 12:58:38 2025\n",
      "Mon Jun 30 12:58:39 2025\n",
      "Mon Jun 30 12:58:40 2025\n",
      "Mon Jun 30 12:58:41 2025\n",
      "Mon Jun 30 12:58:42 2025\n",
      "Mon Jun 30 12:58:43 2025\n",
      "Mon Jun 30 12:58:44 2025\n",
      "Mon Jun 30 12:58:45 2025\n",
      "Mon Jun 30 12:58:46 2025\n",
      "Mon Jun 30 12:58:47 2025\n",
      "Mon Jun 30 12:58:48 2025\n",
      "Mon Jun 30 12:58:49 2025\n",
      "Mon Jun 30 12:58:50 2025\n",
      "Mon Jun 30 12:58:51 2025\n",
      "Mon Jun 30 12:58:52 2025\n",
      "Mon Jun 30 12:58:53 2025\n",
      "Mon Jun 30 12:58:54 2025\n",
      "Mon Jun 30 12:58:55 2025\n",
      "Mon Jun 30 12:58:56 2025\n",
      "Mon Jun 30 12:58:57 2025\n",
      "Mon Jun 30 12:58:58 2025\n",
      "Mon Jun 30 12:58:59 2025\n",
      "Mon Jun 30 12:59:00 2025\n",
      "Mon Jun 30 12:59:01 2025\n",
      "Mon Jun 30 12:59:02 2025\n",
      "Mon Jun 30 12:59:03 2025\n",
      "Mon Jun 30 12:59:04 2025\n",
      "Mon Jun 30 12:59:05 2025\n",
      "Mon Jun 30 12:59:06 2025\n",
      "Mon Jun 30 12:59:07 2025\n",
      "Mon Jun 30 12:59:08 2025\n",
      "Mon Jun 30 12:59:09 2025\n",
      "Mon Jun 30 12:59:10 2025\n",
      "Mon Jun 30 12:59:11 2025\n",
      "Mon Jun 30 12:59:12 2025\n",
      "Mon Jun 30 12:59:13 2025\n",
      "Mon Jun 30 12:59:14 2025\n",
      "Mon Jun 30 12:59:15 2025\n",
      "Mon Jun 30 12:59:16 2025\n",
      "Mon Jun 30 12:59:17 2025\n",
      "Mon Jun 30 12:59:18 2025\n",
      "Mon Jun 30 12:59:19 2025\n",
      "Mon Jun 30 12:59:20 2025\n",
      "Mon Jun 30 12:59:21 2025\n",
      "Mon Jun 30 12:59:22 2025\n",
      "Mon Jun 30 12:59:23 2025\n",
      "Mon Jun 30 12:59:24 2025\n",
      "Mon Jun 30 12:59:25 2025\n",
      "Mon Jun 30 12:59:26 2025\n",
      "Mon Jun 30 12:59:27 2025\n",
      "Mon Jun 30 12:59:28 2025\n",
      "Mon Jun 30 12:59:29 2025\n",
      "Mon Jun 30 12:59:30 2025\n",
      "Mon Jun 30 12:59:31 2025\n",
      "Mon Jun 30 12:59:32 2025\n",
      "Mon Jun 30 12:59:33 2025\n",
      "Mon Jun 30 12:59:34 2025\n",
      "Mon Jun 30 12:59:35 2025\n",
      "Mon Jun 30 12:59:36 2025\n",
      "Mon Jun 30 12:59:37 2025\n",
      "Mon Jun 30 12:59:38 2025\n",
      "Mon Jun 30 12:59:39 2025\n",
      "Mon Jun 30 12:59:40 2025\n",
      "Mon Jun 30 12:59:41 2025\n",
      "Mon Jun 30 12:59:42 2025\n",
      "Mon Jun 30 12:59:43 2025\n",
      "Mon Jun 30 12:59:44 2025\n",
      "Mon Jun 30 12:59:45 2025\n",
      "Mon Jun 30 12:59:46 2025\n",
      "Mon Jun 30 12:59:47 2025\n",
      "Mon Jun 30 12:59:48 2025\n",
      "Mon Jun 30 12:59:49 2025\n",
      "Mon Jun 30 12:59:50 2025\n",
      "Mon Jun 30 12:59:51 2025\n",
      "Mon Jun 30 12:59:52 2025\n",
      "Mon Jun 30 12:59:53 2025\n",
      "Mon Jun 30 12:59:54 2025\n"
     ]
    }
   ],
   "source": [
    "import time\n",
    "for i in range(100):\n",
    "    print(time.asctime())\n",
    "    time.sleep(1)"
   ]
  },
  {
   "cell_type": "code",
   "execution_count": 48,
   "id": "0acc5fe2-d812-4501-88f0-5a9674f00afa",
   "metadata": {},
   "outputs": [
    {
     "name": "stdout",
     "output_type": "stream",
     "text": [
      "Mon Jun 30 12:59:55 2025\n",
      "Mon Jun 30 12:59:56 2025\n",
      "Mon Jun 30 12:59:57 2025\n",
      "Mon Jun 30 12:59:58 2025\n",
      "Mon Jun 30 12:59:59 2025\n",
      "Mon Jun 30 13:00:00 2025\n",
      "Mon Jun 30 13:00:01 2025\n",
      "Mon Jun 30 13:00:02 2025\n",
      "Mon Jun 30 13:00:03 2025\n",
      "Mon Jun 30 13:00:04 2025\n",
      "Mon Jun 30 13:00:05 2025\n",
      "Mon Jun 30 13:00:06 2025\n",
      "Mon Jun 30 13:00:07 2025\n",
      "Mon Jun 30 13:00:08 2025\n",
      "Mon Jun 30 13:00:09 2025\n",
      "Mon Jun 30 13:00:10 2025\n",
      "Mon Jun 30 13:00:11 2025\n",
      "Mon Jun 30 13:00:12 2025\n",
      "Mon Jun 30 13:00:13 2025\n",
      "Mon Jun 30 13:00:14 2025\n",
      "Mon Jun 30 13:00:15 2025\n",
      "Mon Jun 30 13:00:16 2025\n",
      "Mon Jun 30 13:00:17 2025\n",
      "Mon Jun 30 13:00:18 2025\n",
      "Mon Jun 30 13:00:19 2025\n",
      "Mon Jun 30 13:00:20 2025\n",
      "Mon Jun 30 13:00:21 2025\n",
      "Mon Jun 30 13:00:22 2025\n",
      "Mon Jun 30 13:00:23 2025\n",
      "Mon Jun 30 13:00:24 2025\n",
      "Mon Jun 30 13:00:25 2025\n",
      "Mon Jun 30 13:00:26 2025\n",
      "Mon Jun 30 13:00:27 2025\n",
      "Mon Jun 30 13:00:28 2025\n",
      "Mon Jun 30 13:00:29 2025\n",
      "Mon Jun 30 13:00:30 2025\n",
      "Mon Jun 30 13:00:31 2025\n",
      "Mon Jun 30 13:00:32 2025\n",
      "Mon Jun 30 13:00:33 2025\n",
      "Mon Jun 30 13:00:34 2025\n",
      "Mon Jun 30 13:00:35 2025\n",
      "Mon Jun 30 13:00:36 2025\n",
      "Mon Jun 30 13:00:37 2025\n",
      "Mon Jun 30 13:00:38 2025\n",
      "Mon Jun 30 13:00:39 2025\n",
      "Mon Jun 30 13:00:40 2025\n",
      "Mon Jun 30 13:00:41 2025\n",
      "Mon Jun 30 13:00:42 2025\n",
      "Mon Jun 30 13:00:43 2025\n",
      "Mon Jun 30 13:00:44 2025\n",
      "Mon Jun 30 13:00:45 2025\n",
      "Mon Jun 30 13:00:46 2025\n",
      "Mon Jun 30 13:00:47 2025\n",
      "Mon Jun 30 13:00:48 2025\n",
      "Mon Jun 30 13:00:49 2025\n",
      "Mon Jun 30 13:00:50 2025\n",
      "Mon Jun 30 13:00:51 2025\n",
      "Mon Jun 30 13:00:52 2025\n",
      "Mon Jun 30 13:00:53 2025\n",
      "Mon Jun 30 13:00:54 2025\n",
      "Mon Jun 30 13:00:55 2025\n",
      "Mon Jun 30 13:00:56 2025\n",
      "Mon Jun 30 13:00:57 2025\n",
      "Mon Jun 30 13:00:58 2025\n",
      "Mon Jun 30 13:00:59 2025\n",
      "Mon Jun 30 13:01:00 2025\n",
      "Mon Jun 30 13:01:01 2025\n",
      "Mon Jun 30 13:01:02 2025\n",
      "Mon Jun 30 13:01:03 2025\n",
      "Mon Jun 30 13:01:04 2025\n",
      "Mon Jun 30 13:01:05 2025\n",
      "Mon Jun 30 13:01:06 2025\n",
      "Mon Jun 30 13:01:07 2025\n",
      "Mon Jun 30 13:01:08 2025\n",
      "Mon Jun 30 13:01:09 2025\n",
      "Mon Jun 30 13:01:10 2025\n",
      "Mon Jun 30 13:01:11 2025\n",
      "Mon Jun 30 13:01:12 2025\n",
      "Mon Jun 30 13:01:13 2025\n",
      "Mon Jun 30 13:01:14 2025\n",
      "Mon Jun 30 13:01:15 2025\n",
      "Mon Jun 30 13:01:16 2025\n",
      "Mon Jun 30 13:01:17 2025\n",
      "Mon Jun 30 13:01:18 2025\n",
      "Mon Jun 30 13:01:19 2025\n",
      "Mon Jun 30 13:01:20 2025\n",
      "Mon Jun 30 13:01:21 2025\n",
      "Mon Jun 30 13:01:22 2025\n",
      "Mon Jun 30 13:01:23 2025\n",
      "Mon Jun 30 13:01:24 2025\n",
      "Mon Jun 30 13:01:25 2025\n",
      "Mon Jun 30 13:01:26 2025\n",
      "Mon Jun 30 13:01:27 2025\n",
      "Mon Jun 30 13:01:28 2025\n",
      "Mon Jun 30 13:01:29 2025\n",
      "Mon Jun 30 13:01:30 2025\n",
      "Mon Jun 30 13:01:31 2025\n",
      "Mon Jun 30 13:01:32 2025\n",
      "Mon Jun 30 13:01:33 2025\n",
      "Mon Jun 30 13:01:34 2025\n"
     ]
    }
   ],
   "source": [
    "import time\n",
    "for i in range(100):\n",
    "    print(time.asctime())\n",
    "    time.sleep(1)\n",
    "    "
   ]
  },
  {
   "cell_type": "code",
   "execution_count": 51,
   "id": "c4fddba3-678a-46c6-861c-ce2aebde7d89",
   "metadata": {},
   "outputs": [
    {
     "name": "stdout",
     "output_type": "stream",
     "text": [
      "Mon Jun 30 13:06:36 2025\n"
     ]
    }
   ],
   "source": [
    "import time\n",
    "for i in range(100):\n",
    "    print(time.asctime())\n",
    "    time.sleep(1)\n",
    "    display(clear=True)"
   ]
  },
  {
   "cell_type": "code",
   "execution_count": null,
   "id": "2fc04758-b1fa-4911-8a93-4953b66ede6d",
   "metadata": {},
   "outputs": [],
   "source": []
  },
  {
   "cell_type": "code",
   "execution_count": null,
   "id": "eda30929-bee1-4168-ab71-9aa218b32486",
   "metadata": {},
   "outputs": [],
   "source": []
  }
 ],
 "metadata": {
  "kernelspec": {
   "display_name": "Python [conda env:base] *",
   "language": "python",
   "name": "conda-base-py"
  },
  "language_info": {
   "codemirror_mode": {
    "name": "ipython",
    "version": 3
   },
   "file_extension": ".py",
   "mimetype": "text/x-python",
   "name": "python",
   "nbconvert_exporter": "python",
   "pygments_lexer": "ipython3",
   "version": "3.12.7"
  }
 },
 "nbformat": 4,
 "nbformat_minor": 5
}
